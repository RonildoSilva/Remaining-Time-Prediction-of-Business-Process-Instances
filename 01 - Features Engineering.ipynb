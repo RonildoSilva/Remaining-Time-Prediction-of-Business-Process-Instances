{
 "cells": [
  {
   "cell_type": "code",
   "execution_count": 1,
   "id": "483f4a9c",
   "metadata": {},
   "outputs": [],
   "source": [
    "import warnings\n",
    "warnings.filterwarnings('ignore')"
   ]
  },
  {
   "cell_type": "code",
   "execution_count": 2,
   "id": "145d3f98",
   "metadata": {},
   "outputs": [],
   "source": [
    "from numpy.random import seed\n",
    "seed(42)"
   ]
  },
  {
   "cell_type": "code",
   "execution_count": 3,
   "id": "fb581674",
   "metadata": {},
   "outputs": [],
   "source": [
    "import os\n",
    "import pandas as pd\n",
    "import math\n",
    "import numpy as np"
   ]
  },
  {
   "cell_type": "code",
   "execution_count": 4,
   "id": "552e1cbc",
   "metadata": {},
   "outputs": [
    {
     "name": "stdout",
     "output_type": "stream",
     "text": [
      "Requirement already satisfied: wget in c:\\users\\ronildo\\appdata\\local\\programs\\python\\python38\\lib\\site-packages (3.2)\n",
      "\n",
      "[notice] A new release of pip available: 22.1.2 -> 22.2\n",
      "[notice] To update, run: python.exe -m pip install --upgrade pip\n"
     ]
    }
   ],
   "source": [
    "! pip install wget"
   ]
  },
  {
   "cell_type": "code",
   "execution_count": 5,
   "id": "80fac84f",
   "metadata": {},
   "outputs": [],
   "source": [
    "import wget\n",
    "import os.path\n",
    "\n",
    "if(not os.path.exists('finale.csv')):\n",
    "    wget.download('https://data.4tu.nl/ndownloader/files/23993303')"
   ]
  },
  {
   "cell_type": "code",
   "execution_count": 6,
   "id": "89ffceed",
   "metadata": {},
   "outputs": [],
   "source": [
    "df_finale = pd.read_csv('finale.csv', index_col=0).reset_index()"
   ]
  },
  {
   "cell_type": "code",
   "execution_count": 7,
   "id": "b8da3b4e",
   "metadata": {},
   "outputs": [
    {
     "data": {
      "text/plain": [
       "Index(['Case ID', 'Activity', 'Resource', 'Complete Timestamp', 'Variant',\n",
       "       'Variant index', 'Variant.1', 'seriousness', 'customer', 'product',\n",
       "       'responsible_section', 'seriousness_2', 'service_level', 'service_type',\n",
       "       'support_section', 'workgroup'],\n",
       "      dtype='object')"
      ]
     },
     "execution_count": 7,
     "metadata": {},
     "output_type": "execute_result"
    }
   ],
   "source": [
    "df_finale.columns"
   ]
  },
  {
   "cell_type": "code",
   "execution_count": 8,
   "id": "1319adb3",
   "metadata": {},
   "outputs": [
    {
     "data": {
      "text/plain": [
       "(21348, 16)"
      ]
     },
     "execution_count": 8,
     "metadata": {},
     "output_type": "execute_result"
    }
   ],
   "source": [
    "df_finale.shape"
   ]
  },
  {
   "cell_type": "markdown",
   "id": "8c7c86fc",
   "metadata": {},
   "source": [
    "String to datetime conversion"
   ]
  },
  {
   "cell_type": "code",
   "execution_count": 9,
   "id": "fe2074ac",
   "metadata": {},
   "outputs": [],
   "source": [
    "df_finale['Complete Timestamp'] = pd.to_datetime(df_finale['Complete Timestamp'])"
   ]
  },
  {
   "cell_type": "markdown",
   "id": "b61f6fb9",
   "metadata": {},
   "source": [
    "Sorting case ids by early timestamp"
   ]
  },
  {
   "cell_type": "code",
   "execution_count": 11,
   "id": "eb7fbaf4",
   "metadata": {},
   "outputs": [],
   "source": [
    "sorted_time_cases = df_finale.sort_values('Complete Timestamp')['Case ID'].drop_duplicates().values"
   ]
  },
  {
   "cell_type": "markdown",
   "id": "9a67d29a",
   "metadata": {},
   "source": [
    "#### Feature creation\n",
    "- **Duration**: Duration of previous activity\n",
    "- **Passed Time**: Passed time between first activity and current one\n",
    "- **Time to conclusion**: Remaining time to process finishes"
   ]
  },
  {
   "cell_type": "code",
   "execution_count": 12,
   "id": "8d5dea23",
   "metadata": {},
   "outputs": [
    {
     "name": "stderr",
     "output_type": "stream",
     "text": [
      "100%|██████████| 4580/4580 [06:53<00:00, 11.09it/s]\n"
     ]
    }
   ],
   "source": [
    "from tqdm import tqdm\n",
    "\n",
    "data = []\n",
    "\n",
    "for case in tqdm(sorted_time_cases):\n",
    "    #print(case)\n",
    "    df_case = df_finale[df_finale['Case ID'] == case]\n",
    "    df_case['Complete Timestamp Shift'] = df_case['Complete Timestamp'].shift(1)\n",
    "    \n",
    "    ##datetime\n",
    "    df_case['Duration'] = df_case['Complete Timestamp'] - df_case['Complete Timestamp Shift']\n",
    "    \n",
    "    ## day as float \n",
    "    df_case['Duration Float'] = df_case['Duration'] / pd.to_timedelta(1, unit='D')\n",
    "    df_case['Duration Float'] = df_case['Duration Float'].fillna(0).round(4)\n",
    "    \n",
    "    time_to_conclusion = []\n",
    "    total_time = df_case['Duration Float'].sum()\n",
    "    \n",
    "    for time in df_case['Duration Float']:\n",
    "        total_time = total_time - time\n",
    "        time_to_conclusion.append(total_time)\n",
    "        \n",
    "    df_case['Time to conclusion'] = time_to_conclusion\n",
    "    df_case['Time to conclusion'] = df_case['Time to conclusion'].round(4)\n",
    "    \n",
    "    df_case['Passed Time'] = df_case['Time to conclusion'].iloc[::-1].values\n",
    "    df_case['Passed Time'] = df_case['Passed Time'].round(4)\n",
    "    \n",
    "    df_case['Step'] = np.arange(1, df_case.shape[0]+1)    \n",
    "    \n",
    "    data.append(df_case)"
   ]
  },
  {
   "cell_type": "markdown",
   "id": "d0530199",
   "metadata": {},
   "source": [
    "Example:"
   ]
  },
  {
   "cell_type": "code",
   "execution_count": 13,
   "id": "a449a0bb",
   "metadata": {},
   "outputs": [
    {
     "data": {
      "text/html": [
       "<div>\n",
       "<style scoped>\n",
       "    .dataframe tbody tr th:only-of-type {\n",
       "        vertical-align: middle;\n",
       "    }\n",
       "\n",
       "    .dataframe tbody tr th {\n",
       "        vertical-align: top;\n",
       "    }\n",
       "\n",
       "    .dataframe thead th {\n",
       "        text-align: right;\n",
       "    }\n",
       "</style>\n",
       "<table border=\"1\" class=\"dataframe\">\n",
       "  <thead>\n",
       "    <tr style=\"text-align: right;\">\n",
       "      <th></th>\n",
       "      <th>Step</th>\n",
       "      <th>Duration Float</th>\n",
       "      <th>Passed Time</th>\n",
       "      <th>Time to conclusion</th>\n",
       "    </tr>\n",
       "  </thead>\n",
       "  <tbody>\n",
       "    <tr>\n",
       "      <th>8109</th>\n",
       "      <td>1</td>\n",
       "      <td>0.0000</td>\n",
       "      <td>-0.0000</td>\n",
       "      <td>33.6809</td>\n",
       "    </tr>\n",
       "    <tr>\n",
       "      <th>8110</th>\n",
       "      <td>2</td>\n",
       "      <td>17.9590</td>\n",
       "      <td>15.0002</td>\n",
       "      <td>15.7219</td>\n",
       "    </tr>\n",
       "    <tr>\n",
       "      <th>8111</th>\n",
       "      <td>3</td>\n",
       "      <td>0.7217</td>\n",
       "      <td>15.0002</td>\n",
       "      <td>15.0002</td>\n",
       "    </tr>\n",
       "    <tr>\n",
       "      <th>8112</th>\n",
       "      <td>4</td>\n",
       "      <td>0.0000</td>\n",
       "      <td>15.7219</td>\n",
       "      <td>15.0002</td>\n",
       "    </tr>\n",
       "    <tr>\n",
       "      <th>8113</th>\n",
       "      <td>5</td>\n",
       "      <td>15.0002</td>\n",
       "      <td>33.6809</td>\n",
       "      <td>-0.0000</td>\n",
       "    </tr>\n",
       "  </tbody>\n",
       "</table>\n",
       "</div>"
      ],
      "text/plain": [
       "      Step  Duration Float  Passed Time  Time to conclusion\n",
       "8109     1          0.0000      -0.0000             33.6809\n",
       "8110     2         17.9590      15.0002             15.7219\n",
       "8111     3          0.7217      15.0002             15.0002\n",
       "8112     4          0.0000      15.7219             15.0002\n",
       "8113     5         15.0002      33.6809             -0.0000"
      ]
     },
     "execution_count": 13,
     "metadata": {},
     "output_type": "execute_result"
    }
   ],
   "source": [
    "df_case[['Step', 'Duration Float', 'Passed Time', 'Time to conclusion']]"
   ]
  },
  {
   "cell_type": "code",
   "execution_count": 14,
   "id": "270b57a3",
   "metadata": {},
   "outputs": [],
   "source": [
    "appended_data = pd.concat(data)"
   ]
  },
  {
   "cell_type": "code",
   "execution_count": 15,
   "id": "5c3f478c",
   "metadata": {},
   "outputs": [],
   "source": [
    "pd.DataFrame(appended_data).to_csv('finale_time_features.csv', index=False)"
   ]
  }
 ],
 "metadata": {
  "kernelspec": {
   "display_name": "Python 3 (ipykernel)",
   "language": "python",
   "name": "python3"
  },
  "language_info": {
   "codemirror_mode": {
    "name": "ipython",
    "version": 3
   },
   "file_extension": ".py",
   "mimetype": "text/x-python",
   "name": "python",
   "nbconvert_exporter": "python",
   "pygments_lexer": "ipython3",
   "version": "3.8.10"
  }
 },
 "nbformat": 4,
 "nbformat_minor": 5
}
