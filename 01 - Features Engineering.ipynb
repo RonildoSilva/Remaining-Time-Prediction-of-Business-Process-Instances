{
 "cells": [
  {
   "cell_type": "code",
   "execution_count": 1,
   "id": "483f4a9c",
   "metadata": {},
   "outputs": [],
   "source": [
    "import warnings\n",
    "warnings.filterwarnings('ignore')"
   ]
  },
  {
   "cell_type": "code",
   "execution_count": 2,
   "id": "145d3f98",
   "metadata": {},
   "outputs": [],
   "source": [
    "from numpy.random import seed\n",
    "seed(42)"
   ]
  },
  {
   "cell_type": "code",
   "execution_count": 3,
   "id": "fb581674",
   "metadata": {},
   "outputs": [],
   "source": [
    "import os\n",
    "import pandas as pd\n",
    "import math\n",
    "import numpy as np"
   ]
  },
  {
   "cell_type": "code",
   "execution_count": 4,
   "id": "552e1cbc",
   "metadata": {},
   "outputs": [
    {
     "name": "stdout",
     "output_type": "stream",
     "text": [
      "Requirement already satisfied: wget in c:\\users\\ronildo\\appdata\\local\\programs\\python\\python38\\lib\\site-packages (3.2)\n",
      "\n",
      "[notice] A new release of pip available: 22.1.2 -> 22.2\n",
      "[notice] To update, run: python.exe -m pip install --upgrade pip\n"
     ]
    }
   ],
   "source": [
    "! pip install wget"
   ]
  },
  {
   "cell_type": "code",
   "execution_count": 5,
   "id": "80fac84f",
   "metadata": {},
   "outputs": [],
   "source": [
    "import wget\n",
    "import os.path\n",
    "\n",
    "if(not os.path.exists('finale.csv')):\n",
    "    wget.download('https://data.4tu.nl/ndownloader/files/23993303')"
   ]
  },
  {
   "cell_type": "code",
   "execution_count": 6,
   "id": "89ffceed",
   "metadata": {},
   "outputs": [],
   "source": [
    "df_finale = pd.read_csv('finale.csv', index_col=0).reset_index()"
   ]
  },
  {
   "cell_type": "code",
   "execution_count": 7,
   "id": "b8da3b4e",
   "metadata": {},
   "outputs": [
    {
     "data": {
      "text/plain": [
       "Index(['Case ID', 'Activity', 'Resource', 'Complete Timestamp', 'Variant',\n",
       "       'Variant index', 'Variant.1', 'seriousness', 'customer', 'product',\n",
       "       'responsible_section', 'seriousness_2', 'service_level', 'service_type',\n",
       "       'support_section', 'workgroup'],\n",
       "      dtype='object')"
      ]
     },
     "execution_count": 7,
     "metadata": {},
     "output_type": "execute_result"
    }
   ],
   "source": [
    "df_finale.columns"
   ]
  },
  {
   "cell_type": "code",
   "execution_count": 8,
   "id": "1319adb3",
   "metadata": {},
   "outputs": [
    {
     "data": {
      "text/plain": [
       "(21348, 16)"
      ]
     },
     "execution_count": 8,
     "metadata": {},
     "output_type": "execute_result"
    }
   ],
   "source": [
    "df_finale.shape"
   ]
  },
  {
   "cell_type": "markdown",
   "id": "f3eccffb",
   "metadata": {},
   "source": [
    "String to datetime conversion"
   ]
  },
  {
   "cell_type": "code",
   "execution_count": 9,
   "id": "fe2074ac",
   "metadata": {},
   "outputs": [],
   "source": [
    "df_finale['Complete Timestamp'] = pd.to_datetime(df_finale['Complete Timestamp'])"
   ]
  },
  {
   "cell_type": "markdown",
   "id": "bef2a7f8",
   "metadata": {},
   "source": [
    "Sorting case ids by early timestamp"
   ]
  },
  {
   "cell_type": "code",
   "execution_count": 10,
   "id": "eb7fbaf4",
   "metadata": {},
   "outputs": [],
   "source": [
    "sorted_time_cases = df_finale.sort_values('Complete Timestamp')['Case ID'].drop_duplicates().values"
   ]
  },
  {
   "cell_type": "markdown",
   "id": "598e8381",
   "metadata": {},
   "source": [
    "#### Feature creation\n",
    "- **Duration**: Duration of previous activity\n",
    "- **Passed Time**: Passed time between first activity and current one\n",
    "- **Time to conclusion**: Remaining time to process finishes"
   ]
  },
  {
   "cell_type": "code",
   "execution_count": 19,
   "id": "8d5dea23",
   "metadata": {},
   "outputs": [
    {
     "name": "stderr",
     "output_type": "stream",
     "text": [
      "  0%|          | 0/4580 [00:00<?, ?it/s]"
     ]
    },
    {
     "name": "stdout",
     "output_type": "stream",
     "text": [
      "Case 3608\n"
     ]
    },
    {
     "name": "stderr",
     "output_type": "stream",
     "text": [
      "\n"
     ]
    }
   ],
   "source": [
    "from tqdm import tqdm\n",
    "\n",
    "data = []\n",
    "\n",
    "for case in tqdm(sorted_time_cases):\n",
    "    #print(case)\n",
    "    df_case = df_finale[df_finale['Case ID'] == case]\n",
    "    df_case['Complete Timestamp Shift'] = df_case['Complete Timestamp'].shift(1)\n",
    "    \n",
    "    ##datetime\n",
    "    df_case['Duration'] = df_case['Complete Timestamp'] - df_case['Complete Timestamp Shift']\n",
    "    \n",
    "    ## day as float \n",
    "    df_case['Duration Float'] = df_case['Duration'] / pd.to_timedelta(1, unit='D')\n",
    "    df_case['Duration Float'] = df_case['Duration Float'].fillna(0).round(4)\n",
    "    \n",
    "    time_to_conclusion = []\n",
    "    total_time = df_case['Duration Float'].sum()\n",
    "    \n",
    "    for time in df_case['Duration Float']:\n",
    "        total_time = total_time - time\n",
    "        time_to_conclusion.append(total_time)\n",
    "        \n",
    "    df_case['Time to conclusion'] = time_to_conclusion\n",
    "    df_case['Time to conclusion'] = df_case['Time to conclusion'].round(4)\n",
    "    \n",
    "    df_case['Passed Time'] = df_case['Time to conclusion'].iloc[::-1].values\n",
    "    df_case['Passed Time'] = df_case['Passed Time'].round(4)\n",
    "    \n",
    "    df_case['Step'] = np.arange(1, df_case.shape[0]+1)    \n",
    "    \n",
    "    data.append(df_case)"
   ]
  },
  {
   "cell_type": "code",
   "execution_count": 13,
   "id": "9c472a6c",
   "metadata": {},
   "outputs": [
    {
     "data": {
      "text/html": [
       "<div>\n",
       "<style scoped>\n",
       "    .dataframe tbody tr th:only-of-type {\n",
       "        vertical-align: middle;\n",
       "    }\n",
       "\n",
       "    .dataframe tbody tr th {\n",
       "        vertical-align: top;\n",
       "    }\n",
       "\n",
       "    .dataframe thead th {\n",
       "        text-align: right;\n",
       "    }\n",
       "</style>\n",
       "<table border=\"1\" class=\"dataframe\">\n",
       "  <thead>\n",
       "    <tr style=\"text-align: right;\">\n",
       "      <th></th>\n",
       "      <th>Case ID</th>\n",
       "      <th>Activity</th>\n",
       "      <th>Resource</th>\n",
       "      <th>Complete Timestamp</th>\n",
       "      <th>Variant</th>\n",
       "      <th>Variant index</th>\n",
       "      <th>Variant.1</th>\n",
       "      <th>seriousness</th>\n",
       "      <th>customer</th>\n",
       "      <th>product</th>\n",
       "      <th>...</th>\n",
       "      <th>service_level</th>\n",
       "      <th>service_type</th>\n",
       "      <th>support_section</th>\n",
       "      <th>workgroup</th>\n",
       "      <th>Complete Timestamp Shift</th>\n",
       "      <th>Duration</th>\n",
       "      <th>Duration Float</th>\n",
       "      <th>Time to conclusion</th>\n",
       "      <th>Passed Time</th>\n",
       "      <th>Step</th>\n",
       "    </tr>\n",
       "  </thead>\n",
       "  <tbody>\n",
       "    <tr>\n",
       "      <th>16857</th>\n",
       "      <td>Case 3608</td>\n",
       "      <td>Assign seriousness</td>\n",
       "      <td>Value 2</td>\n",
       "      <td>2010-01-13 08:40:25</td>\n",
       "      <td>Variant 33</td>\n",
       "      <td>33</td>\n",
       "      <td>Variant 33</td>\n",
       "      <td>Value 1</td>\n",
       "      <td>Value 63</td>\n",
       "      <td>Value 3</td>\n",
       "      <td>...</td>\n",
       "      <td>Value 2</td>\n",
       "      <td>Value 1</td>\n",
       "      <td>Value 4</td>\n",
       "      <td>Value 3</td>\n",
       "      <td>NaT</td>\n",
       "      <td>NaT</td>\n",
       "      <td>0.0000</td>\n",
       "      <td>31.0087</td>\n",
       "      <td>0.0000</td>\n",
       "      <td>1</td>\n",
       "    </tr>\n",
       "    <tr>\n",
       "      <th>16858</th>\n",
       "      <td>Case 3608</td>\n",
       "      <td>Take in charge ticket</td>\n",
       "      <td>Value 2</td>\n",
       "      <td>2010-01-29 08:52:27</td>\n",
       "      <td>Variant 33</td>\n",
       "      <td>33</td>\n",
       "      <td>Variant 33</td>\n",
       "      <td>Value 1</td>\n",
       "      <td>Value 63</td>\n",
       "      <td>Value 3</td>\n",
       "      <td>...</td>\n",
       "      <td>Value 2</td>\n",
       "      <td>Value 1</td>\n",
       "      <td>Value 4</td>\n",
       "      <td>Value 3</td>\n",
       "      <td>2010-01-13 08:40:25</td>\n",
       "      <td>16 days 00:12:02</td>\n",
       "      <td>16.0084</td>\n",
       "      <td>15.0003</td>\n",
       "      <td>0.0000</td>\n",
       "      <td>2</td>\n",
       "    </tr>\n",
       "    <tr>\n",
       "      <th>16859</th>\n",
       "      <td>Case 3608</td>\n",
       "      <td>Resolve ticket</td>\n",
       "      <td>Value 2</td>\n",
       "      <td>2010-01-29 08:52:34</td>\n",
       "      <td>Variant 33</td>\n",
       "      <td>33</td>\n",
       "      <td>Variant 33</td>\n",
       "      <td>Value 1</td>\n",
       "      <td>Value 63</td>\n",
       "      <td>Value 3</td>\n",
       "      <td>...</td>\n",
       "      <td>Value 2</td>\n",
       "      <td>Value 1</td>\n",
       "      <td>Value 4</td>\n",
       "      <td>Value 3</td>\n",
       "      <td>2010-01-29 08:52:27</td>\n",
       "      <td>0 days 00:00:07</td>\n",
       "      <td>0.0001</td>\n",
       "      <td>15.0002</td>\n",
       "      <td>15.0002</td>\n",
       "      <td>3</td>\n",
       "    </tr>\n",
       "    <tr>\n",
       "      <th>16860</th>\n",
       "      <td>Case 3608</td>\n",
       "      <td>Closed</td>\n",
       "      <td>Value 5</td>\n",
       "      <td>2010-02-13 08:52:48</td>\n",
       "      <td>Variant 33</td>\n",
       "      <td>33</td>\n",
       "      <td>Variant 33</td>\n",
       "      <td>Value 1</td>\n",
       "      <td>Value 63</td>\n",
       "      <td>Value 3</td>\n",
       "      <td>...</td>\n",
       "      <td>Value 2</td>\n",
       "      <td>Value 1</td>\n",
       "      <td>Value 4</td>\n",
       "      <td>Value 3</td>\n",
       "      <td>2010-01-29 08:52:34</td>\n",
       "      <td>15 days 00:00:14</td>\n",
       "      <td>15.0002</td>\n",
       "      <td>0.0000</td>\n",
       "      <td>15.0003</td>\n",
       "      <td>4</td>\n",
       "    </tr>\n",
       "    <tr>\n",
       "      <th>16861</th>\n",
       "      <td>Case 3608</td>\n",
       "      <td>Closed</td>\n",
       "      <td>Value 5</td>\n",
       "      <td>2010-02-13 08:52:48</td>\n",
       "      <td>Variant 33</td>\n",
       "      <td>33</td>\n",
       "      <td>Variant 33</td>\n",
       "      <td>Value 1</td>\n",
       "      <td>Value 63</td>\n",
       "      <td>Value 3</td>\n",
       "      <td>...</td>\n",
       "      <td>Value 2</td>\n",
       "      <td>Value 1</td>\n",
       "      <td>Value 4</td>\n",
       "      <td>Value 3</td>\n",
       "      <td>2010-02-13 08:52:48</td>\n",
       "      <td>0 days 00:00:00</td>\n",
       "      <td>0.0000</td>\n",
       "      <td>0.0000</td>\n",
       "      <td>31.0087</td>\n",
       "      <td>5</td>\n",
       "    </tr>\n",
       "  </tbody>\n",
       "</table>\n",
       "<p>5 rows × 22 columns</p>\n",
       "</div>"
      ],
      "text/plain": [
       "         Case ID               Activity Resource  Complete Timestamp  \\\n",
       "16857  Case 3608     Assign seriousness  Value 2 2010-01-13 08:40:25   \n",
       "16858  Case 3608  Take in charge ticket  Value 2 2010-01-29 08:52:27   \n",
       "16859  Case 3608         Resolve ticket  Value 2 2010-01-29 08:52:34   \n",
       "16860  Case 3608                 Closed  Value 5 2010-02-13 08:52:48   \n",
       "16861  Case 3608                 Closed  Value 5 2010-02-13 08:52:48   \n",
       "\n",
       "          Variant  Variant index   Variant.1 seriousness  customer  product  \\\n",
       "16857  Variant 33             33  Variant 33     Value 1  Value 63  Value 3   \n",
       "16858  Variant 33             33  Variant 33     Value 1  Value 63  Value 3   \n",
       "16859  Variant 33             33  Variant 33     Value 1  Value 63  Value 3   \n",
       "16860  Variant 33             33  Variant 33     Value 1  Value 63  Value 3   \n",
       "16861  Variant 33             33  Variant 33     Value 1  Value 63  Value 3   \n",
       "\n",
       "       ... service_level service_type support_section workgroup  \\\n",
       "16857  ...       Value 2      Value 1         Value 4   Value 3   \n",
       "16858  ...       Value 2      Value 1         Value 4   Value 3   \n",
       "16859  ...       Value 2      Value 1         Value 4   Value 3   \n",
       "16860  ...       Value 2      Value 1         Value 4   Value 3   \n",
       "16861  ...       Value 2      Value 1         Value 4   Value 3   \n",
       "\n",
       "      Complete Timestamp Shift         Duration Duration Float  \\\n",
       "16857                      NaT              NaT         0.0000   \n",
       "16858      2010-01-13 08:40:25 16 days 00:12:02        16.0084   \n",
       "16859      2010-01-29 08:52:27  0 days 00:00:07         0.0001   \n",
       "16860      2010-01-29 08:52:34 15 days 00:00:14        15.0002   \n",
       "16861      2010-02-13 08:52:48  0 days 00:00:00         0.0000   \n",
       "\n",
       "      Time to conclusion  Passed Time  Step  \n",
       "16857            31.0087       0.0000     1  \n",
       "16858            15.0003       0.0000     2  \n",
       "16859            15.0002      15.0002     3  \n",
       "16860             0.0000      15.0003     4  \n",
       "16861             0.0000      31.0087     5  \n",
       "\n",
       "[5 rows x 22 columns]"
      ]
     },
     "execution_count": 13,
     "metadata": {},
     "output_type": "execute_result"
    }
   ],
   "source": [
    "df_case.head()"
   ]
  },
  {
   "cell_type": "code",
   "execution_count": 12,
   "id": "9f83edc0",
   "metadata": {},
   "outputs": [
    {
     "data": {
      "text/plain": [
       "16857   2010-01-13 08:40:25\n",
       "16858   2010-01-29 08:52:27\n",
       "16859   2010-01-29 08:52:34\n",
       "16860   2010-02-13 08:52:48\n",
       "16861   2010-02-13 08:52:48\n",
       "Name: Complete Timestamp, dtype: datetime64[ns]"
      ]
     },
     "execution_count": 12,
     "metadata": {},
     "output_type": "execute_result"
    }
   ],
   "source": [
    "df_case['Complete Timestamp']"
   ]
  },
  {
   "cell_type": "code",
   "execution_count": 20,
   "id": "c0bd0f90",
   "metadata": {},
   "outputs": [
    {
     "data": {
      "text/plain": [
       "8109                   NaT\n",
       "8110   2013-11-28 17:07:59\n",
       "8111   2013-12-16 16:08:53\n",
       "8112   2013-12-17 09:28:06\n",
       "8113   2013-12-17 09:28:07\n",
       "Name: Complete Timestamp, dtype: datetime64[ns]"
      ]
     },
     "execution_count": 20,
     "metadata": {},
     "output_type": "execute_result"
    }
   ],
   "source": [
    "df_case['Complete Timestamp'].shift(1)"
   ]
  },
  {
   "cell_type": "markdown",
   "id": "3a6b8550",
   "metadata": {},
   "source": [
    "Example:"
   ]
  },
  {
   "cell_type": "code",
   "execution_count": null,
   "id": "ffb7a210",
   "metadata": {},
   "outputs": [],
   "source": []
  },
  {
   "cell_type": "code",
   "execution_count": 13,
   "id": "f3856a28",
   "metadata": {},
   "outputs": [
    {
     "data": {
      "text/html": [
       "<div>\n",
       "<style scoped>\n",
       "    .dataframe tbody tr th:only-of-type {\n",
       "        vertical-align: middle;\n",
       "    }\n",
       "\n",
       "    .dataframe tbody tr th {\n",
       "        vertical-align: top;\n",
       "    }\n",
       "\n",
       "    .dataframe thead th {\n",
       "        text-align: right;\n",
       "    }\n",
       "</style>\n",
       "<table border=\"1\" class=\"dataframe\">\n",
       "  <thead>\n",
       "    <tr style=\"text-align: right;\">\n",
       "      <th></th>\n",
       "      <th>Step</th>\n",
       "      <th>Duration Float</th>\n",
       "      <th>Passed Time</th>\n",
       "      <th>Time to conclusion</th>\n",
       "    </tr>\n",
       "  </thead>\n",
       "  <tbody>\n",
       "    <tr>\n",
       "      <th>8109</th>\n",
       "      <td>1</td>\n",
       "      <td>0.0000</td>\n",
       "      <td>-0.0000</td>\n",
       "      <td>33.6809</td>\n",
       "    </tr>\n",
       "    <tr>\n",
       "      <th>8110</th>\n",
       "      <td>2</td>\n",
       "      <td>17.9590</td>\n",
       "      <td>15.0002</td>\n",
       "      <td>15.7219</td>\n",
       "    </tr>\n",
       "    <tr>\n",
       "      <th>8111</th>\n",
       "      <td>3</td>\n",
       "      <td>0.7217</td>\n",
       "      <td>15.0002</td>\n",
       "      <td>15.0002</td>\n",
       "    </tr>\n",
       "    <tr>\n",
       "      <th>8112</th>\n",
       "      <td>4</td>\n",
       "      <td>0.0000</td>\n",
       "      <td>15.7219</td>\n",
       "      <td>15.0002</td>\n",
       "    </tr>\n",
       "    <tr>\n",
       "      <th>8113</th>\n",
       "      <td>5</td>\n",
       "      <td>15.0002</td>\n",
       "      <td>33.6809</td>\n",
       "      <td>-0.0000</td>\n",
       "    </tr>\n",
       "  </tbody>\n",
       "</table>\n",
       "</div>"
      ],
      "text/plain": [
       "      Step  Duration Float  Passed Time  Time to conclusion\n",
       "8109     1          0.0000      -0.0000             33.6809\n",
       "8110     2         17.9590      15.0002             15.7219\n",
       "8111     3          0.7217      15.0002             15.0002\n",
       "8112     4          0.0000      15.7219             15.0002\n",
       "8113     5         15.0002      33.6809             -0.0000"
      ]
     },
     "execution_count": 13,
     "metadata": {},
     "output_type": "execute_result"
    }
   ],
   "source": [
    "df_case[['Step', 'Duration Float', 'Passed Time', 'Time to conclusion']]"
   ]
  },
  {
   "cell_type": "code",
   "execution_count": 14,
   "id": "270b57a3",
   "metadata": {},
   "outputs": [],
   "source": [
    "appended_data = pd.concat(data)"
   ]
  },
  {
   "cell_type": "code",
   "execution_count": 15,
   "id": "5c3f478c",
   "metadata": {},
   "outputs": [],
   "source": [
    "pd.DataFrame(appended_data).to_csv('finale_time_features.csv', index=False)"
   ]
  },
  {
   "cell_type": "markdown",
   "id": "e26b587a",
   "metadata": {},
   "source": []
  },
  {
   "cell_type": "code",
   "execution_count": 20,
   "id": "4bb6291b",
   "metadata": {},
   "outputs": [],
   "source": [
    "df_final = pd.read_csv('finale_time_features.csv')"
   ]
  },
  {
   "cell_type": "code",
   "execution_count": 26,
   "id": "7f60e5b2",
   "metadata": {},
   "outputs": [],
   "source": [
    "last_activities = []\n",
    "\n",
    "for name, group in df_final.groupby('Case ID'):\n",
    "    last_activities.append(group.tail(1)['Activity'].values[0])"
   ]
  },
  {
   "cell_type": "code",
   "execution_count": 31,
   "id": "2e6b8cb3",
   "metadata": {},
   "outputs": [
    {
     "data": {
      "text/plain": [
       "Counter({'Closed': 4557,\n",
       "         'Wait': 8,\n",
       "         'VERIFIED': 1,\n",
       "         'Require upgrade': 3,\n",
       "         'Take in charge ticket': 1,\n",
       "         'Resolve ticket': 10})"
      ]
     },
     "execution_count": 31,
     "metadata": {},
     "output_type": "execute_result"
    }
   ],
   "source": [
    "from collections import Counter\n",
    "\n",
    "Counter(last_activities)"
   ]
  },
  {
   "cell_type": "code",
   "execution_count": null,
   "id": "e8f3432e",
   "metadata": {},
   "outputs": [],
   "source": []
  }
 ],
 "metadata": {
  "kernelspec": {
   "display_name": "Python 3 (ipykernel)",
   "language": "python",
   "name": "python3"
  },
  "language_info": {
   "codemirror_mode": {
    "name": "ipython",
    "version": 3
   },
   "file_extension": ".py",
   "mimetype": "text/x-python",
   "name": "python",
   "nbconvert_exporter": "python",
   "pygments_lexer": "ipython3",
   "version": "3.8.10"
  }
 },
 "nbformat": 4,
 "nbformat_minor": 5
}
