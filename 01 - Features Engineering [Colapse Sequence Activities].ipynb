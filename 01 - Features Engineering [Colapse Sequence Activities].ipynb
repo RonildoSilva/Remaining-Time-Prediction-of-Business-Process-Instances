{
 "cells": [
  {
   "cell_type": "code",
   "execution_count": 70,
   "id": "483f4a9c",
   "metadata": {},
   "outputs": [],
   "source": [
    "import warnings\n",
    "warnings.filterwarnings('ignore')"
   ]
  },
  {
   "cell_type": "code",
   "execution_count": 71,
   "id": "145d3f98",
   "metadata": {},
   "outputs": [],
   "source": [
    "from numpy.random import seed\n",
    "seed(42)"
   ]
  },
  {
   "cell_type": "code",
   "execution_count": 72,
   "id": "fb581674",
   "metadata": {},
   "outputs": [],
   "source": [
    "import os\n",
    "import pandas as pd\n",
    "import math\n",
    "import numpy as np"
   ]
  },
  {
   "cell_type": "code",
   "execution_count": 73,
   "id": "552e1cbc",
   "metadata": {},
   "outputs": [
    {
     "name": "stdout",
     "output_type": "stream",
     "text": [
      "Requirement already satisfied: wget in c:\\users\\ronildo\\appdata\\local\\programs\\python\\python38\\lib\\site-packages (3.2)\n",
      "\n",
      "[notice] A new release of pip available: 22.1.2 -> 22.2.2\n",
      "[notice] To update, run: python.exe -m pip install --upgrade pip\n"
     ]
    }
   ],
   "source": [
    "! pip install wget"
   ]
  },
  {
   "cell_type": "code",
   "execution_count": 74,
   "id": "19a93746",
   "metadata": {},
   "outputs": [
    {
     "name": "stdout",
     "output_type": "stream",
     "text": [
      "Requirement already satisfied: holidays in c:\\users\\ronildo\\appdata\\local\\programs\\python\\python38\\lib\\site-packages (0.14.2)\n",
      "Requirement already satisfied: convertdate>=2.3.0 in c:\\users\\ronildo\\appdata\\local\\programs\\python\\python38\\lib\\site-packages (from holidays) (2.4.0)\n",
      "Requirement already satisfied: hijri-converter in c:\\users\\ronildo\\appdata\\local\\programs\\python\\python38\\lib\\site-packages (from holidays) (2.2.4)\n",
      "Requirement already satisfied: python-dateutil in c:\\users\\ronildo\\appdata\\local\\programs\\python\\python38\\lib\\site-packages (from holidays) (2.8.2)\n",
      "Requirement already satisfied: korean-lunar-calendar in c:\\users\\ronildo\\appdata\\local\\programs\\python\\python38\\lib\\site-packages (from holidays) (0.2.1)\n",
      "Requirement already satisfied: pymeeus<=1,>=0.3.13 in c:\\users\\ronildo\\appdata\\local\\programs\\python\\python38\\lib\\site-packages (from convertdate>=2.3.0->holidays) (0.5.11)\n",
      "Requirement already satisfied: six>=1.5 in c:\\users\\ronildo\\appdata\\local\\programs\\python\\python38\\lib\\site-packages (from python-dateutil->holidays) (1.16.0)\n",
      "\n",
      "[notice] A new release of pip available: 22.1.2 -> 22.2.2\n",
      "[notice] To update, run: python.exe -m pip install --upgrade pip\n"
     ]
    }
   ],
   "source": [
    "! pip install holidays"
   ]
  },
  {
   "cell_type": "code",
   "execution_count": null,
   "id": "a91b0f1a",
   "metadata": {},
   "outputs": [],
   "source": []
  },
  {
   "cell_type": "code",
   "execution_count": 75,
   "id": "80fac84f",
   "metadata": {},
   "outputs": [],
   "source": [
    "import wget\n",
    "import os.path\n",
    "\n",
    "if(not os.path.exists('finale.csv')):\n",
    "    wget.download('https://data.4tu.nl/ndownloader/files/23993303')"
   ]
  },
  {
   "cell_type": "code",
   "execution_count": 76,
   "id": "89ffceed",
   "metadata": {},
   "outputs": [],
   "source": [
    "df_finale = pd.read_csv('finale.csv', index_col=0).reset_index()"
   ]
  },
  {
   "cell_type": "code",
   "execution_count": 77,
   "id": "b8da3b4e",
   "metadata": {},
   "outputs": [
    {
     "data": {
      "text/plain": [
       "Index(['Case ID', 'Activity', 'Resource', 'Complete Timestamp', 'Variant',\n",
       "       'Variant index', 'Variant.1', 'seriousness', 'customer', 'product',\n",
       "       'responsible_section', 'seriousness_2', 'service_level', 'service_type',\n",
       "       'support_section', 'workgroup'],\n",
       "      dtype='object')"
      ]
     },
     "execution_count": 77,
     "metadata": {},
     "output_type": "execute_result"
    }
   ],
   "source": [
    "df_finale.columns"
   ]
  },
  {
   "cell_type": "code",
   "execution_count": 78,
   "id": "1319adb3",
   "metadata": {},
   "outputs": [
    {
     "data": {
      "text/plain": [
       "(21348, 16)"
      ]
     },
     "execution_count": 78,
     "metadata": {},
     "output_type": "execute_result"
    }
   ],
   "source": [
    "df_finale.shape"
   ]
  },
  {
   "cell_type": "markdown",
   "id": "f3eccffb",
   "metadata": {},
   "source": [
    "String to datetime conversion"
   ]
  },
  {
   "cell_type": "code",
   "execution_count": 79,
   "id": "fe2074ac",
   "metadata": {},
   "outputs": [],
   "source": [
    "df_finale['Complete Timestamp'] = pd.to_datetime(df_finale['Complete Timestamp'])"
   ]
  },
  {
   "cell_type": "code",
   "execution_count": 80,
   "id": "f8b02933",
   "metadata": {},
   "outputs": [],
   "source": [
    "df_finale['Activity'] = df_finale['Activity'].str.lower()\n",
    "df_finale['Activity'] = df_finale['Activity'].str.replace(' ','')"
   ]
  },
  {
   "cell_type": "markdown",
   "id": "bef2a7f8",
   "metadata": {},
   "source": [
    "Sorting case ids by early timestamp"
   ]
  },
  {
   "cell_type": "code",
   "execution_count": 81,
   "id": "eb7fbaf4",
   "metadata": {},
   "outputs": [],
   "source": [
    "sorted_time_cases = df_finale.sort_values('Complete Timestamp')['Case ID'].drop_duplicates().values"
   ]
  },
  {
   "cell_type": "markdown",
   "id": "598e8381",
   "metadata": {},
   "source": [
    "#### Feature creation\n",
    "- **Duration**: Duration of previous activity\n",
    "- **Passed Time**: Passed time between first activity and current one\n",
    "- **Time to conclusion**: Remaining time to process finishes"
   ]
  },
  {
   "cell_type": "code",
   "execution_count": 82,
   "id": "8d5dea23",
   "metadata": {},
   "outputs": [
    {
     "name": "stderr",
     "output_type": "stream",
     "text": [
      "100%|██████████| 4580/4580 [02:41<00:00, 28.36it/s]\n"
     ]
    }
   ],
   "source": [
    "from tqdm import tqdm\n",
    "\n",
    "data = []\n",
    "\n",
    "for case in tqdm(sorted_time_cases):\n",
    "    #print(case)\n",
    "    df_case = df_finale[df_finale['Case ID'] == case]\n",
    "    df_case['Complete Timestamp Shift'] = df_case['Complete Timestamp'].shift(1)\n",
    "    \n",
    "    ##datetime\n",
    "    df_case['Duration'] = df_case['Complete Timestamp'] - df_case['Complete Timestamp Shift']\n",
    "    \n",
    "    ## colapse\n",
    "    df_case = (df_case.groupby((df_case['Activity'] != df_case['Activity'].shift(1)).cumsum(), as_index=False)\n",
    "               .agg(CaseID=(\"Case ID\", \"first\"), Activity=(\"Activity\", \"first\"), \n",
    "                    Duration=(\"Duration\", \"sum\"), \n",
    "                    #Timestamp=(\"Complete Timestamp\", \"first\")\n",
    "                #Reward_avg=(\"Duration Float\", \"mean\")\n",
    "                )\n",
    "              )\n",
    "    \n",
    "    ## day as float \n",
    "    df_case['Duration Float'] = df_case['Duration'] / pd.to_timedelta(1, unit='D')\n",
    "    df_case['Duration Float'] = df_case['Duration Float'].fillna(0).round(4)\n",
    "    \n",
    "    time_to_conclusion = []\n",
    "    total_time = df_case['Duration Float'].sum()\n",
    "    \n",
    "    for time in df_case['Duration Float']:\n",
    "        total_time = total_time - time\n",
    "        time_to_conclusion.append(total_time)\n",
    "        \n",
    "    df_case['Time to conclusion'] = time_to_conclusion\n",
    "    df_case['Time to conclusion'] = df_case['Time to conclusion'].round(4)\n",
    "    \n",
    "    df_case['Passed Time'] = df_case['Time to conclusion'].iloc[::-1].values\n",
    "    df_case['Passed Time'] = df_case['Passed Time'].round(4)\n",
    "    \n",
    "    df_case['Step'] = np.arange(1, df_case.shape[0]+1)    \n",
    "    \n",
    "    prefix = []\n",
    "    for i in range(1, len(df_case['Activity'])+1):\n",
    "        prefix.append(','.join(df_case['Activity'][:i].values))\n",
    "    \n",
    "    df_case['Prefix'] = prefix\n",
    "    \n",
    "    data.append(df_case)"
   ]
  },
  {
   "cell_type": "code",
   "execution_count": 83,
   "id": "7e606494",
   "metadata": {},
   "outputs": [
    {
     "data": {
      "text/plain": [
       "'\\n(df_case.groupby((df_case[\\'Activity\\'] != df_case[\\'Activity\\'].shift(1)).cumsum(), as_index=False)\\n   .agg(Activity=(\"Activity\", \"first\"), \\n        Duration=(\"Duration\", \"sum\") \\n        #Reward_avg=(\"Duration Float\", \"mean\")\\n       )\\n)\\n'"
      ]
     },
     "execution_count": 83,
     "metadata": {},
     "output_type": "execute_result"
    }
   ],
   "source": [
    "\"\"\"\n",
    "(df_case.groupby((df_case['Activity'] != df_case['Activity'].shift(1)).cumsum(), as_index=False)\n",
    "   .agg(Activity=(\"Activity\", \"first\"), \n",
    "        Duration=(\"Duration\", \"sum\") \n",
    "        #Reward_avg=(\"Duration Float\", \"mean\")\n",
    "       )\n",
    ")\n",
    "\"\"\""
   ]
  },
  {
   "cell_type": "markdown",
   "id": "3a6b8550",
   "metadata": {},
   "source": [
    "Example:"
   ]
  },
  {
   "cell_type": "code",
   "execution_count": 84,
   "id": "f3856a28",
   "metadata": {},
   "outputs": [
    {
     "data": {
      "text/html": [
       "<div>\n",
       "<style scoped>\n",
       "    .dataframe tbody tr th:only-of-type {\n",
       "        vertical-align: middle;\n",
       "    }\n",
       "\n",
       "    .dataframe tbody tr th {\n",
       "        vertical-align: top;\n",
       "    }\n",
       "\n",
       "    .dataframe thead th {\n",
       "        text-align: right;\n",
       "    }\n",
       "</style>\n",
       "<table border=\"1\" class=\"dataframe\">\n",
       "  <thead>\n",
       "    <tr style=\"text-align: right;\">\n",
       "      <th></th>\n",
       "      <th>Step</th>\n",
       "      <th>Duration Float</th>\n",
       "      <th>Passed Time</th>\n",
       "      <th>Time to conclusion</th>\n",
       "    </tr>\n",
       "  </thead>\n",
       "  <tbody>\n",
       "    <tr>\n",
       "      <th>0</th>\n",
       "      <td>1</td>\n",
       "      <td>0.0000</td>\n",
       "      <td>-0.0000</td>\n",
       "      <td>33.6809</td>\n",
       "    </tr>\n",
       "    <tr>\n",
       "      <th>1</th>\n",
       "      <td>2</td>\n",
       "      <td>17.9590</td>\n",
       "      <td>15.0002</td>\n",
       "      <td>15.7219</td>\n",
       "    </tr>\n",
       "    <tr>\n",
       "      <th>2</th>\n",
       "      <td>3</td>\n",
       "      <td>0.7217</td>\n",
       "      <td>15.7219</td>\n",
       "      <td>15.0002</td>\n",
       "    </tr>\n",
       "    <tr>\n",
       "      <th>3</th>\n",
       "      <td>4</td>\n",
       "      <td>15.0002</td>\n",
       "      <td>33.6809</td>\n",
       "      <td>-0.0000</td>\n",
       "    </tr>\n",
       "  </tbody>\n",
       "</table>\n",
       "</div>"
      ],
      "text/plain": [
       "   Step  Duration Float  Passed Time  Time to conclusion\n",
       "0     1          0.0000      -0.0000             33.6809\n",
       "1     2         17.9590      15.0002             15.7219\n",
       "2     3          0.7217      15.7219             15.0002\n",
       "3     4         15.0002      33.6809             -0.0000"
      ]
     },
     "execution_count": 84,
     "metadata": {},
     "output_type": "execute_result"
    }
   ],
   "source": [
    "df_case[['Step', 'Duration Float', 'Passed Time', 'Time to conclusion']]"
   ]
  },
  {
   "cell_type": "code",
   "execution_count": 85,
   "id": "270b57a3",
   "metadata": {},
   "outputs": [],
   "source": [
    "appended_data = pd.concat(data)"
   ]
  },
  {
   "cell_type": "code",
   "execution_count": 86,
   "id": "5c3f478c",
   "metadata": {},
   "outputs": [],
   "source": [
    "#pd.DataFrame(appended_data).to_csv('finale_time_features_colapsed.csv', index=False)\n",
    "pd.DataFrame(appended_data).to_csv('finale_time_features_colapsed_prefixed.csv', index=False)"
   ]
  },
  {
   "cell_type": "markdown",
   "id": "e26b587a",
   "metadata": {},
   "source": []
  },
  {
   "cell_type": "code",
   "execution_count": 87,
   "id": "4bb6291b",
   "metadata": {},
   "outputs": [],
   "source": [
    "df_final = pd.read_csv('finale_time_features_colapsed.csv')"
   ]
  },
  {
   "cell_type": "code",
   "execution_count": 88,
   "id": "c87a3a9a",
   "metadata": {},
   "outputs": [
    {
     "data": {
      "text/plain": [
       "(20404, 7)"
      ]
     },
     "execution_count": 88,
     "metadata": {},
     "output_type": "execute_result"
    }
   ],
   "source": [
    "df_final.shape"
   ]
  },
  {
   "cell_type": "code",
   "execution_count": 92,
   "id": "7f60e5b2",
   "metadata": {},
   "outputs": [],
   "source": [
    "last_activities = []\n",
    "closed_cases = []\n",
    "not_closed_cases = []\n",
    "\n",
    "for name, group in df_final.groupby('CaseID'):\n",
    "    if(group.tail(1)['Activity'].values[0] == 'Closed'):\n",
    "        closed_cases.append(name)\n",
    "    else:\n",
    "        not_closed_cases.append(name)\n",
    "    last_activities.append(group.tail(1)['Activity'].values[0])    "
   ]
  },
  {
   "cell_type": "code",
   "execution_count": 93,
   "id": "2e6b8cb3",
   "metadata": {},
   "outputs": [
    {
     "data": {
      "text/plain": [
       "Counter({'Closed': 4557,\n",
       "         'Wait': 8,\n",
       "         'VERIFIED': 1,\n",
       "         'Require upgrade': 3,\n",
       "         'Take in charge ticket': 1,\n",
       "         'Resolve ticket': 10})"
      ]
     },
     "execution_count": 93,
     "metadata": {},
     "output_type": "execute_result"
    }
   ],
   "source": [
    "from collections import Counter\n",
    "\n",
    "Counter(last_activities)"
   ]
  },
  {
   "cell_type": "code",
   "execution_count": 95,
   "id": "e8f3432e",
   "metadata": {
    "scrolled": true
   },
   "outputs": [],
   "source": [
    "data_case = [\n",
    "    [len(closed_cases), df_final[df_final['CaseID'].isin(closed_cases)].shape[0]],\n",
    "    [len(not_closed_cases), df_final[df_final['CaseID'].isin(not_closed_cases)].shape[0]]\n",
    "]"
   ]
  },
  {
   "cell_type": "code",
   "execution_count": 96,
   "id": "1d7190b2",
   "metadata": {},
   "outputs": [
    {
     "data": {
      "text/html": [
       "<div>\n",
       "<style scoped>\n",
       "    .dataframe tbody tr th:only-of-type {\n",
       "        vertical-align: middle;\n",
       "    }\n",
       "\n",
       "    .dataframe tbody tr th {\n",
       "        vertical-align: top;\n",
       "    }\n",
       "\n",
       "    .dataframe thead th {\n",
       "        text-align: right;\n",
       "    }\n",
       "</style>\n",
       "<table border=\"1\" class=\"dataframe\">\n",
       "  <thead>\n",
       "    <tr style=\"text-align: right;\">\n",
       "      <th></th>\n",
       "      <th># of Cases</th>\n",
       "      <th># Activities</th>\n",
       "    </tr>\n",
       "  </thead>\n",
       "  <tbody>\n",
       "    <tr>\n",
       "      <th>0</th>\n",
       "      <td>4557</td>\n",
       "      <td>20307</td>\n",
       "    </tr>\n",
       "    <tr>\n",
       "      <th>1</th>\n",
       "      <td>23</td>\n",
       "      <td>97</td>\n",
       "    </tr>\n",
       "  </tbody>\n",
       "</table>\n",
       "</div>"
      ],
      "text/plain": [
       "   # of Cases  # Activities\n",
       "0        4557         20307\n",
       "1          23            97"
      ]
     },
     "execution_count": 96,
     "metadata": {},
     "output_type": "execute_result"
    }
   ],
   "source": [
    "pd.DataFrame(data_case, columns=['# of Cases', '# Activities'])"
   ]
  },
  {
   "cell_type": "code",
   "execution_count": 98,
   "id": "fb159a80",
   "metadata": {},
   "outputs": [
    {
     "data": {
      "text/html": [
       "<div>\n",
       "<style scoped>\n",
       "    .dataframe tbody tr th:only-of-type {\n",
       "        vertical-align: middle;\n",
       "    }\n",
       "\n",
       "    .dataframe tbody tr th {\n",
       "        vertical-align: top;\n",
       "    }\n",
       "\n",
       "    .dataframe thead th {\n",
       "        text-align: right;\n",
       "    }\n",
       "</style>\n",
       "<table border=\"1\" class=\"dataframe\">\n",
       "  <thead>\n",
       "    <tr style=\"text-align: right;\">\n",
       "      <th></th>\n",
       "      <th>Duration Float</th>\n",
       "      <th>Time to conclusion</th>\n",
       "      <th>Passed Time</th>\n",
       "      <th>Step</th>\n",
       "    </tr>\n",
       "  </thead>\n",
       "  <tbody>\n",
       "    <tr>\n",
       "      <th>193</th>\n",
       "      <td>0.0000</td>\n",
       "      <td>51.9565</td>\n",
       "      <td>0.0000</td>\n",
       "      <td>1</td>\n",
       "    </tr>\n",
       "    <tr>\n",
       "      <th>194</th>\n",
       "      <td>36.9978</td>\n",
       "      <td>14.9587</td>\n",
       "      <td>14.9586</td>\n",
       "      <td>2</td>\n",
       "    </tr>\n",
       "    <tr>\n",
       "      <th>195</th>\n",
       "      <td>0.0001</td>\n",
       "      <td>14.9586</td>\n",
       "      <td>14.9587</td>\n",
       "      <td>3</td>\n",
       "    </tr>\n",
       "    <tr>\n",
       "      <th>196</th>\n",
       "      <td>14.9586</td>\n",
       "      <td>0.0000</td>\n",
       "      <td>51.9565</td>\n",
       "      <td>4</td>\n",
       "    </tr>\n",
       "  </tbody>\n",
       "</table>\n",
       "</div>"
      ],
      "text/plain": [
       "     Duration Float  Time to conclusion  Passed Time  Step\n",
       "193          0.0000             51.9565       0.0000     1\n",
       "194         36.9978             14.9587      14.9586     2\n",
       "195          0.0001             14.9586      14.9587     3\n",
       "196         14.9586              0.0000      51.9565     4"
      ]
     },
     "execution_count": 98,
     "metadata": {},
     "output_type": "execute_result"
    }
   ],
   "source": [
    "df_final[df_final['CaseID'] == 'Case 10'][['Duration Float','Time to conclusion','Passed Time','Step']]"
   ]
  },
  {
   "cell_type": "code",
   "execution_count": 99,
   "id": "ebe3ce29",
   "metadata": {},
   "outputs": [
    {
     "data": {
      "text/html": [
       "<div>\n",
       "<style scoped>\n",
       "    .dataframe tbody tr th:only-of-type {\n",
       "        vertical-align: middle;\n",
       "    }\n",
       "\n",
       "    .dataframe tbody tr th {\n",
       "        vertical-align: top;\n",
       "    }\n",
       "\n",
       "    .dataframe thead th {\n",
       "        text-align: right;\n",
       "    }\n",
       "</style>\n",
       "<table border=\"1\" class=\"dataframe\">\n",
       "  <thead>\n",
       "    <tr style=\"text-align: right;\">\n",
       "      <th></th>\n",
       "      <th>Duration Float</th>\n",
       "      <th>Time to conclusion</th>\n",
       "      <th>Passed Time</th>\n",
       "      <th>Step</th>\n",
       "    </tr>\n",
       "  </thead>\n",
       "  <tbody>\n",
       "    <tr>\n",
       "      <th>4583</th>\n",
       "      <td>0.0000</td>\n",
       "      <td>44.0052</td>\n",
       "      <td>0.0000</td>\n",
       "      <td>1</td>\n",
       "    </tr>\n",
       "    <tr>\n",
       "      <th>4584</th>\n",
       "      <td>11.7339</td>\n",
       "      <td>32.2713</td>\n",
       "      <td>30.1427</td>\n",
       "      <td>2</td>\n",
       "    </tr>\n",
       "    <tr>\n",
       "      <th>4585</th>\n",
       "      <td>2.1286</td>\n",
       "      <td>30.1427</td>\n",
       "      <td>32.2713</td>\n",
       "      <td>3</td>\n",
       "    </tr>\n",
       "    <tr>\n",
       "      <th>4586</th>\n",
       "      <td>30.1427</td>\n",
       "      <td>0.0000</td>\n",
       "      <td>44.0052</td>\n",
       "      <td>4</td>\n",
       "    </tr>\n",
       "  </tbody>\n",
       "</table>\n",
       "</div>"
      ],
      "text/plain": [
       "      Duration Float  Time to conclusion  Passed Time  Step\n",
       "4583          0.0000             44.0052       0.0000     1\n",
       "4584         11.7339             32.2713      30.1427     2\n",
       "4585          2.1286             30.1427      32.2713     3\n",
       "4586         30.1427              0.0000      44.0052     4"
      ]
     },
     "execution_count": 99,
     "metadata": {},
     "output_type": "execute_result"
    }
   ],
   "source": [
    "df_final[df_final['CaseID'] == 'Case 67'][['Duration Float','Time to conclusion','Passed Time','Step']]"
   ]
  },
  {
   "cell_type": "code",
   "execution_count": null,
   "id": "4049a16d",
   "metadata": {},
   "outputs": [],
   "source": []
  },
  {
   "cell_type": "code",
   "execution_count": null,
   "id": "043d4d43",
   "metadata": {},
   "outputs": [],
   "source": []
  }
 ],
 "metadata": {
  "kernelspec": {
   "display_name": "Python 3 (ipykernel)",
   "language": "python",
   "name": "python3"
  },
  "language_info": {
   "codemirror_mode": {
    "name": "ipython",
    "version": 3
   },
   "file_extension": ".py",
   "mimetype": "text/x-python",
   "name": "python",
   "nbconvert_exporter": "python",
   "pygments_lexer": "ipython3",
   "version": "3.8.10"
  }
 },
 "nbformat": 4,
 "nbformat_minor": 5
}
