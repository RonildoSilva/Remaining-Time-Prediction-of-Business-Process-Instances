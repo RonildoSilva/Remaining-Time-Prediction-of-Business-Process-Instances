{
 "cells": [
  {
   "cell_type": "code",
   "execution_count": 98,
   "id": "483f4a9c",
   "metadata": {},
   "outputs": [],
   "source": [
    "import warnings\n",
    "warnings.filterwarnings('ignore')"
   ]
  },
  {
   "cell_type": "code",
   "execution_count": 99,
   "id": "145d3f98",
   "metadata": {},
   "outputs": [],
   "source": [
    "from numpy.random import seed\n",
    "seed(42)"
   ]
  },
  {
   "cell_type": "code",
   "execution_count": 100,
   "id": "fb581674",
   "metadata": {},
   "outputs": [],
   "source": [
    "import os\n",
    "import pandas as pd\n",
    "import math\n",
    "import numpy as np"
   ]
  },
  {
   "cell_type": "code",
   "execution_count": 101,
   "id": "552e1cbc",
   "metadata": {},
   "outputs": [
    {
     "name": "stdout",
     "output_type": "stream",
     "text": [
      "Requirement already satisfied: wget in c:\\users\\ronildo\\appdata\\local\\programs\\python\\python38\\lib\\site-packages (3.2)\n",
      "\n",
      "[notice] A new release of pip available: 22.1.2 -> 22.2.2\n",
      "[notice] To update, run: python.exe -m pip install --upgrade pip\n"
     ]
    }
   ],
   "source": [
    "! pip install wget"
   ]
  },
  {
   "cell_type": "code",
   "execution_count": 102,
   "id": "19a93746",
   "metadata": {},
   "outputs": [
    {
     "name": "stdout",
     "output_type": "stream",
     "text": [
      "Requirement already satisfied: holidays in c:\\users\\ronildo\\appdata\\local\\programs\\python\\python38\\lib\\site-packages (0.14.2)\n",
      "Requirement already satisfied: hijri-converter in c:\\users\\ronildo\\appdata\\local\\programs\\python\\python38\\lib\\site-packages (from holidays) (2.2.4)\n",
      "Requirement already satisfied: convertdate>=2.3.0 in c:\\users\\ronildo\\appdata\\local\\programs\\python\\python38\\lib\\site-packages (from holidays) (2.4.0)\n",
      "Requirement already satisfied: korean-lunar-calendar in c:\\users\\ronildo\\appdata\\local\\programs\\python\\python38\\lib\\site-packages (from holidays) (0.2.1)\n",
      "Requirement already satisfied: python-dateutil in c:\\users\\ronildo\\appdata\\local\\programs\\python\\python38\\lib\\site-packages (from holidays) (2.8.2)\n",
      "Requirement already satisfied: pymeeus<=1,>=0.3.13 in c:\\users\\ronildo\\appdata\\local\\programs\\python\\python38\\lib\\site-packages (from convertdate>=2.3.0->holidays) (0.5.11)\n",
      "Requirement already satisfied: six>=1.5 in c:\\users\\ronildo\\appdata\\local\\programs\\python\\python38\\lib\\site-packages (from python-dateutil->holidays) (1.16.0)\n",
      "\n",
      "[notice] A new release of pip available: 22.1.2 -> 22.2.2\n",
      "[notice] To update, run: python.exe -m pip install --upgrade pip\n"
     ]
    }
   ],
   "source": [
    "! pip install holidays"
   ]
  },
  {
   "cell_type": "code",
   "execution_count": null,
   "id": "a91b0f1a",
   "metadata": {},
   "outputs": [],
   "source": []
  },
  {
   "cell_type": "code",
   "execution_count": 103,
   "id": "80fac84f",
   "metadata": {},
   "outputs": [],
   "source": [
    "import wget\n",
    "import os.path\n",
    "\n",
    "if(not os.path.exists('finale.csv')):\n",
    "    wget.download('https://data.4tu.nl/ndownloader/files/23993303')"
   ]
  },
  {
   "cell_type": "code",
   "execution_count": 104,
   "id": "89ffceed",
   "metadata": {},
   "outputs": [],
   "source": [
    "df_finale = pd.read_csv('finale.csv', index_col=0).reset_index()"
   ]
  },
  {
   "cell_type": "code",
   "execution_count": 105,
   "id": "b8da3b4e",
   "metadata": {},
   "outputs": [
    {
     "data": {
      "text/plain": [
       "Index(['Case ID', 'Activity', 'Resource', 'Complete Timestamp', 'Variant',\n",
       "       'Variant index', 'Variant.1', 'seriousness', 'customer', 'product',\n",
       "       'responsible_section', 'seriousness_2', 'service_level', 'service_type',\n",
       "       'support_section', 'workgroup'],\n",
       "      dtype='object')"
      ]
     },
     "execution_count": 105,
     "metadata": {},
     "output_type": "execute_result"
    }
   ],
   "source": [
    "df_finale.columns"
   ]
  },
  {
   "cell_type": "code",
   "execution_count": 106,
   "id": "1319adb3",
   "metadata": {},
   "outputs": [
    {
     "data": {
      "text/plain": [
       "(21348, 16)"
      ]
     },
     "execution_count": 106,
     "metadata": {},
     "output_type": "execute_result"
    }
   ],
   "source": [
    "df_finale.shape"
   ]
  },
  {
   "cell_type": "markdown",
   "id": "f3eccffb",
   "metadata": {},
   "source": [
    "String to datetime conversion"
   ]
  },
  {
   "cell_type": "code",
   "execution_count": 107,
   "id": "fe2074ac",
   "metadata": {},
   "outputs": [],
   "source": [
    "df_finale['Complete Timestamp'] = pd.to_datetime(df_finale['Complete Timestamp'])"
   ]
  },
  {
   "cell_type": "code",
   "execution_count": 108,
   "id": "846fd2b7",
   "metadata": {},
   "outputs": [],
   "source": [
    "from datetime import date\n",
    "import holidays\n",
    "\n",
    "it_holidays = holidays.Italy()"
   ]
  },
  {
   "cell_type": "code",
   "execution_count": 109,
   "id": "d2f48609",
   "metadata": {},
   "outputs": [],
   "source": [
    "df_finale['Date'] = df_finale['Complete Timestamp'].dt.strftime(\"%Y-%m-%d\")\n",
    "dates = df_finale['Date'].unique()"
   ]
  },
  {
   "cell_type": "code",
   "execution_count": 110,
   "id": "96c80856",
   "metadata": {},
   "outputs": [
    {
     "data": {
      "text/plain": [
       "30"
      ]
     },
     "execution_count": 110,
     "metadata": {},
     "output_type": "execute_result"
    }
   ],
   "source": [
    "holidays_helpdesk = []\n",
    "\n",
    "for date in dates:\n",
    "    if(date in it_holidays):\n",
    "        holidays_helpdesk.append(date)    \n",
    "\n",
    "len(holidays_helpdesk)"
   ]
  },
  {
   "cell_type": "markdown",
   "id": "bef2a7f8",
   "metadata": {},
   "source": [
    "Sorting case ids by early timestamp"
   ]
  },
  {
   "cell_type": "code",
   "execution_count": 111,
   "id": "eb7fbaf4",
   "metadata": {},
   "outputs": [],
   "source": [
    "sorted_time_cases = df_finale.sort_values('Complete Timestamp')['Case ID'].drop_duplicates().values"
   ]
  },
  {
   "cell_type": "markdown",
   "id": "598e8381",
   "metadata": {},
   "source": [
    "#### Feature creation\n",
    "- **Duration**: Duration of previous activity\n",
    "- **Passed Time**: Passed time between first activity and current one\n",
    "- **Time to conclusion**: Remaining time to process finishes"
   ]
  },
  {
   "cell_type": "code",
   "execution_count": 126,
   "id": "8d5dea23",
   "metadata": {},
   "outputs": [
    {
     "name": "stderr",
     "output_type": "stream",
     "text": [
      "100%|██████████| 4580/4580 [02:43<00:00, 28.05it/s]\n"
     ]
    }
   ],
   "source": [
    "from tqdm import tqdm\n",
    "\n",
    "data = []\n",
    "\n",
    "for case in tqdm(sorted_time_cases):\n",
    "    #print(case)\n",
    "    df_case = df_finale[df_finale['Case ID'] == case]\n",
    "    df_case['Complete Timestamp Shift'] = df_case['Complete Timestamp'].shift(1)\n",
    "    \n",
    "    ##datetime\n",
    "    df_case['Duration'] = df_case['Complete Timestamp'] - df_case['Complete Timestamp Shift']\n",
    "    \n",
    "    ## colapse\n",
    "    df_case = (df_case.groupby((df_case['Activity'] != df_case['Activity'].shift(1)).cumsum(), as_index=False)\n",
    "               .agg(CaseID=(\"Case ID\", \"first\"), Activity=(\"Activity\", \"first\"), Duration=(\"Duration\", \"sum\")\n",
    "                #Reward_avg=(\"Duration Float\", \"mean\")\n",
    "                )\n",
    "              )\n",
    "    \n",
    "    ## day as float \n",
    "    df_case['Duration Float'] = df_case['Duration'] / pd.to_timedelta(1, unit='D')\n",
    "    df_case['Duration Float'] = df_case['Duration Float'].fillna(0).round(4)\n",
    "    \n",
    "    time_to_conclusion = []\n",
    "    total_time = df_case['Duration Float'].sum()\n",
    "    \n",
    "    for time in df_case['Duration Float']:\n",
    "        total_time = total_time - time\n",
    "        time_to_conclusion.append(total_time)\n",
    "        \n",
    "    df_case['Time to conclusion'] = time_to_conclusion\n",
    "    df_case['Time to conclusion'] = df_case['Time to conclusion'].round(4)\n",
    "    \n",
    "    df_case['Passed Time'] = df_case['Time to conclusion'].iloc[::-1].values\n",
    "    df_case['Passed Time'] = df_case['Passed Time'].round(4)\n",
    "    \n",
    "    df_case['Step'] = np.arange(1, df_case.shape[0]+1)    \n",
    "    \n",
    "    data.append(df_case)"
   ]
  },
  {
   "cell_type": "code",
   "execution_count": 127,
   "id": "9c472a6c",
   "metadata": {},
   "outputs": [
    {
     "data": {
      "text/html": [
       "<div>\n",
       "<style scoped>\n",
       "    .dataframe tbody tr th:only-of-type {\n",
       "        vertical-align: middle;\n",
       "    }\n",
       "\n",
       "    .dataframe tbody tr th {\n",
       "        vertical-align: top;\n",
       "    }\n",
       "\n",
       "    .dataframe thead th {\n",
       "        text-align: right;\n",
       "    }\n",
       "</style>\n",
       "<table border=\"1\" class=\"dataframe\">\n",
       "  <thead>\n",
       "    <tr style=\"text-align: right;\">\n",
       "      <th></th>\n",
       "      <th>CaseID</th>\n",
       "      <th>Activity</th>\n",
       "      <th>Duration</th>\n",
       "      <th>Duration Float</th>\n",
       "      <th>Time to conclusion</th>\n",
       "      <th>Passed Time</th>\n",
       "      <th>Step</th>\n",
       "    </tr>\n",
       "  </thead>\n",
       "  <tbody>\n",
       "    <tr>\n",
       "      <th>0</th>\n",
       "      <td>Case 1735</td>\n",
       "      <td>Assign seriousness</td>\n",
       "      <td>0 days 00:00:00</td>\n",
       "      <td>0.0000</td>\n",
       "      <td>33.6809</td>\n",
       "      <td>-0.0000</td>\n",
       "      <td>1</td>\n",
       "    </tr>\n",
       "    <tr>\n",
       "      <th>1</th>\n",
       "      <td>Case 1735</td>\n",
       "      <td>Require upgrade</td>\n",
       "      <td>17 days 23:00:54</td>\n",
       "      <td>17.9590</td>\n",
       "      <td>15.7219</td>\n",
       "      <td>15.0002</td>\n",
       "      <td>2</td>\n",
       "    </tr>\n",
       "    <tr>\n",
       "      <th>2</th>\n",
       "      <td>Case 1735</td>\n",
       "      <td>Resolve ticket</td>\n",
       "      <td>0 days 17:19:14</td>\n",
       "      <td>0.7217</td>\n",
       "      <td>15.0002</td>\n",
       "      <td>15.7219</td>\n",
       "      <td>3</td>\n",
       "    </tr>\n",
       "    <tr>\n",
       "      <th>3</th>\n",
       "      <td>Case 1735</td>\n",
       "      <td>Closed</td>\n",
       "      <td>15 days 00:00:18</td>\n",
       "      <td>15.0002</td>\n",
       "      <td>-0.0000</td>\n",
       "      <td>33.6809</td>\n",
       "      <td>4</td>\n",
       "    </tr>\n",
       "  </tbody>\n",
       "</table>\n",
       "</div>"
      ],
      "text/plain": [
       "      CaseID            Activity         Duration  Duration Float  \\\n",
       "0  Case 1735  Assign seriousness  0 days 00:00:00          0.0000   \n",
       "1  Case 1735     Require upgrade 17 days 23:00:54         17.9590   \n",
       "2  Case 1735      Resolve ticket  0 days 17:19:14          0.7217   \n",
       "3  Case 1735              Closed 15 days 00:00:18         15.0002   \n",
       "\n",
       "   Time to conclusion  Passed Time  Step  \n",
       "0             33.6809      -0.0000     1  \n",
       "1             15.7219      15.0002     2  \n",
       "2             15.0002      15.7219     3  \n",
       "3             -0.0000      33.6809     4  "
      ]
     },
     "execution_count": 127,
     "metadata": {},
     "output_type": "execute_result"
    }
   ],
   "source": [
    "df_case"
   ]
  },
  {
   "cell_type": "code",
   "execution_count": 128,
   "id": "7e606494",
   "metadata": {},
   "outputs": [
    {
     "data": {
      "text/plain": [
       "'\\n(df_case.groupby((df_case[\\'Activity\\'] != df_case[\\'Activity\\'].shift(1)).cumsum(), as_index=False)\\n   .agg(Activity=(\"Activity\", \"first\"), \\n        Duration=(\"Duration\", \"sum\") \\n        #Reward_avg=(\"Duration Float\", \"mean\")\\n       )\\n)\\n'"
      ]
     },
     "execution_count": 128,
     "metadata": {},
     "output_type": "execute_result"
    }
   ],
   "source": [
    "\"\"\"\n",
    "(df_case.groupby((df_case['Activity'] != df_case['Activity'].shift(1)).cumsum(), as_index=False)\n",
    "   .agg(Activity=(\"Activity\", \"first\"), \n",
    "        Duration=(\"Duration\", \"sum\") \n",
    "        #Reward_avg=(\"Duration Float\", \"mean\")\n",
    "       )\n",
    ")\n",
    "\"\"\""
   ]
  },
  {
   "cell_type": "code",
   "execution_count": 129,
   "id": "9f83edc0",
   "metadata": {},
   "outputs": [
    {
     "ename": "KeyError",
     "evalue": "'Complete Timestamp'",
     "output_type": "error",
     "traceback": [
      "\u001b[1;31m---------------------------------------------------------------------------\u001b[0m",
      "\u001b[1;31mKeyError\u001b[0m                                  Traceback (most recent call last)",
      "File \u001b[1;32mc:\\users\\ronildo\\appdata\\local\\programs\\python\\python38\\lib\\site-packages\\pandas\\core\\indexes\\base.py:3621\u001b[0m, in \u001b[0;36mIndex.get_loc\u001b[1;34m(self, key, method, tolerance)\u001b[0m\n\u001b[0;32m   3620\u001b[0m \u001b[38;5;28;01mtry\u001b[39;00m:\n\u001b[1;32m-> 3621\u001b[0m     \u001b[38;5;28;01mreturn\u001b[39;00m \u001b[38;5;28;43mself\u001b[39;49m\u001b[38;5;241;43m.\u001b[39;49m\u001b[43m_engine\u001b[49m\u001b[38;5;241;43m.\u001b[39;49m\u001b[43mget_loc\u001b[49m\u001b[43m(\u001b[49m\u001b[43mcasted_key\u001b[49m\u001b[43m)\u001b[49m\n\u001b[0;32m   3622\u001b[0m \u001b[38;5;28;01mexcept\u001b[39;00m \u001b[38;5;167;01mKeyError\u001b[39;00m \u001b[38;5;28;01mas\u001b[39;00m err:\n",
      "File \u001b[1;32mc:\\users\\ronildo\\appdata\\local\\programs\\python\\python38\\lib\\site-packages\\pandas\\_libs\\index.pyx:136\u001b[0m, in \u001b[0;36mpandas._libs.index.IndexEngine.get_loc\u001b[1;34m()\u001b[0m\n",
      "File \u001b[1;32mc:\\users\\ronildo\\appdata\\local\\programs\\python\\python38\\lib\\site-packages\\pandas\\_libs\\index.pyx:163\u001b[0m, in \u001b[0;36mpandas._libs.index.IndexEngine.get_loc\u001b[1;34m()\u001b[0m\n",
      "File \u001b[1;32mpandas\\_libs\\hashtable_class_helper.pxi:5198\u001b[0m, in \u001b[0;36mpandas._libs.hashtable.PyObjectHashTable.get_item\u001b[1;34m()\u001b[0m\n",
      "File \u001b[1;32mpandas\\_libs\\hashtable_class_helper.pxi:5206\u001b[0m, in \u001b[0;36mpandas._libs.hashtable.PyObjectHashTable.get_item\u001b[1;34m()\u001b[0m\n",
      "\u001b[1;31mKeyError\u001b[0m: 'Complete Timestamp'",
      "\nThe above exception was the direct cause of the following exception:\n",
      "\u001b[1;31mKeyError\u001b[0m                                  Traceback (most recent call last)",
      "Input \u001b[1;32mIn [129]\u001b[0m, in \u001b[0;36m<cell line: 1>\u001b[1;34m()\u001b[0m\n\u001b[1;32m----> 1\u001b[0m \u001b[43mdf_case\u001b[49m\u001b[43m[\u001b[49m\u001b[38;5;124;43m'\u001b[39;49m\u001b[38;5;124;43mComplete Timestamp\u001b[39;49m\u001b[38;5;124;43m'\u001b[39;49m\u001b[43m]\u001b[49m\n",
      "File \u001b[1;32mc:\\users\\ronildo\\appdata\\local\\programs\\python\\python38\\lib\\site-packages\\pandas\\core\\frame.py:3505\u001b[0m, in \u001b[0;36mDataFrame.__getitem__\u001b[1;34m(self, key)\u001b[0m\n\u001b[0;32m   3503\u001b[0m \u001b[38;5;28;01mif\u001b[39;00m \u001b[38;5;28mself\u001b[39m\u001b[38;5;241m.\u001b[39mcolumns\u001b[38;5;241m.\u001b[39mnlevels \u001b[38;5;241m>\u001b[39m \u001b[38;5;241m1\u001b[39m:\n\u001b[0;32m   3504\u001b[0m     \u001b[38;5;28;01mreturn\u001b[39;00m \u001b[38;5;28mself\u001b[39m\u001b[38;5;241m.\u001b[39m_getitem_multilevel(key)\n\u001b[1;32m-> 3505\u001b[0m indexer \u001b[38;5;241m=\u001b[39m \u001b[38;5;28;43mself\u001b[39;49m\u001b[38;5;241;43m.\u001b[39;49m\u001b[43mcolumns\u001b[49m\u001b[38;5;241;43m.\u001b[39;49m\u001b[43mget_loc\u001b[49m\u001b[43m(\u001b[49m\u001b[43mkey\u001b[49m\u001b[43m)\u001b[49m\n\u001b[0;32m   3506\u001b[0m \u001b[38;5;28;01mif\u001b[39;00m is_integer(indexer):\n\u001b[0;32m   3507\u001b[0m     indexer \u001b[38;5;241m=\u001b[39m [indexer]\n",
      "File \u001b[1;32mc:\\users\\ronildo\\appdata\\local\\programs\\python\\python38\\lib\\site-packages\\pandas\\core\\indexes\\base.py:3623\u001b[0m, in \u001b[0;36mIndex.get_loc\u001b[1;34m(self, key, method, tolerance)\u001b[0m\n\u001b[0;32m   3621\u001b[0m     \u001b[38;5;28;01mreturn\u001b[39;00m \u001b[38;5;28mself\u001b[39m\u001b[38;5;241m.\u001b[39m_engine\u001b[38;5;241m.\u001b[39mget_loc(casted_key)\n\u001b[0;32m   3622\u001b[0m \u001b[38;5;28;01mexcept\u001b[39;00m \u001b[38;5;167;01mKeyError\u001b[39;00m \u001b[38;5;28;01mas\u001b[39;00m err:\n\u001b[1;32m-> 3623\u001b[0m     \u001b[38;5;28;01mraise\u001b[39;00m \u001b[38;5;167;01mKeyError\u001b[39;00m(key) \u001b[38;5;28;01mfrom\u001b[39;00m \u001b[38;5;21;01merr\u001b[39;00m\n\u001b[0;32m   3624\u001b[0m \u001b[38;5;28;01mexcept\u001b[39;00m \u001b[38;5;167;01mTypeError\u001b[39;00m:\n\u001b[0;32m   3625\u001b[0m     \u001b[38;5;66;03m# If we have a listlike key, _check_indexing_error will raise\u001b[39;00m\n\u001b[0;32m   3626\u001b[0m     \u001b[38;5;66;03m#  InvalidIndexError. Otherwise we fall through and re-raise\u001b[39;00m\n\u001b[0;32m   3627\u001b[0m     \u001b[38;5;66;03m#  the TypeError.\u001b[39;00m\n\u001b[0;32m   3628\u001b[0m     \u001b[38;5;28mself\u001b[39m\u001b[38;5;241m.\u001b[39m_check_indexing_error(key)\n",
      "\u001b[1;31mKeyError\u001b[0m: 'Complete Timestamp'"
     ]
    }
   ],
   "source": [
    "df_case['Complete Timestamp']"
   ]
  },
  {
   "cell_type": "code",
   "execution_count": null,
   "id": "c0bd0f90",
   "metadata": {},
   "outputs": [],
   "source": [
    "df_case['Complete Timestamp'].shift(1)"
   ]
  },
  {
   "cell_type": "markdown",
   "id": "3a6b8550",
   "metadata": {},
   "source": [
    "Example:"
   ]
  },
  {
   "cell_type": "code",
   "execution_count": 130,
   "id": "f3856a28",
   "metadata": {},
   "outputs": [
    {
     "data": {
      "text/html": [
       "<div>\n",
       "<style scoped>\n",
       "    .dataframe tbody tr th:only-of-type {\n",
       "        vertical-align: middle;\n",
       "    }\n",
       "\n",
       "    .dataframe tbody tr th {\n",
       "        vertical-align: top;\n",
       "    }\n",
       "\n",
       "    .dataframe thead th {\n",
       "        text-align: right;\n",
       "    }\n",
       "</style>\n",
       "<table border=\"1\" class=\"dataframe\">\n",
       "  <thead>\n",
       "    <tr style=\"text-align: right;\">\n",
       "      <th></th>\n",
       "      <th>Step</th>\n",
       "      <th>Duration Float</th>\n",
       "      <th>Passed Time</th>\n",
       "      <th>Time to conclusion</th>\n",
       "    </tr>\n",
       "  </thead>\n",
       "  <tbody>\n",
       "    <tr>\n",
       "      <th>0</th>\n",
       "      <td>1</td>\n",
       "      <td>0.0000</td>\n",
       "      <td>-0.0000</td>\n",
       "      <td>33.6809</td>\n",
       "    </tr>\n",
       "    <tr>\n",
       "      <th>1</th>\n",
       "      <td>2</td>\n",
       "      <td>17.9590</td>\n",
       "      <td>15.0002</td>\n",
       "      <td>15.7219</td>\n",
       "    </tr>\n",
       "    <tr>\n",
       "      <th>2</th>\n",
       "      <td>3</td>\n",
       "      <td>0.7217</td>\n",
       "      <td>15.7219</td>\n",
       "      <td>15.0002</td>\n",
       "    </tr>\n",
       "    <tr>\n",
       "      <th>3</th>\n",
       "      <td>4</td>\n",
       "      <td>15.0002</td>\n",
       "      <td>33.6809</td>\n",
       "      <td>-0.0000</td>\n",
       "    </tr>\n",
       "  </tbody>\n",
       "</table>\n",
       "</div>"
      ],
      "text/plain": [
       "   Step  Duration Float  Passed Time  Time to conclusion\n",
       "0     1          0.0000      -0.0000             33.6809\n",
       "1     2         17.9590      15.0002             15.7219\n",
       "2     3          0.7217      15.7219             15.0002\n",
       "3     4         15.0002      33.6809             -0.0000"
      ]
     },
     "execution_count": 130,
     "metadata": {},
     "output_type": "execute_result"
    }
   ],
   "source": [
    "df_case[['Step', 'Duration Float', 'Passed Time', 'Time to conclusion']]"
   ]
  },
  {
   "cell_type": "code",
   "execution_count": 131,
   "id": "270b57a3",
   "metadata": {},
   "outputs": [],
   "source": [
    "appended_data = pd.concat(data)"
   ]
  },
  {
   "cell_type": "code",
   "execution_count": 132,
   "id": "5c3f478c",
   "metadata": {},
   "outputs": [],
   "source": [
    "pd.DataFrame(appended_data).to_csv('finale_time_features_colapsed.csv', index=False)"
   ]
  },
  {
   "cell_type": "markdown",
   "id": "e26b587a",
   "metadata": {},
   "source": []
  },
  {
   "cell_type": "code",
   "execution_count": null,
   "id": "4bb6291b",
   "metadata": {},
   "outputs": [],
   "source": [
    "df_final = pd.read_csv('finale_time_features_colapsed.csv')"
   ]
  },
  {
   "cell_type": "code",
   "execution_count": null,
   "id": "c87a3a9a",
   "metadata": {},
   "outputs": [],
   "source": [
    "df_final.shape"
   ]
  },
  {
   "cell_type": "code",
   "execution_count": null,
   "id": "7f60e5b2",
   "metadata": {},
   "outputs": [],
   "source": [
    "last_activities = []\n",
    "closed_cases = []\n",
    "not_closed_cases = []\n",
    "\n",
    "for name, group in df_final.groupby('Case ID'):\n",
    "    if(group.tail(1)['Activity'].values[0] == 'Closed'):\n",
    "        closed_cases.append(name)\n",
    "    else:\n",
    "        not_closed_cases.append(name)\n",
    "    last_activities.append(group.tail(1)['Activity'].values[0])    "
   ]
  },
  {
   "cell_type": "code",
   "execution_count": null,
   "id": "2e6b8cb3",
   "metadata": {},
   "outputs": [],
   "source": [
    "from collections import Counter\n",
    "\n",
    "Counter(last_activities)"
   ]
  },
  {
   "cell_type": "code",
   "execution_count": null,
   "id": "e8f3432e",
   "metadata": {
    "scrolled": true
   },
   "outputs": [],
   "source": [
    "data_case = [\n",
    "    [len(closed_cases), df_final[df_final['Case ID'].isin(closed_cases)].shape[0]],\n",
    "    [len(not_closed_cases), df_final[df_final['Case ID'].isin(not_closed_cases)].shape[0]],\n",
    "    []\n",
    "]"
   ]
  },
  {
   "cell_type": "code",
   "execution_count": null,
   "id": "1d7190b2",
   "metadata": {},
   "outputs": [],
   "source": [
    "pd.DataFrame(data_case, columns=['# of Cases', '# Activities'])"
   ]
  },
  {
   "cell_type": "code",
   "execution_count": null,
   "id": "fb159a80",
   "metadata": {},
   "outputs": [],
   "source": [
    "df_final[df_final['Case ID'] == 'Case 10'][['Duration Float','Time to conclusion','Passed Time','Step']]"
   ]
  },
  {
   "cell_type": "code",
   "execution_count": null,
   "id": "ebe3ce29",
   "metadata": {},
   "outputs": [],
   "source": [
    "df_final[df_final['Case ID'] == 'Case 67'][['Duration Float','Time to conclusion','Passed Time','Step']]"
   ]
  },
  {
   "cell_type": "code",
   "execution_count": null,
   "id": "4049a16d",
   "metadata": {},
   "outputs": [],
   "source": []
  },
  {
   "cell_type": "code",
   "execution_count": null,
   "id": "043d4d43",
   "metadata": {},
   "outputs": [],
   "source": []
  }
 ],
 "metadata": {
  "kernelspec": {
   "display_name": "Python 3 (ipykernel)",
   "language": "python",
   "name": "python3"
  },
  "language_info": {
   "codemirror_mode": {
    "name": "ipython",
    "version": 3
   },
   "file_extension": ".py",
   "mimetype": "text/x-python",
   "name": "python",
   "nbconvert_exporter": "python",
   "pygments_lexer": "ipython3",
   "version": "3.8.10"
  }
 },
 "nbformat": 4,
 "nbformat_minor": 5
}
