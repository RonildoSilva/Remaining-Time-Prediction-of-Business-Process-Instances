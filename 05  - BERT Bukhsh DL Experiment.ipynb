{
 "cells": [
  {
   "cell_type": "code",
   "execution_count": 179,
   "id": "5de83000",
   "metadata": {},
   "outputs": [],
   "source": [
    "import warnings\n",
    "warnings.filterwarnings('ignore')"
   ]
  },
  {
   "cell_type": "code",
   "execution_count": 180,
   "id": "9bc0facf",
   "metadata": {},
   "outputs": [],
   "source": [
    "from numpy.random import seed\n",
    "seed(42)\n",
    "\n",
    "import tensorflow\n",
    "tensorflow.random.set_seed(42)"
   ]
  },
  {
   "cell_type": "code",
   "execution_count": 181,
   "id": "890a2b62",
   "metadata": {},
   "outputs": [],
   "source": [
    "import os\n",
    "import pandas as pd\n",
    "import math\n",
    "import numpy as np"
   ]
  },
  {
   "cell_type": "markdown",
   "id": "9f08a2a5",
   "metadata": {},
   "source": [
    "Transformers"
   ]
  },
  {
   "cell_type": "code",
   "execution_count": 182,
   "id": "75076324",
   "metadata": {},
   "outputs": [],
   "source": [
    "#! pip install wget\n",
    "#! pip install transformers"
   ]
  },
  {
   "cell_type": "code",
   "execution_count": 183,
   "id": "f8a57da2",
   "metadata": {},
   "outputs": [],
   "source": [
    "! rm -r train/\n",
    "! rm -r val/\n",
    "! rm -r test/"
   ]
  },
  {
   "cell_type": "code",
   "execution_count": 184,
   "id": "ebd82419",
   "metadata": {},
   "outputs": [],
   "source": [
    "TEXT_CONTENT_ACTIVITY = 'Activity'\n",
    "MAX_LEN = 24"
   ]
  },
  {
   "cell_type": "code",
   "execution_count": 185,
   "id": "e42901f4",
   "metadata": {},
   "outputs": [],
   "source": [
    "from tqdm.auto import tqdm  # for our loading bar\n",
    "import os\n",
    "\n",
    "def file_creation(df, column_name, folder_name, sample_size = 1000):\n",
    "    text_data = []\n",
    "    file_count = 0\n",
    "\n",
    "    try:\n",
    "        os.mkdir(folder_name)\n",
    "    except:\n",
    "        pass\n",
    "\n",
    "    for sample in tqdm(df[column_name]):\n",
    "        sample = sample.replace('\\n', '')\n",
    "        text_data.append(sample)\n",
    "        if len(text_data) == sample_size:\n",
    "            with open(f'{folder_name}/text_{str(file_count).zfill(4)}.txt', 'w', encoding='utf-8') as fp:\n",
    "                fp.write('\\n'.join(text_data))\n",
    "            text_data = []\n",
    "            file_count += 1\n",
    "\n",
    "    with open(f'{folder_name}/text_{str(file_count).zfill(4)}.txt', 'w', encoding='utf-8') as fp:\n",
    "        fp.write('\\n'.join(text_data))      "
   ]
  },
  {
   "cell_type": "markdown",
   "id": "0aa52f90",
   "metadata": {},
   "source": [
    "Get sorted cases id"
   ]
  },
  {
   "cell_type": "code",
   "execution_count": 186,
   "id": "72985468",
   "metadata": {},
   "outputs": [],
   "source": [
    "import wget\n",
    "import os.path\n",
    "\n",
    "if(not os.path.exists('finale.csv')):\n",
    "    wget.download('https://data.4tu.nl/ndownloader/files/23993303')\n",
    "    \n",
    "df_finale = pd.read_csv('finale.csv', index_col=0).reset_index()\n",
    "\n",
    "df_finale['Complete Timestamp'] = pd.to_datetime(df_finale['Complete Timestamp'])\n",
    "sorted_time_cases = df_finale.sort_values('Complete Timestamp')['Case ID'].drop_duplicates().values"
   ]
  },
  {
   "cell_type": "code",
   "execution_count": 187,
   "id": "0bbf1be1",
   "metadata": {},
   "outputs": [],
   "source": [
    "df_final = pd.read_csv('finale_time_features.csv')"
   ]
  },
  {
   "cell_type": "code",
   "execution_count": 188,
   "id": "50f503e1",
   "metadata": {},
   "outputs": [
    {
     "data": {
      "text/plain": [
       "(21348, 23)"
      ]
     },
     "execution_count": 188,
     "metadata": {},
     "output_type": "execute_result"
    }
   ],
   "source": [
    "df_final.shape"
   ]
  },
  {
   "cell_type": "code",
   "execution_count": 189,
   "id": "8f53b043",
   "metadata": {},
   "outputs": [
    {
     "data": {
      "text/plain": [
       "Index(['Unnamed: 0', 'Case ID', 'Activity', 'Resource', 'Complete Timestamp',\n",
       "       'Variant', 'Variant index', 'Variant.1', 'seriousness', 'customer',\n",
       "       'product', 'responsible_section', 'seriousness_2', 'service_level',\n",
       "       'service_type', 'support_section', 'workgroup',\n",
       "       'Complete Timestamp Shift', 'Duration', 'Duration Float',\n",
       "       'Time to conclusion', 'Passed Time', 'Step'],\n",
       "      dtype='object')"
      ]
     },
     "execution_count": 189,
     "metadata": {},
     "output_type": "execute_result"
    }
   ],
   "source": [
    "df_final.columns"
   ]
  },
  {
   "cell_type": "code",
   "execution_count": 190,
   "id": "fb6d3783",
   "metadata": {},
   "outputs": [],
   "source": [
    "just_closed = False\n"
   ]
  },
  {
   "cell_type": "code",
   "execution_count": 191,
   "id": "8d2d72ce",
   "metadata": {},
   "outputs": [],
   "source": [
    "if(just_closed):\n",
    "    closed_cases = []\n",
    "\n",
    "    for name, group in df_final.groupby('Case ID'):\n",
    "        last_step = group.tail(1)['Activity'].values[0]\n",
    "        if(last_step == 'Closed'):\n",
    "            closed_cases.append(group['Case ID'].values[0])\n",
    "\n",
    "    df_final = df_final[df_final['Case ID'].isin(closed_cases)]     "
   ]
  },
  {
   "cell_type": "code",
   "execution_count": 192,
   "id": "46bb4522",
   "metadata": {},
   "outputs": [],
   "source": [
    "df_final['Activity Cat'] = df_final['Activity'].astype('category').cat.codes"
   ]
  },
  {
   "cell_type": "code",
   "execution_count": 193,
   "id": "5da7c909",
   "metadata": {},
   "outputs": [
    {
     "data": {
      "text/html": [
       "<div>\n",
       "<style scoped>\n",
       "    .dataframe tbody tr th:only-of-type {\n",
       "        vertical-align: middle;\n",
       "    }\n",
       "\n",
       "    .dataframe tbody tr th {\n",
       "        vertical-align: top;\n",
       "    }\n",
       "\n",
       "    .dataframe thead th {\n",
       "        text-align: right;\n",
       "    }\n",
       "</style>\n",
       "<table border=\"1\" class=\"dataframe\">\n",
       "  <thead>\n",
       "    <tr style=\"text-align: right;\">\n",
       "      <th></th>\n",
       "      <th>Activity Cat</th>\n",
       "      <th>Step</th>\n",
       "      <th>Duration Float</th>\n",
       "      <th>Passed Time</th>\n",
       "      <th>Time to conclusion</th>\n",
       "    </tr>\n",
       "  </thead>\n",
       "  <tbody>\n",
       "    <tr>\n",
       "      <th>0</th>\n",
       "      <td>0</td>\n",
       "      <td>1</td>\n",
       "      <td>0.0000</td>\n",
       "      <td>0.0000</td>\n",
       "      <td>31.0087</td>\n",
       "    </tr>\n",
       "    <tr>\n",
       "      <th>1</th>\n",
       "      <td>11</td>\n",
       "      <td>2</td>\n",
       "      <td>16.0084</td>\n",
       "      <td>0.0000</td>\n",
       "      <td>15.0003</td>\n",
       "    </tr>\n",
       "    <tr>\n",
       "      <th>2</th>\n",
       "      <td>9</td>\n",
       "      <td>3</td>\n",
       "      <td>0.0001</td>\n",
       "      <td>15.0002</td>\n",
       "      <td>15.0002</td>\n",
       "    </tr>\n",
       "    <tr>\n",
       "      <th>3</th>\n",
       "      <td>1</td>\n",
       "      <td>4</td>\n",
       "      <td>15.0002</td>\n",
       "      <td>15.0003</td>\n",
       "      <td>0.0000</td>\n",
       "    </tr>\n",
       "    <tr>\n",
       "      <th>4</th>\n",
       "      <td>1</td>\n",
       "      <td>5</td>\n",
       "      <td>0.0000</td>\n",
       "      <td>31.0087</td>\n",
       "      <td>0.0000</td>\n",
       "    </tr>\n",
       "    <tr>\n",
       "      <th>5</th>\n",
       "      <td>0</td>\n",
       "      <td>1</td>\n",
       "      <td>0.0000</td>\n",
       "      <td>0.0000</td>\n",
       "      <td>30.9822</td>\n",
       "    </tr>\n",
       "    <tr>\n",
       "      <th>6</th>\n",
       "      <td>11</td>\n",
       "      <td>2</td>\n",
       "      <td>5.8750</td>\n",
       "      <td>25.1053</td>\n",
       "      <td>25.1072</td>\n",
       "    </tr>\n",
       "    <tr>\n",
       "      <th>7</th>\n",
       "      <td>9</td>\n",
       "      <td>3</td>\n",
       "      <td>0.0019</td>\n",
       "      <td>25.1072</td>\n",
       "      <td>25.1053</td>\n",
       "    </tr>\n",
       "    <tr>\n",
       "      <th>8</th>\n",
       "      <td>1</td>\n",
       "      <td>4</td>\n",
       "      <td>25.1053</td>\n",
       "      <td>30.9822</td>\n",
       "      <td>0.0000</td>\n",
       "    </tr>\n",
       "  </tbody>\n",
       "</table>\n",
       "</div>"
      ],
      "text/plain": [
       "   Activity Cat  Step  Duration Float  Passed Time  Time to conclusion\n",
       "0             0     1          0.0000       0.0000             31.0087\n",
       "1            11     2         16.0084       0.0000             15.0003\n",
       "2             9     3          0.0001      15.0002             15.0002\n",
       "3             1     4         15.0002      15.0003              0.0000\n",
       "4             1     5          0.0000      31.0087              0.0000\n",
       "5             0     1          0.0000       0.0000             30.9822\n",
       "6            11     2          5.8750      25.1053             25.1072\n",
       "7             9     3          0.0019      25.1072             25.1053\n",
       "8             1     4         25.1053      30.9822              0.0000"
      ]
     },
     "execution_count": 193,
     "metadata": {},
     "output_type": "execute_result"
    }
   ],
   "source": [
    "df_final[['Activity Cat', 'Step', 'Duration Float', 'Passed Time', 'Time to conclusion']].head(9)"
   ]
  },
  {
   "cell_type": "code",
   "execution_count": 194,
   "id": "3571cea8",
   "metadata": {},
   "outputs": [],
   "source": [
    "one_hot = pd.get_dummies(df_final['Activity Cat'])\n",
    "\n",
    "# Join the encoded df\n",
    "df_final = df_final.join(one_hot)"
   ]
  },
  {
   "cell_type": "code",
   "execution_count": 195,
   "id": "c70ad54f",
   "metadata": {},
   "outputs": [],
   "source": [
    "from sklearn.model_selection import train_test_split\n",
    "\n",
    "train_cases = pd.read_csv('bukhsh_data/bukhsh_remaining_time_train.csv')['case_id'].unique()\n",
    "test_cases = pd.read_csv('bukhsh_data/bukhsh_remaining_time_test.csv')['case_id'].unique()"
   ]
  },
  {
   "cell_type": "code",
   "execution_count": 196,
   "id": "e7637e06",
   "metadata": {},
   "outputs": [
    {
     "data": {
      "text/plain": [
       "(3664, 916)"
      ]
     },
     "execution_count": 196,
     "metadata": {},
     "output_type": "execute_result"
    }
   ],
   "source": [
    "len(train_cases), len(test_cases)"
   ]
  },
  {
   "cell_type": "code",
   "execution_count": 197,
   "id": "455b005f",
   "metadata": {},
   "outputs": [
    {
     "name": "stdout",
     "output_type": "stream",
     "text": [
      "2010-01-13 08:40:25 2014-01-03 13:20:58\n"
     ]
    }
   ],
   "source": [
    "print(\n",
    "    df_finale[df_finale['Case ID'].isin(train_cases)]['Complete Timestamp'].min(),\n",
    "    df_finale[df_finale['Case ID'].isin(train_cases)]['Complete Timestamp'].max()\n",
    ")"
   ]
  },
  {
   "cell_type": "code",
   "execution_count": 198,
   "id": "709e826a",
   "metadata": {},
   "outputs": [
    {
     "name": "stdout",
     "output_type": "stream",
     "text": [
      "2010-01-13 12:30:37 2014-01-03 10:08:18\n"
     ]
    }
   ],
   "source": [
    "print(\n",
    "    df_finale[df_finale['Case ID'].isin(test_cases)]['Complete Timestamp'].min(),\n",
    "    df_finale[df_finale['Case ID'].isin(test_cases)]['Complete Timestamp'].max()\n",
    ")"
   ]
  },
  {
   "cell_type": "markdown",
   "id": "b8526189",
   "metadata": {},
   "source": [
    "Overriding cases checking"
   ]
  },
  {
   "cell_type": "code",
   "execution_count": 199,
   "id": "a263cf0b",
   "metadata": {
    "scrolled": true
   },
   "outputs": [
    {
     "name": "stdout",
     "output_type": "stream",
     "text": [
      "set()\n"
     ]
    }
   ],
   "source": [
    "print(\n",
    "    set(test_cases).intersection(set(train_cases))\n",
    ")"
   ]
  },
  {
   "cell_type": "markdown",
   "id": "b6463dd0",
   "metadata": {},
   "source": [
    "Dataframes creation"
   ]
  },
  {
   "cell_type": "code",
   "execution_count": 200,
   "id": "5ba560f1",
   "metadata": {},
   "outputs": [],
   "source": [
    "df_train = df_final[df_final['Case ID'].isin(train_cases)]\n",
    "df_test = df_final[df_final['Case ID'].isin(test_cases)]"
   ]
  },
  {
   "cell_type": "markdown",
   "id": "252b3f7b",
   "metadata": {},
   "source": [
    "Text file creation"
   ]
  },
  {
   "cell_type": "code",
   "execution_count": 201,
   "id": "2e06d912",
   "metadata": {},
   "outputs": [
    {
     "data": {
      "application/vnd.jupyter.widget-view+json": {
       "model_id": "aef75bb5196c4ec8be4f3bf2f3105fe9",
       "version_major": 2,
       "version_minor": 0
      },
      "text/plain": [
       "  0%|          | 0/17107 [00:00<?, ?it/s]"
      ]
     },
     "metadata": {},
     "output_type": "display_data"
    },
    {
     "data": {
      "application/vnd.jupyter.widget-view+json": {
       "model_id": "ad0c8075291443c281c64fa330776f5d",
       "version_major": 2,
       "version_minor": 0
      },
      "text/plain": [
       "  0%|          | 0/4241 [00:00<?, ?it/s]"
      ]
     },
     "metadata": {},
     "output_type": "display_data"
    }
   ],
   "source": [
    "file_creation(df_train, TEXT_CONTENT_ACTIVITY, 'train')\n",
    "file_creation(df_test, TEXT_CONTENT_ACTIVITY, 'test')"
   ]
  },
  {
   "cell_type": "code",
   "execution_count": 202,
   "id": "d807fd01",
   "metadata": {},
   "outputs": [
    {
     "name": "stdout",
     "output_type": "stream",
     "text": [
      "test/:\n",
      "text_0000.txt\n",
      "text_0001.txt\n",
      "text_0002.txt\n",
      "text_0003.txt\n",
      "text_0004.txt\n",
      "\n",
      "train/:\n",
      "text_0000.txt\n",
      "text_0001.txt\n",
      "text_0002.txt\n",
      "text_0003.txt\n",
      "text_0004.txt\n",
      "text_0005.txt\n",
      "text_0006.txt\n",
      "text_0007.txt\n",
      "text_0008.txt\n",
      "text_0009.txt\n",
      "text_0010.txt\n",
      "text_0011.txt\n",
      "text_0012.txt\n",
      "text_0013.txt\n",
      "text_0014.txt\n",
      "text_0015.txt\n",
      "text_0016.txt\n",
      "text_0017.txt\n"
     ]
    }
   ],
   "source": [
    "! ls train/ test/"
   ]
  },
  {
   "cell_type": "markdown",
   "id": "360860c2",
   "metadata": {},
   "source": [
    "Train tokenizer"
   ]
  },
  {
   "cell_type": "code",
   "execution_count": 203,
   "id": "2cf3360b",
   "metadata": {},
   "outputs": [],
   "source": [
    "from pathlib import Path\n",
    "\n",
    "train_paths = [str(x) for x in Path('train').glob('**/*.txt')]\n",
    "test_paths = [str(x) for x in Path('test').glob('**/*.txt')]\n",
    "\n",
    "train_paths.sort()\n",
    "test_paths.sort()"
   ]
  },
  {
   "cell_type": "markdown",
   "id": "97766c2b",
   "metadata": {},
   "source": []
  },
  {
   "cell_type": "code",
   "execution_count": 204,
   "id": "2e5ca0f6",
   "metadata": {},
   "outputs": [],
   "source": [
    "from tokenizers import BertWordPieceTokenizer\n",
    "\n",
    "# initialize\n",
    "tokenizer = BertWordPieceTokenizer(\n",
    "    clean_text=True,\n",
    "    handle_chinese_chars=False,\n",
    "    strip_accents=False,\n",
    "    lowercase=True\n",
    ")\n",
    "# and train\n",
    "tokenizer.train(files=train_paths, vocab_size=MAX_LEN, min_frequency=1,\n",
    "                limit_alphabet=1000, wordpieces_prefix='##',\n",
    "                special_tokens=[\n",
    "                    '[PAD', '[UNK]', '[CLS]', '[SEP]', '[MASK]'])"
   ]
  },
  {
   "cell_type": "markdown",
   "id": "cb7b3d1e",
   "metadata": {},
   "source": [
    "Tokenize files"
   ]
  },
  {
   "cell_type": "code",
   "execution_count": 205,
   "id": "8366245e",
   "metadata": {},
   "outputs": [],
   "source": [
    "! rm -r filiberto"
   ]
  },
  {
   "cell_type": "code",
   "execution_count": 206,
   "id": "4c5abaf5",
   "metadata": {},
   "outputs": [
    {
     "data": {
      "text/plain": [
       "['filiberto\\\\vocab.txt']"
      ]
     },
     "execution_count": 206,
     "metadata": {},
     "output_type": "execute_result"
    }
   ],
   "source": [
    "import os\n",
    "\n",
    "try:\n",
    "    os.mkdir('./filiberto')\n",
    "except:\n",
    "    pass\n",
    "\n",
    "tokenizer.save_model('filiberto')"
   ]
  },
  {
   "cell_type": "markdown",
   "id": "5cbcadad",
   "metadata": {},
   "source": [
    "Iniatializing Tokenizer by saved model"
   ]
  },
  {
   "cell_type": "code",
   "execution_count": 207,
   "id": "2a919e8d",
   "metadata": {},
   "outputs": [],
   "source": [
    "##mudar o loader e deixar padrao\n",
    "from transformers import RobertaTokenizer\n",
    "from tokenizers import Tokenizer\n",
    "from transformers import AutoTokenizer, AutoModel\n",
    "\n",
    "from transformers import BertTokenizer\n",
    "\n",
    "def bert_tokenize(paths, MAX_LEN):\n",
    "    batch_data = []\n",
    "    #tokenizer = RobertaTokenizer.from_pretrained('filiberto', max_len=MAX_LEN)\n",
    "    tokenizer = BertTokenizer.from_pretrained('./filiberto')\n",
    "\n",
    "    for path in paths:\n",
    "        with open(path, 'r', encoding='utf-8') as fp:\n",
    "            lines = fp.read().split('\\n')\n",
    "\n",
    "        batch = tokenizer(lines, max_length=MAX_LEN, padding='max_length', truncation=True)\n",
    "        batch_data.append(pd.DataFrame(batch.input_ids))\n",
    "\n",
    "    df_batch_data = pd.concat(batch_data, ignore_index=True)\n",
    "    df_batch_data = df_batch_data.fillna(0)\n",
    "\n",
    "    df_batch_data.columns = df_batch_data.columns.astype(str)\n",
    "\n",
    "    return df_batch_data"
   ]
  },
  {
   "cell_type": "code",
   "execution_count": 208,
   "id": "fdcf1972",
   "metadata": {},
   "outputs": [
    {
     "name": "stderr",
     "output_type": "stream",
     "text": [
      "Special tokens have been added in the vocabulary, make sure the associated word embeddings are fine-tuned or trained.\n",
      "Special tokens have been added in the vocabulary, make sure the associated word embeddings are fine-tuned or trained.\n"
     ]
    }
   ],
   "source": [
    "df_train_batch_data = bert_tokenize(train_paths, MAX_LEN)\n",
    "df_test_batch_data = bert_tokenize(test_paths, MAX_LEN)"
   ]
  },
  {
   "cell_type": "code",
   "execution_count": 209,
   "id": "147ab564",
   "metadata": {},
   "outputs": [
    {
     "data": {
      "text/html": [
       "<div>\n",
       "<style scoped>\n",
       "    .dataframe tbody tr th:only-of-type {\n",
       "        vertical-align: middle;\n",
       "    }\n",
       "\n",
       "    .dataframe tbody tr th {\n",
       "        vertical-align: top;\n",
       "    }\n",
       "\n",
       "    .dataframe thead th {\n",
       "        text-align: right;\n",
       "    }\n",
       "</style>\n",
       "<table border=\"1\" class=\"dataframe\">\n",
       "  <thead>\n",
       "    <tr style=\"text-align: right;\">\n",
       "      <th></th>\n",
       "      <th>0</th>\n",
       "      <th>1</th>\n",
       "      <th>2</th>\n",
       "      <th>3</th>\n",
       "      <th>4</th>\n",
       "      <th>5</th>\n",
       "      <th>6</th>\n",
       "      <th>7</th>\n",
       "      <th>8</th>\n",
       "      <th>9</th>\n",
       "      <th>...</th>\n",
       "      <th>14</th>\n",
       "      <th>15</th>\n",
       "      <th>16</th>\n",
       "      <th>17</th>\n",
       "      <th>18</th>\n",
       "      <th>19</th>\n",
       "      <th>20</th>\n",
       "      <th>21</th>\n",
       "      <th>22</th>\n",
       "      <th>23</th>\n",
       "    </tr>\n",
       "  </thead>\n",
       "  <tbody>\n",
       "    <tr>\n",
       "      <th>0</th>\n",
       "      <td>2</td>\n",
       "      <td>5</td>\n",
       "      <td>32</td>\n",
       "      <td>32</td>\n",
       "      <td>29</td>\n",
       "      <td>39</td>\n",
       "      <td>33</td>\n",
       "      <td>21</td>\n",
       "      <td>27</td>\n",
       "      <td>28</td>\n",
       "      <td>...</td>\n",
       "      <td>33</td>\n",
       "      <td>27</td>\n",
       "      <td>32</td>\n",
       "      <td>32</td>\n",
       "      <td>3</td>\n",
       "      <td>49</td>\n",
       "      <td>49</td>\n",
       "      <td>49</td>\n",
       "      <td>49</td>\n",
       "      <td>49</td>\n",
       "    </tr>\n",
       "    <tr>\n",
       "      <th>1</th>\n",
       "      <td>2</td>\n",
       "      <td>22</td>\n",
       "      <td>40</td>\n",
       "      <td>45</td>\n",
       "      <td>27</td>\n",
       "      <td>12</td>\n",
       "      <td>33</td>\n",
       "      <td>6</td>\n",
       "      <td>42</td>\n",
       "      <td>40</td>\n",
       "      <td>...</td>\n",
       "      <td>29</td>\n",
       "      <td>43</td>\n",
       "      <td>45</td>\n",
       "      <td>27</td>\n",
       "      <td>41</td>\n",
       "      <td>3</td>\n",
       "      <td>49</td>\n",
       "      <td>49</td>\n",
       "      <td>49</td>\n",
       "      <td>49</td>\n",
       "    </tr>\n",
       "    <tr>\n",
       "      <th>2</th>\n",
       "      <td>2</td>\n",
       "      <td>20</td>\n",
       "      <td>27</td>\n",
       "      <td>32</td>\n",
       "      <td>30</td>\n",
       "      <td>35</td>\n",
       "      <td>36</td>\n",
       "      <td>27</td>\n",
       "      <td>22</td>\n",
       "      <td>29</td>\n",
       "      <td>...</td>\n",
       "      <td>3</td>\n",
       "      <td>49</td>\n",
       "      <td>49</td>\n",
       "      <td>49</td>\n",
       "      <td>49</td>\n",
       "      <td>49</td>\n",
       "      <td>49</td>\n",
       "      <td>49</td>\n",
       "      <td>49</td>\n",
       "      <td>49</td>\n",
       "    </tr>\n",
       "    <tr>\n",
       "      <th>3</th>\n",
       "      <td>2</td>\n",
       "      <td>6</td>\n",
       "      <td>35</td>\n",
       "      <td>30</td>\n",
       "      <td>32</td>\n",
       "      <td>27</td>\n",
       "      <td>37</td>\n",
       "      <td>3</td>\n",
       "      <td>49</td>\n",
       "      <td>49</td>\n",
       "      <td>...</td>\n",
       "      <td>49</td>\n",
       "      <td>49</td>\n",
       "      <td>49</td>\n",
       "      <td>49</td>\n",
       "      <td>49</td>\n",
       "      <td>49</td>\n",
       "      <td>49</td>\n",
       "      <td>49</td>\n",
       "      <td>49</td>\n",
       "      <td>49</td>\n",
       "    </tr>\n",
       "    <tr>\n",
       "      <th>4</th>\n",
       "      <td>2</td>\n",
       "      <td>6</td>\n",
       "      <td>35</td>\n",
       "      <td>30</td>\n",
       "      <td>32</td>\n",
       "      <td>27</td>\n",
       "      <td>37</td>\n",
       "      <td>3</td>\n",
       "      <td>49</td>\n",
       "      <td>49</td>\n",
       "      <td>...</td>\n",
       "      <td>49</td>\n",
       "      <td>49</td>\n",
       "      <td>49</td>\n",
       "      <td>49</td>\n",
       "      <td>49</td>\n",
       "      <td>49</td>\n",
       "      <td>49</td>\n",
       "      <td>49</td>\n",
       "      <td>49</td>\n",
       "      <td>49</td>\n",
       "    </tr>\n",
       "  </tbody>\n",
       "</table>\n",
       "<p>5 rows × 24 columns</p>\n",
       "</div>"
      ],
      "text/plain": [
       "   0   1   2   3   4   5   6   7   8   9  ...  14  15  16  17  18  19  20  21  \\\n",
       "0  2   5  32  32  29  39  33  21  27  28  ...  33  27  32  32   3  49  49  49   \n",
       "1  2  22  40  45  27  12  33   6  42  40  ...  29  43  45  27  41   3  49  49   \n",
       "2  2  20  27  32  30  35  36  27  22  29  ...   3  49  49  49  49  49  49  49   \n",
       "3  2   6  35  30  32  27  37   3  49  49  ...  49  49  49  49  49  49  49  49   \n",
       "4  2   6  35  30  32  27  37   3  49  49  ...  49  49  49  49  49  49  49  49   \n",
       "\n",
       "   22  23  \n",
       "0  49  49  \n",
       "1  49  49  \n",
       "2  49  49  \n",
       "3  49  49  \n",
       "4  49  49  \n",
       "\n",
       "[5 rows x 24 columns]"
      ]
     },
     "execution_count": 209,
     "metadata": {},
     "output_type": "execute_result"
    }
   ],
   "source": [
    "df_train_batch_data.head()"
   ]
  },
  {
   "cell_type": "markdown",
   "id": "e65b933d",
   "metadata": {},
   "source": [
    "Set Correlations"
   ]
  },
  {
   "cell_type": "code",
   "execution_count": 210,
   "id": "219f9d3b",
   "metadata": {},
   "outputs": [
    {
     "data": {
      "text/plain": [
       "<AxesSubplot:>"
      ]
     },
     "execution_count": 210,
     "metadata": {},
     "output_type": "execute_result"
    },
    {
     "data": {
      "image/png": "[encoded data removed]",
      "text/plain": [
       "<Figure size 1296x216 with 4 Axes>"
      ]
     },
     "metadata": {
      "needs_background": "light"
     },
     "output_type": "display_data"
    }
   ],
   "source": [
    "import matplotlib.pyplot as plt\n",
    "import seaborn as sns\n",
    "\n",
    "#plt.figure(figsize=(16, 4), dpi=80)\n",
    "\n",
    "fig, axs = plt.subplots(ncols=2)\n",
    "fig.set_size_inches(18, 3)\n",
    "\n",
    "corr = df_train_batch_data.corr()\n",
    "sns.heatmap(corr, ax=axs[0])\n",
    "\n",
    "corr = df_test_batch_data.corr()\n",
    "sns.heatmap(corr, ax=axs[1])"
   ]
  },
  {
   "cell_type": "code",
   "execution_count": 211,
   "id": "c22dfd43",
   "metadata": {},
   "outputs": [],
   "source": [
    "FEAT_COLS = ['Step', 'Duration Float', 'Passed Time']"
   ]
  },
  {
   "cell_type": "code",
   "execution_count": 212,
   "id": "2ac6245a",
   "metadata": {},
   "outputs": [],
   "source": [
    "df_train_batch_data = df_train_batch_data.reset_index()\n",
    "df_test_batch_data = df_test_batch_data.reset_index()\n",
    "\n",
    "df_train = df_train.reset_index()\n",
    "df_test = df_test.reset_index()"
   ]
  },
  {
   "cell_type": "code",
   "execution_count": 213,
   "id": "1486410c",
   "metadata": {},
   "outputs": [],
   "source": [
    "for col in FEAT_COLS:\n",
    "    df_train_batch_data[col] = df_train[col]\n",
    "    df_test_batch_data[col] = df_test[col]"
   ]
  },
  {
   "cell_type": "code",
   "execution_count": null,
   "id": "5c320cfc",
   "metadata": {},
   "outputs": [],
   "source": []
  },
  {
   "cell_type": "markdown",
   "id": "b208a5d3",
   "metadata": {},
   "source": [
    "Features selection"
   ]
  },
  {
   "cell_type": "code",
   "execution_count": 214,
   "id": "9e5eea89",
   "metadata": {},
   "outputs": [],
   "source": [
    "X_train = df_train_batch_data.values\n",
    "y_train = df_train[['Time to conclusion']].values\n",
    "\n",
    "\n",
    "X_test = df_test_batch_data.values\n",
    "y_test = df_test[['Time to conclusion']].values"
   ]
  },
  {
   "cell_type": "code",
   "execution_count": 215,
   "id": "af956a2d",
   "metadata": {},
   "outputs": [],
   "source": [
    "from sklearn.dummy import DummyRegressor\n",
    "from sklearn.linear_model import LinearRegression\n",
    "from sklearn.ensemble import RandomForestRegressor\n",
    "\n",
    "regressors = [  \n",
    "        {'nome' : 'DummyRegressor', 'regressor':  DummyRegressor(strategy='mean')},\n",
    "        {'nome': 'LinearRegression', 'regressor': LinearRegression(fit_intercept=False, normalize=True)},\n",
    "        {'nome': 'RandomForestRegressor',  'regressor': RandomForestRegressor(n_estimators=20, criterion='mse', max_features='auto', \n",
    "                                                                              bootstrap=True, warm_start=True, max_depth=19, random_state=0)},\n",
    "]"
   ]
  },
  {
   "cell_type": "code",
   "execution_count": 216,
   "id": "21159624",
   "metadata": {},
   "outputs": [
    {
     "data": {
      "text/html": [
       "<div>\n",
       "<style scoped>\n",
       "    .dataframe tbody tr th:only-of-type {\n",
       "        vertical-align: middle;\n",
       "    }\n",
       "\n",
       "    .dataframe tbody tr th {\n",
       "        vertical-align: top;\n",
       "    }\n",
       "\n",
       "    .dataframe thead th {\n",
       "        text-align: right;\n",
       "    }\n",
       "</style>\n",
       "<table border=\"1\" class=\"dataframe\">\n",
       "  <thead>\n",
       "    <tr style=\"text-align: right;\">\n",
       "      <th></th>\n",
       "      <th>Nome do modelo</th>\n",
       "      <th>MAE</th>\n",
       "    </tr>\n",
       "  </thead>\n",
       "  <tbody>\n",
       "    <tr>\n",
       "      <th>2</th>\n",
       "      <td>RandomForestRegressor</td>\n",
       "      <td>3.739190</td>\n",
       "    </tr>\n",
       "    <tr>\n",
       "      <th>1</th>\n",
       "      <td>LinearRegression</td>\n",
       "      <td>5.906196</td>\n",
       "    </tr>\n",
       "    <tr>\n",
       "      <th>0</th>\n",
       "      <td>DummyRegressor</td>\n",
       "      <td>14.912123</td>\n",
       "    </tr>\n",
       "  </tbody>\n",
       "</table>\n",
       "</div>"
      ],
      "text/plain": [
       "          Nome do modelo        MAE\n",
       "2  RandomForestRegressor   3.739190\n",
       "1       LinearRegression   5.906196\n",
       "0         DummyRegressor  14.912123"
      ]
     },
     "execution_count": 216,
     "metadata": {},
     "output_type": "execute_result"
    }
   ],
   "source": [
    "import time\n",
    "from sklearn.metrics import mean_absolute_error\n",
    "\n",
    "cols = [\n",
    "        'Nome do modelo', 'MAE'\n",
    "]\n",
    "\n",
    "data_result = []\n",
    "\n",
    "for regressor in regressors:    \n",
    "    t1 = time.time()\n",
    "    regr = regressor['regressor'].fit(X_train, y_train)\n",
    "    tf = time.time()\n",
    "    \n",
    "    y_pred = regr.predict(X_test)\n",
    "    mae = mean_absolute_error(y_test, y_pred)\n",
    "        \n",
    "    line = [\n",
    "        regressor['nome'],\n",
    "        mae\n",
    "    ]\n",
    "    data_result.append(line)\n",
    "\n",
    "pd.DataFrame(data_result, columns=cols).sort_values(by='MAE', ascending=True)"
   ]
  },
  {
   "cell_type": "markdown",
   "id": "de4a84e8",
   "metadata": {},
   "source": [
    "Deep learning model definition"
   ]
  },
  {
   "cell_type": "code",
   "execution_count": 217,
   "id": "16de2784",
   "metadata": {},
   "outputs": [],
   "source": [
    "import keras\n",
    "from keras_self_attention import SeqSelfAttention"
   ]
  },
  {
   "cell_type": "code",
   "execution_count": 218,
   "id": "6d951203",
   "metadata": {},
   "outputs": [],
   "source": [
    "from tensorflow import keras\n",
    "\n",
    "from keras.layers import Dropout\n",
    "from keras.layers import Dense\n",
    "from keras.layers import LSTM\n",
    "from keras.layers import Bidirectional\n",
    "from keras.layers import PReLU\n",
    "from keras.layers import BatchNormalization\n",
    "\n",
    "from keras.utils.vis_utils import plot_model\n",
    "from keras.utils.vis_utils import model_to_dot\n",
    "\n",
    "from keras.callbacks import EarlyStopping\n",
    "from tqdm.keras import TqdmCallback"
   ]
  },
  {
   "cell_type": "code",
   "execution_count": 219,
   "id": "114960cf",
   "metadata": {},
   "outputs": [],
   "source": [
    "from keras.layers.core import Activation\n",
    "from keras.initializers import Constant\n",
    "\n",
    "from keras.regularizers import l2"
   ]
  },
  {
   "cell_type": "code",
   "execution_count": 220,
   "id": "9eb285c8",
   "metadata": {},
   "outputs": [
    {
     "name": "stdout",
     "output_type": "stream",
     "text": [
      "Model: \"sequential_3\"\n",
      "_________________________________________________________________\n",
      " Layer (type)                Output Shape              Param #   \n",
      "=================================================================\n",
      " lstm_3 (LSTM)               (None, 28)                3360      \n",
      "                                                                 \n",
      " Regularizacao (Dropout)     (None, 28)                0         \n",
      "                                                                 \n",
      " Saida (Dense)               (None, 1)                 29        \n",
      "                                                                 \n",
      "=================================================================\n",
      "Total params: 3,389\n",
      "Trainable params: 3,389\n",
      "Non-trainable params: 0\n",
      "_________________________________________________________________\n"
     ]
    }
   ],
   "source": [
    "from keras_multi_head import MultiHead\n",
    "from keras_multi_head import MultiHeadAttention\n",
    "\n",
    "model = keras.models.Sequential(name='')\n",
    "\n",
    "\"\"\"\n",
    "model.add(Dense(X_train.shape[1], \n",
    "                input_dim=X_train.shape[1], \n",
    "                activation='relu', \n",
    "                name='Densa'\n",
    "                ))\n",
    "\n",
    "model.add(Dropout(0.05, name='Regularizacao'))\n",
    "\n",
    "model.add(keras.layers.Flatten(name='Nivelamento'))\n",
    "\"\"\"\n",
    "\n",
    "model.add(LSTM(X_train.shape[1], return_sequences=False, input_shape=(X_train.shape[1], 1)))\n",
    "##model.add(Bidirectional(LSTM(X_train.shape[1])))\n",
    "\n",
    "model.add(Dropout(0.05, name='Regularizacao'))\n",
    "\n",
    "model.add(Dense(1, activation='relu', name='Saida'))\n",
    "\n",
    "model.summary()"
   ]
  },
  {
   "cell_type": "code",
   "execution_count": 221,
   "id": "98f2e0e4",
   "metadata": {},
   "outputs": [],
   "source": [
    "#model_to_dot(model)"
   ]
  },
  {
   "cell_type": "code",
   "execution_count": 222,
   "id": "da91d8f0",
   "metadata": {
    "scrolled": true
   },
   "outputs": [
    {
     "data": {
      "application/vnd.jupyter.widget-view+json": {
       "model_id": "094d8c35be884e99a00cbc976e8f15a7",
       "version_major": 2,
       "version_minor": 0
      },
      "text/plain": [
       "0epoch [00:00, ?epoch/s]"
      ]
     },
     "metadata": {},
     "output_type": "display_data"
    },
    {
     "name": "stdout",
     "output_type": "stream",
     "text": [
      "Epoch 54: early stopping\n"
     ]
    }
   ],
   "source": [
    "nadam = keras.optimizers.Nadam(\n",
    "    learning_rate=0.01, beta_1=0.9, beta_2=0.99, epsilon=1e-07, name=\"Nadam\")\n",
    "\n",
    "model.compile(\n",
    "    optimizer=nadam, \n",
    "    loss=\"mean_absolute_error\", \n",
    "    #loss=keras.losses.LogCosh(),\n",
    "    metrics=[\"mean_absolute_error\"]\n",
    ")\n",
    "\n",
    "es = EarlyStopping(monitor='mean_absolute_error', \n",
    "                   min_delta=1e-07, #min_delta=1e-04, \n",
    "                   patience=50, verbose=1)\n",
    "\n",
    "history = model.fit(X_train, y_train, \n",
    "                    epochs=2000,\n",
    "                    batch_size=X_train.shape[1] * 100,\n",
    "                    callbacks=[TqdmCallback(verbose=0), es],\n",
    "                    verbose=0)"
   ]
  },
  {
   "cell_type": "code",
   "execution_count": 223,
   "id": "8bd473e3",
   "metadata": {
    "scrolled": true
   },
   "outputs": [
    {
     "name": "stdout",
     "output_type": "stream",
     "text": [
      "133/133 [==============================] - 1s 4ms/step\n",
      "27.811121692996938\n"
     ]
    }
   ],
   "source": [
    "test_predicton = model.predict(X_test)\n",
    "mae_error = mean_absolute_error(y_test, test_predicton)\n",
    "print(mae_error)"
   ]
  },
  {
   "cell_type": "code",
   "execution_count": null,
   "id": "d362ef6a",
   "metadata": {},
   "outputs": [],
   "source": []
  }
 ],
 "metadata": {
  "kernelspec": {
   "display_name": "Python 3 (ipykernel)",
   "language": "python",
   "name": "python3"
  },
  "language_info": {
   "codemirror_mode": {
    "name": "ipython",
    "version": 3
   },
   "file_extension": ".py",
   "mimetype": "text/x-python",
   "name": "python",
   "nbconvert_exporter": "python",
   "pygments_lexer": "ipython3",
   "version": "3.8.10"
  }
 },
 "nbformat": 4,
 "nbformat_minor": 5
}
