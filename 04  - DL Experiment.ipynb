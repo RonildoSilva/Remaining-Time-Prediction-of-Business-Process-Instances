{
 "cells": [
  {
   "cell_type": "code",
   "execution_count": 117,
   "id": "5de83000",
   "metadata": {},
   "outputs": [],
   "source": [
    "import warnings\n",
    "warnings.filterwarnings('ignore')"
   ]
  },
  {
   "cell_type": "code",
   "execution_count": 118,
   "id": "9bc0facf",
   "metadata": {},
   "outputs": [],
   "source": [
    "from numpy.random import seed\n",
    "seed(42)\n",
    "\n",
    "import tensorflow\n",
    "tensorflow.random.set_seed(42)"
   ]
  },
  {
   "cell_type": "code",
   "execution_count": 119,
   "id": "890a2b62",
   "metadata": {},
   "outputs": [],
   "source": [
    "import os\n",
    "import pandas as pd\n",
    "import math\n",
    "import numpy as np"
   ]
  },
  {
   "cell_type": "markdown",
   "id": "0aa52f90",
   "metadata": {},
   "source": [
    "Get sorted cases id"
   ]
  },
  {
   "cell_type": "code",
   "execution_count": 120,
   "id": "72985468",
   "metadata": {},
   "outputs": [],
   "source": [
    "import wget\n",
    "import os.path\n",
    "\n",
    "if(not os.path.exists('finale.csv')):\n",
    "    wget.download('https://data.4tu.nl/ndownloader/files/23993303')\n",
    "    \n",
    "df_finale = pd.read_csv('finale.csv', index_col=0).reset_index()\n",
    "\n",
    "df_finale['Complete Timestamp'] = pd.to_datetime(df_finale['Complete Timestamp'])\n",
    "sorted_time_cases = df_finale.sort_values('Complete Timestamp')['Case ID'].drop_duplicates().values"
   ]
  },
  {
   "cell_type": "code",
   "execution_count": 121,
   "id": "0bbf1be1",
   "metadata": {},
   "outputs": [],
   "source": [
    "df_final = pd.read_csv('finale_time_features.csv')"
   ]
  },
  {
   "cell_type": "code",
   "execution_count": 122,
   "id": "50f503e1",
   "metadata": {},
   "outputs": [
    {
     "data": {
      "text/plain": [
       "(21348, 23)"
      ]
     },
     "execution_count": 122,
     "metadata": {},
     "output_type": "execute_result"
    }
   ],
   "source": [
    "df_final.shape"
   ]
  },
  {
   "cell_type": "code",
   "execution_count": 123,
   "id": "8f53b043",
   "metadata": {},
   "outputs": [
    {
     "data": {
      "text/plain": [
       "Index(['Unnamed: 0', 'Case ID', 'Activity', 'Resource', 'Complete Timestamp',\n",
       "       'Variant', 'Variant index', 'Variant.1', 'seriousness', 'customer',\n",
       "       'product', 'responsible_section', 'seriousness_2', 'service_level',\n",
       "       'service_type', 'support_section', 'workgroup',\n",
       "       'Complete Timestamp Shift', 'Duration', 'Duration Float',\n",
       "       'Time to conclusion', 'Passed Time', 'Step'],\n",
       "      dtype='object')"
      ]
     },
     "execution_count": 123,
     "metadata": {},
     "output_type": "execute_result"
    }
   ],
   "source": [
    "df_final.columns"
   ]
  },
  {
   "cell_type": "code",
   "execution_count": 124,
   "id": "f309debc",
   "metadata": {},
   "outputs": [],
   "source": [
    "just_closed = False\n",
    "mode = 'bukhsh_partition'\n",
    "#mode = 'silva_partition'"
   ]
  },
  {
   "cell_type": "code",
   "execution_count": 125,
   "id": "8d2d72ce",
   "metadata": {},
   "outputs": [],
   "source": [
    "if(just_closed):\n",
    "    closed_cases = []\n",
    "\n",
    "    for name, group in df_final.groupby('Case ID'):\n",
    "        last_step = group.tail(1)['Activity'].values[0]\n",
    "        if(last_step == 'Closed'):\n",
    "            closed_cases.append(group['Case ID'].values[0])\n",
    "\n",
    "    df_final = df_final[df_final['Case ID'].isin(closed_cases)]     "
   ]
  },
  {
   "cell_type": "code",
   "execution_count": 126,
   "id": "46bb4522",
   "metadata": {},
   "outputs": [],
   "source": [
    "df_final['Activity Cat'] = df_final['Activity'].astype('category').cat.codes"
   ]
  },
  {
   "cell_type": "code",
   "execution_count": 127,
   "id": "5da7c909",
   "metadata": {},
   "outputs": [
    {
     "data": {
      "text/html": [
       "<div>\n",
       "<style scoped>\n",
       "    .dataframe tbody tr th:only-of-type {\n",
       "        vertical-align: middle;\n",
       "    }\n",
       "\n",
       "    .dataframe tbody tr th {\n",
       "        vertical-align: top;\n",
       "    }\n",
       "\n",
       "    .dataframe thead th {\n",
       "        text-align: right;\n",
       "    }\n",
       "</style>\n",
       "<table border=\"1\" class=\"dataframe\">\n",
       "  <thead>\n",
       "    <tr style=\"text-align: right;\">\n",
       "      <th></th>\n",
       "      <th>Activity Cat</th>\n",
       "      <th>Step</th>\n",
       "      <th>Duration Float</th>\n",
       "      <th>Passed Time</th>\n",
       "      <th>Time to conclusion</th>\n",
       "    </tr>\n",
       "  </thead>\n",
       "  <tbody>\n",
       "    <tr>\n",
       "      <th>0</th>\n",
       "      <td>0</td>\n",
       "      <td>1</td>\n",
       "      <td>0.0000</td>\n",
       "      <td>0.0000</td>\n",
       "      <td>31.0087</td>\n",
       "    </tr>\n",
       "    <tr>\n",
       "      <th>1</th>\n",
       "      <td>11</td>\n",
       "      <td>2</td>\n",
       "      <td>16.0084</td>\n",
       "      <td>0.0000</td>\n",
       "      <td>15.0003</td>\n",
       "    </tr>\n",
       "    <tr>\n",
       "      <th>2</th>\n",
       "      <td>9</td>\n",
       "      <td>3</td>\n",
       "      <td>0.0001</td>\n",
       "      <td>15.0002</td>\n",
       "      <td>15.0002</td>\n",
       "    </tr>\n",
       "    <tr>\n",
       "      <th>3</th>\n",
       "      <td>1</td>\n",
       "      <td>4</td>\n",
       "      <td>15.0002</td>\n",
       "      <td>15.0003</td>\n",
       "      <td>0.0000</td>\n",
       "    </tr>\n",
       "    <tr>\n",
       "      <th>4</th>\n",
       "      <td>1</td>\n",
       "      <td>5</td>\n",
       "      <td>0.0000</td>\n",
       "      <td>31.0087</td>\n",
       "      <td>0.0000</td>\n",
       "    </tr>\n",
       "    <tr>\n",
       "      <th>5</th>\n",
       "      <td>0</td>\n",
       "      <td>1</td>\n",
       "      <td>0.0000</td>\n",
       "      <td>0.0000</td>\n",
       "      <td>30.9822</td>\n",
       "    </tr>\n",
       "    <tr>\n",
       "      <th>6</th>\n",
       "      <td>11</td>\n",
       "      <td>2</td>\n",
       "      <td>5.8750</td>\n",
       "      <td>25.1053</td>\n",
       "      <td>25.1072</td>\n",
       "    </tr>\n",
       "    <tr>\n",
       "      <th>7</th>\n",
       "      <td>9</td>\n",
       "      <td>3</td>\n",
       "      <td>0.0019</td>\n",
       "      <td>25.1072</td>\n",
       "      <td>25.1053</td>\n",
       "    </tr>\n",
       "    <tr>\n",
       "      <th>8</th>\n",
       "      <td>1</td>\n",
       "      <td>4</td>\n",
       "      <td>25.1053</td>\n",
       "      <td>30.9822</td>\n",
       "      <td>0.0000</td>\n",
       "    </tr>\n",
       "  </tbody>\n",
       "</table>\n",
       "</div>"
      ],
      "text/plain": [
       "   Activity Cat  Step  Duration Float  Passed Time  Time to conclusion\n",
       "0             0     1          0.0000       0.0000             31.0087\n",
       "1            11     2         16.0084       0.0000             15.0003\n",
       "2             9     3          0.0001      15.0002             15.0002\n",
       "3             1     4         15.0002      15.0003              0.0000\n",
       "4             1     5          0.0000      31.0087              0.0000\n",
       "5             0     1          0.0000       0.0000             30.9822\n",
       "6            11     2          5.8750      25.1053             25.1072\n",
       "7             9     3          0.0019      25.1072             25.1053\n",
       "8             1     4         25.1053      30.9822              0.0000"
      ]
     },
     "execution_count": 127,
     "metadata": {},
     "output_type": "execute_result"
    }
   ],
   "source": [
    "df_final[['Activity Cat', 'Step', 'Duration Float', 'Passed Time', 'Time to conclusion']].head(9)"
   ]
  },
  {
   "cell_type": "code",
   "execution_count": 128,
   "id": "3571cea8",
   "metadata": {},
   "outputs": [],
   "source": [
    "one_hot = pd.get_dummies(df_final['Activity Cat'])\n",
    "\n",
    "# Join the encoded df\n",
    "df_final = df_final.join(one_hot)"
   ]
  },
  {
   "cell_type": "code",
   "execution_count": 129,
   "id": "c70ad54f",
   "metadata": {},
   "outputs": [
    {
     "name": "stdout",
     "output_type": "stream",
     "text": [
      "bukhsh_partition\n"
     ]
    }
   ],
   "source": [
    "from sklearn.model_selection import train_test_split\n",
    "\n",
    "print(mode)\n",
    "if (mode == 'bukhsh_partition'):    \n",
    "    train_cases = pd.read_csv('bukhsh_data/bukhsh_remaining_time_train.csv')['case_id'].unique()\n",
    "    test_cases = pd.read_csv('bukhsh_data/bukhsh_remaining_time_test.csv')['case_id'].unique()\n",
    "    val_cases, test_cases  = train_test_split(test_cases, test_size=0.5, \n",
    "                                            shuffle=True,\n",
    "                                            random_state=42\n",
    "                                           )\n",
    "else:\n",
    "    train_cases, test_cases  = train_test_split(sorted_time_cases, test_size=0.4, \n",
    "                                            shuffle=False, \n",
    "                                            random_state=42\n",
    "                                           )\n",
    "    \n",
    "    val_cases, test_cases  = train_test_split(test_cases, test_size=0.5, \n",
    "                                            shuffle=True,\n",
    "                                            random_state=42\n",
    "                                           )"
   ]
  },
  {
   "cell_type": "code",
   "execution_count": 130,
   "id": "e7637e06",
   "metadata": {},
   "outputs": [
    {
     "data": {
      "text/plain": [
       "(3664, 458, 458)"
      ]
     },
     "execution_count": 130,
     "metadata": {},
     "output_type": "execute_result"
    }
   ],
   "source": [
    "len(train_cases), len(test_cases) , len(val_cases)"
   ]
  },
  {
   "cell_type": "code",
   "execution_count": 131,
   "id": "455b005f",
   "metadata": {},
   "outputs": [
    {
     "name": "stdout",
     "output_type": "stream",
     "text": [
      "2010-01-13 08:40:25 2014-01-03 13:20:58\n"
     ]
    }
   ],
   "source": [
    "print(\n",
    "    df_finale[df_finale['Case ID'].isin(train_cases)]['Complete Timestamp'].min(),\n",
    "    df_finale[df_finale['Case ID'].isin(train_cases)]['Complete Timestamp'].max()\n",
    ")"
   ]
  },
  {
   "cell_type": "code",
   "execution_count": 132,
   "id": "0d63055a",
   "metadata": {},
   "outputs": [
    {
     "name": "stdout",
     "output_type": "stream",
     "text": [
      "2010-01-13 12:30:37 2014-01-02 08:32:07\n"
     ]
    }
   ],
   "source": [
    "print(\n",
    "    df_finale[df_finale['Case ID'].isin(val_cases)]['Complete Timestamp'].min(),\n",
    "    df_finale[df_finale['Case ID'].isin(val_cases)]['Complete Timestamp'].max()\n",
    ")"
   ]
  },
  {
   "cell_type": "code",
   "execution_count": 133,
   "id": "709e826a",
   "metadata": {},
   "outputs": [
    {
     "name": "stdout",
     "output_type": "stream",
     "text": [
      "2010-02-04 08:20:45 2014-01-03 10:08:18\n"
     ]
    }
   ],
   "source": [
    "print(\n",
    "    df_finale[df_finale['Case ID'].isin(test_cases)]['Complete Timestamp'].min(),\n",
    "    df_finale[df_finale['Case ID'].isin(test_cases)]['Complete Timestamp'].max()\n",
    ")"
   ]
  },
  {
   "cell_type": "markdown",
   "id": "b8526189",
   "metadata": {},
   "source": [
    "Overriding cases checking"
   ]
  },
  {
   "cell_type": "code",
   "execution_count": 134,
   "id": "a263cf0b",
   "metadata": {
    "scrolled": true
   },
   "outputs": [
    {
     "name": "stdout",
     "output_type": "stream",
     "text": [
      "set() set() set()\n"
     ]
    }
   ],
   "source": [
    "print(\n",
    "    set(test_cases).intersection(set(train_cases)),\n",
    "    set(test_cases).intersection(set(val_cases)),\n",
    "    set(train_cases).intersection(set(val_cases))\n",
    ")"
   ]
  },
  {
   "cell_type": "markdown",
   "id": "b6463dd0",
   "metadata": {},
   "source": [
    "Dataframes creation"
   ]
  },
  {
   "cell_type": "code",
   "execution_count": 135,
   "id": "5ba560f1",
   "metadata": {},
   "outputs": [],
   "source": [
    "df_train = df_final[df_final['Case ID'].isin(train_cases)]\n",
    "df_test = df_final[df_final['Case ID'].isin(test_cases)]\n",
    "df_val = df_final[df_final['Case ID'].isin(val_cases)]"
   ]
  },
  {
   "cell_type": "markdown",
   "id": "b208a5d3",
   "metadata": {},
   "source": [
    "Features selection"
   ]
  },
  {
   "cell_type": "code",
   "execution_count": 136,
   "id": "9e5eea89",
   "metadata": {},
   "outputs": [],
   "source": [
    "X_train = df_train[['Step', 'Duration Float', 'Passed Time', 0,1,2,3,4,5,6,7,8,9,10,11,12,13]]\n",
    "X_train = X_train.values\n",
    "\n",
    "y_train = df_train[['Time to conclusion']].values\n",
    "\n",
    "\n",
    "X_test = df_test[['Step', 'Duration Float', 'Passed Time', 0,1,2,3,4,5,6,7,8,9,10,11,12,13]]\n",
    "X_test = X_test.values\n",
    "\n",
    "y_test = df_test[['Time to conclusion']].values\n",
    "\n",
    "\n",
    "X_val = df_val[['Step', 'Duration Float', 'Passed Time', 0,1,2,3,4,5,6,7,8,9,10,11,12,13]]\n",
    "X_val = X_val.values\n",
    "\n",
    "y_val = df_val[['Time to conclusion']].values"
   ]
  },
  {
   "cell_type": "code",
   "execution_count": 137,
   "id": "af956a2d",
   "metadata": {},
   "outputs": [],
   "source": [
    "from sklearn.dummy import DummyRegressor\n",
    "from sklearn.linear_model import LinearRegression\n",
    "from sklearn.ensemble import RandomForestRegressor\n",
    "\n",
    "regressors = [  \n",
    "        {'nome' : 'DummyRegressor', 'regressor':  DummyRegressor(strategy='mean')},\n",
    "        {'nome': 'LinearRegression', 'regressor': LinearRegression(fit_intercept=False, normalize=True)},\n",
    "        {'nome': 'RandomForestRegressor',  'regressor': RandomForestRegressor(n_estimators=20, criterion='mse', max_features='auto', \n",
    "                                                                              bootstrap=True, warm_start=True, max_depth=19, random_state=0)},\n",
    "]"
   ]
  },
  {
   "cell_type": "code",
   "execution_count": 138,
   "id": "21159624",
   "metadata": {},
   "outputs": [
    {
     "data": {
      "text/html": [
       "<div>\n",
       "<style scoped>\n",
       "    .dataframe tbody tr th:only-of-type {\n",
       "        vertical-align: middle;\n",
       "    }\n",
       "\n",
       "    .dataframe tbody tr th {\n",
       "        vertical-align: top;\n",
       "    }\n",
       "\n",
       "    .dataframe thead th {\n",
       "        text-align: right;\n",
       "    }\n",
       "</style>\n",
       "<table border=\"1\" class=\"dataframe\">\n",
       "  <thead>\n",
       "    <tr style=\"text-align: right;\">\n",
       "      <th></th>\n",
       "      <th>Nome do modelo</th>\n",
       "      <th>MAE</th>\n",
       "      <th>MAE (val)</th>\n",
       "    </tr>\n",
       "  </thead>\n",
       "  <tbody>\n",
       "    <tr>\n",
       "      <th>2</th>\n",
       "      <td>RandomForestRegressor</td>\n",
       "      <td>3.476310</td>\n",
       "      <td>3.406881</td>\n",
       "    </tr>\n",
       "    <tr>\n",
       "      <th>1</th>\n",
       "      <td>LinearRegression</td>\n",
       "      <td>5.828287</td>\n",
       "      <td>5.929979</td>\n",
       "    </tr>\n",
       "    <tr>\n",
       "      <th>0</th>\n",
       "      <td>DummyRegressor</td>\n",
       "      <td>14.825708</td>\n",
       "      <td>14.998173</td>\n",
       "    </tr>\n",
       "  </tbody>\n",
       "</table>\n",
       "</div>"
      ],
      "text/plain": [
       "          Nome do modelo        MAE  MAE (val)\n",
       "2  RandomForestRegressor   3.476310   3.406881\n",
       "1       LinearRegression   5.828287   5.929979\n",
       "0         DummyRegressor  14.825708  14.998173"
      ]
     },
     "execution_count": 138,
     "metadata": {},
     "output_type": "execute_result"
    }
   ],
   "source": [
    "import time\n",
    "from sklearn.metrics import mean_absolute_error\n",
    "\n",
    "cols = [\n",
    "        'Nome do modelo', 'MAE', \n",
    "        'MAE (val)'\n",
    "       ]\n",
    "\n",
    "data_result = []\n",
    "\n",
    "for regressor in regressors:    \n",
    "    t1 = time.time()\n",
    "    regr = regressor['regressor'].fit(X_train, y_train)\n",
    "    tf = time.time()\n",
    "    \n",
    "    y_pred = regr.predict(X_test)\n",
    "    mae = mean_absolute_error(y_test, y_pred)\n",
    "    \n",
    "    y_val_pred = regr.predict(X_val)\n",
    "    mae_val = mean_absolute_error(y_val, y_val_pred)    \n",
    "        \n",
    "    line = [\n",
    "        regressor['nome'],\n",
    "        mae,\n",
    "        mae_val\n",
    "    ]\n",
    "    data_result.append(line)\n",
    "\n",
    "pd.DataFrame(data_result, columns=cols).sort_values(by='MAE', ascending=True)"
   ]
  },
  {
   "cell_type": "markdown",
   "id": "de4a84e8",
   "metadata": {},
   "source": [
    "Deep learning model definition"
   ]
  },
  {
   "cell_type": "code",
   "execution_count": 139,
   "id": "16de2784",
   "metadata": {},
   "outputs": [],
   "source": [
    "import keras\n",
    "from keras_self_attention import SeqSelfAttention"
   ]
  },
  {
   "cell_type": "code",
   "execution_count": 140,
   "id": "6d951203",
   "metadata": {},
   "outputs": [],
   "source": [
    "from tensorflow import keras\n",
    "\n",
    "from keras.layers import Dropout\n",
    "from keras.layers import Dense\n",
    "from keras.layers import LSTM\n",
    "from keras.layers import Bidirectional\n",
    "from keras.layers import PReLU\n",
    "from keras.layers import Embedding\n",
    "\n",
    "\n",
    "from keras.utils.vis_utils import plot_model\n",
    "\n",
    "from keras.callbacks import EarlyStopping\n",
    "from tqdm.keras import TqdmCallback"
   ]
  },
  {
   "cell_type": "code",
   "execution_count": 141,
   "id": "114960cf",
   "metadata": {},
   "outputs": [],
   "source": [
    "from keras.layers.core import Activation\n",
    "from keras.initializers import Constant\n",
    "\n",
    "from keras.regularizers import l2"
   ]
  },
  {
   "cell_type": "code",
   "execution_count": 142,
   "id": "9eb285c8",
   "metadata": {},
   "outputs": [
    {
     "name": "stdout",
     "output_type": "stream",
     "text": [
      "Model: \"sequential_4\"\n",
      "_________________________________________________________________\n",
      " Layer (type)                Output Shape              Param #   \n",
      "=================================================================\n",
      " Densa (Dense)               (None, 17)                306       \n",
      "                                                                 \n",
      " Regularizacao (Dropout)     (None, 17)                0         \n",
      "                                                                 \n",
      " Nivelamento (Flatten)       (None, 17)                0         \n",
      "                                                                 \n",
      " Saida (Dense)               (None, 1)                 18        \n",
      "                                                                 \n",
      "=================================================================\n",
      "Total params: 324\n",
      "Trainable params: 324\n",
      "Non-trainable params: 0\n",
      "_________________________________________________________________\n"
     ]
    }
   ],
   "source": [
    "from keras_multi_head import MultiHead\n",
    "from keras_multi_head import MultiHeadAttention\n",
    "\n",
    "model = keras.models.Sequential(name='')\n",
    "\n",
    "model.add(Dense(X_train.shape[1], \n",
    "                input_dim=X_train.shape[1], \n",
    "                activation='relu', \n",
    "                name='Densa'\n",
    "                ))\n",
    "\n",
    "model.add(Dropout(0.05, name='Regularizacao'))\n",
    "\n",
    "model.add(keras.layers.Flatten(name='Nivelamento'))\n",
    "model.add(Dense(1, activation='relu', name='Saida'))\n",
    "\n",
    "model.summary()"
   ]
  },
  {
   "cell_type": "code",
   "execution_count": 143,
   "id": "da91d8f0",
   "metadata": {
    "scrolled": false
   },
   "outputs": [
    {
     "data": {
      "application/vnd.jupyter.widget-view+json": {
       "model_id": "a3c09d60c82f4fea88d3c6d626a00702",
       "version_major": 2,
       "version_minor": 0
      },
      "text/plain": [
       "0epoch [00:00, ?epoch/s]"
      ]
     },
     "metadata": {},
     "output_type": "display_data"
    },
    {
     "name": "stdout",
     "output_type": "stream",
     "text": [
      "Epoch 742: early stopping\n"
     ]
    }
   ],
   "source": [
    "nadam = keras.optimizers.Nadam(\n",
    "    learning_rate=0.01, beta_1=0.9, beta_2=0.99, epsilon=1e-07, name=\"Nadam\")\n",
    "\n",
    "model.compile(\n",
    "    optimizer=nadam, \n",
    "    loss=\"mean_absolute_error\", \n",
    "    #loss=keras.losses.LogCosh(),\n",
    "    metrics=[\"mean_absolute_error\"]\n",
    ")\n",
    "\n",
    "es = EarlyStopping(monitor='mean_absolute_error', \n",
    "                   min_delta=1e-07, #min_delta=1e-04, \n",
    "                   patience=50, verbose=1)\n",
    "\n",
    "history = model.fit(X_train, y_train, \n",
    "                    epochs=2000,\n",
    "                    batch_size=X_train.shape[1] * 100,\n",
    "                    callbacks=[TqdmCallback(verbose=0), es],\n",
    "                    validation_data=[X_val, y_val],\n",
    "                    verbose=0)"
   ]
  },
  {
   "cell_type": "code",
   "execution_count": 144,
   "id": "8bd473e3",
   "metadata": {},
   "outputs": [
    {
     "name": "stdout",
     "output_type": "stream",
     "text": [
      "67/67 [==============================] - 0s 2ms/step\n",
      "3.7498239037533567\n"
     ]
    }
   ],
   "source": [
    "test_predicton = model.predict(X_test)\n",
    "mae_error = mean_absolute_error(y_test, test_predicton)\n",
    "print(mae_error)"
   ]
  },
  {
   "cell_type": "markdown",
   "id": "324ebb3d",
   "metadata": {},
   "source": [
    "- Bukhsh partition (train, test, split_validation=0.5) = 3.7498\n",
    "----\n",
    "- Silva partition (train, test, split_validation=0.5) = 3.9524"
   ]
  },
  {
   "cell_type": "code",
   "execution_count": null,
   "id": "c5824ec6",
   "metadata": {},
   "outputs": [],
   "source": []
  },
  {
   "cell_type": "code",
   "execution_count": null,
   "id": "d362ef6a",
   "metadata": {},
   "outputs": [],
   "source": []
  }
 ],
 "metadata": {
  "kernelspec": {
   "display_name": "Python 3 (ipykernel)",
   "language": "python",
   "name": "python3"
  },
  "language_info": {
   "codemirror_mode": {
    "name": "ipython",
    "version": 3
   },
   "file_extension": ".py",
   "mimetype": "text/x-python",
   "name": "python",
   "nbconvert_exporter": "python",
   "pygments_lexer": "ipython3",
   "version": "3.8.10"
  }
 },
 "nbformat": 4,
 "nbformat_minor": 5
}
