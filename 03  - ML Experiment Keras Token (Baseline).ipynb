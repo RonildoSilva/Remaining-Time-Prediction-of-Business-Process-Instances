{
 "cells": [
  {
   "cell_type": "code",
   "execution_count": 456,
   "id": "5de83000",
   "metadata": {},
   "outputs": [],
   "source": [
    "import warnings\n",
    "warnings.filterwarnings('ignore')"
   ]
  },
  {
   "cell_type": "code",
   "execution_count": 457,
   "id": "ef18ff8b",
   "metadata": {},
   "outputs": [],
   "source": [
    "import os\n",
    "import pandas as pd\n",
    "import math\n",
    "import numpy as np"
   ]
  },
  {
   "cell_type": "markdown",
   "id": "71598fa7",
   "metadata": {},
   "source": [
    "Get sorted cases id"
   ]
  },
  {
   "cell_type": "code",
   "execution_count": 458,
   "id": "4a63568d",
   "metadata": {},
   "outputs": [],
   "source": [
    "import wget\n",
    "import os.path\n",
    "\n",
    "if(not os.path.exists('finale.csv')):\n",
    "    wget.download('https://data.4tu.nl/ndownloader/files/23993303')\n",
    "    \n",
    "df_finale = pd.read_csv('finale.csv', index_col=0).reset_index()\n",
    "\n",
    "df_finale['Complete Timestamp'] = pd.to_datetime(df_finale['Complete Timestamp'])\n",
    "#sorted_time_cases = df_finale.sort_values('Complete Timestamp')['Case ID'].drop_duplicates().values\n",
    "sorted_time_cases = df_finale.sort_values('Complete Timestamp')['Case ID'].values"
   ]
  },
  {
   "cell_type": "code",
   "execution_count": 459,
   "id": "47eaa3ab",
   "metadata": {},
   "outputs": [],
   "source": [
    "unique_sorted_time_cases = []\n",
    "for case in sorted_time_cases:\n",
    "    if(not case in unique_sorted_time_cases):\n",
    "        unique_sorted_time_cases.append(case)"
   ]
  },
  {
   "cell_type": "code",
   "execution_count": 460,
   "id": "aaf172fb",
   "metadata": {},
   "outputs": [
    {
     "data": {
      "text/plain": [
       "4580"
      ]
     },
     "execution_count": 460,
     "metadata": {},
     "output_type": "execute_result"
    }
   ],
   "source": [
    "len(unique_sorted_time_cases)"
   ]
  },
  {
   "cell_type": "code",
   "execution_count": 461,
   "id": "446b2e87",
   "metadata": {},
   "outputs": [],
   "source": [
    "sorted_time_cases = unique_sorted_time_cases"
   ]
  },
  {
   "cell_type": "code",
   "execution_count": 462,
   "id": "0bbf1be1",
   "metadata": {},
   "outputs": [],
   "source": [
    "colapsed = True\n",
    "\n",
    "if(colapsed):\n",
    "    df_final = pd.read_csv('finale_time_features_colapsed_prefixed.csv')\n",
    "    df_final.rename(columns = {'CaseID':'Case ID'}, inplace = True)\n",
    "else:\n",
    "    df_final = pd.read_csv('finale_time_features.csv')\n"
   ]
  },
  {
   "cell_type": "markdown",
   "id": "3f36206a",
   "metadata": {},
   "source": [
    "Operação para remover espaços na descrição da activity"
   ]
  },
  {
   "cell_type": "code",
   "execution_count": 463,
   "id": "ebe7cd3e",
   "metadata": {},
   "outputs": [],
   "source": [
    "df_final['Activity'] = df_final['Activity'].str.lower()\n",
    "df_final['Activity'] = df_final['Activity'].str.replace(' ','-')"
   ]
  },
  {
   "cell_type": "code",
   "execution_count": 464,
   "id": "36ef69bd",
   "metadata": {},
   "outputs": [
    {
     "data": {
      "text/plain": [
       "(20404, 8)"
      ]
     },
     "execution_count": 464,
     "metadata": {},
     "output_type": "execute_result"
    }
   ],
   "source": [
    "df_final.shape"
   ]
  },
  {
   "cell_type": "markdown",
   "id": "d333d41d",
   "metadata": {},
   "source": [
    "- original: (21348)\n",
    "- colapsed: (20404)"
   ]
  },
  {
   "cell_type": "code",
   "execution_count": 465,
   "id": "025c40ca",
   "metadata": {},
   "outputs": [
    {
     "data": {
      "text/plain": [
       "944"
      ]
     },
     "execution_count": 465,
     "metadata": {},
     "output_type": "execute_result"
    }
   ],
   "source": [
    "21348 - 20404"
   ]
  },
  {
   "cell_type": "code",
   "execution_count": 466,
   "id": "0196e9c0",
   "metadata": {},
   "outputs": [
    {
     "data": {
      "text/plain": [
       "Index(['Case ID', 'Activity', 'Duration', 'Duration Float',\n",
       "       'Time to conclusion', 'Passed Time', 'Step', 'Prefix'],\n",
       "      dtype='object')"
      ]
     },
     "execution_count": 466,
     "metadata": {},
     "output_type": "execute_result"
    }
   ],
   "source": [
    "df_final.columns"
   ]
  },
  {
   "cell_type": "markdown",
   "id": "3131f961",
   "metadata": {},
   "source": [
    "Variables definition"
   ]
  },
  {
   "cell_type": "code",
   "execution_count": 467,
   "id": "6297027d",
   "metadata": {},
   "outputs": [],
   "source": [
    "just_closed = False\n",
    "#mode = 'bukhsh_partition'\n",
    "mode = 'silva_partition'"
   ]
  },
  {
   "cell_type": "markdown",
   "id": "dabcad43",
   "metadata": {},
   "source": [
    "Filter for `Closed` process"
   ]
  },
  {
   "cell_type": "code",
   "execution_count": 468,
   "id": "193e43dc",
   "metadata": {},
   "outputs": [],
   "source": [
    "if(just_closed):\n",
    "    closed_cases = []\n",
    "\n",
    "    for name, group in df_final.groupby('Case ID'):\n",
    "        last_step = group.tail(1)['Activity'].values[0]\n",
    "        if(last_step == 'Closed'):\n",
    "            closed_cases.append(group['Case ID'].values[0])\n",
    "\n",
    "    df_final = df_final[df_final['Case ID'].isin(closed_cases)]     "
   ]
  },
  {
   "cell_type": "code",
   "execution_count": null,
   "id": "32571ef7",
   "metadata": {},
   "outputs": [],
   "source": []
  },
  {
   "cell_type": "markdown",
   "id": "ed201ea4",
   "metadata": {},
   "source": [
    "Activity categorization"
   ]
  },
  {
   "cell_type": "code",
   "execution_count": 469,
   "id": "46bb4522",
   "metadata": {},
   "outputs": [],
   "source": [
    "df_final['Activity Cat'] = df_final['Activity'].astype('category').cat.codes"
   ]
  },
  {
   "cell_type": "markdown",
   "id": "4b979f37",
   "metadata": {},
   "source": [
    "Example:"
   ]
  },
  {
   "cell_type": "code",
   "execution_count": 470,
   "id": "5da7c909",
   "metadata": {},
   "outputs": [
    {
     "data": {
      "text/html": [
       "<div>\n",
       "<style scoped>\n",
       "    .dataframe tbody tr th:only-of-type {\n",
       "        vertical-align: middle;\n",
       "    }\n",
       "\n",
       "    .dataframe tbody tr th {\n",
       "        vertical-align: top;\n",
       "    }\n",
       "\n",
       "    .dataframe thead th {\n",
       "        text-align: right;\n",
       "    }\n",
       "</style>\n",
       "<table border=\"1\" class=\"dataframe\">\n",
       "  <thead>\n",
       "    <tr style=\"text-align: right;\">\n",
       "      <th></th>\n",
       "      <th>Activity Cat</th>\n",
       "      <th>Step</th>\n",
       "      <th>Duration Float</th>\n",
       "      <th>Passed Time</th>\n",
       "      <th>Time to conclusion</th>\n",
       "    </tr>\n",
       "  </thead>\n",
       "  <tbody>\n",
       "    <tr>\n",
       "      <th>0</th>\n",
       "      <td>0</td>\n",
       "      <td>1</td>\n",
       "      <td>0.0000</td>\n",
       "      <td>0.0000</td>\n",
       "      <td>31.0087</td>\n",
       "    </tr>\n",
       "    <tr>\n",
       "      <th>1</th>\n",
       "      <td>11</td>\n",
       "      <td>2</td>\n",
       "      <td>16.0084</td>\n",
       "      <td>15.0002</td>\n",
       "      <td>15.0003</td>\n",
       "    </tr>\n",
       "    <tr>\n",
       "      <th>2</th>\n",
       "      <td>9</td>\n",
       "      <td>3</td>\n",
       "      <td>0.0001</td>\n",
       "      <td>15.0003</td>\n",
       "      <td>15.0002</td>\n",
       "    </tr>\n",
       "    <tr>\n",
       "      <th>3</th>\n",
       "      <td>1</td>\n",
       "      <td>4</td>\n",
       "      <td>15.0002</td>\n",
       "      <td>31.0087</td>\n",
       "      <td>0.0000</td>\n",
       "    </tr>\n",
       "    <tr>\n",
       "      <th>4</th>\n",
       "      <td>0</td>\n",
       "      <td>1</td>\n",
       "      <td>0.0000</td>\n",
       "      <td>0.0000</td>\n",
       "      <td>30.9822</td>\n",
       "    </tr>\n",
       "    <tr>\n",
       "      <th>5</th>\n",
       "      <td>11</td>\n",
       "      <td>2</td>\n",
       "      <td>5.8750</td>\n",
       "      <td>25.1053</td>\n",
       "      <td>25.1072</td>\n",
       "    </tr>\n",
       "    <tr>\n",
       "      <th>6</th>\n",
       "      <td>9</td>\n",
       "      <td>3</td>\n",
       "      <td>0.0019</td>\n",
       "      <td>25.1072</td>\n",
       "      <td>25.1053</td>\n",
       "    </tr>\n",
       "    <tr>\n",
       "      <th>7</th>\n",
       "      <td>1</td>\n",
       "      <td>4</td>\n",
       "      <td>25.1053</td>\n",
       "      <td>30.9822</td>\n",
       "      <td>0.0000</td>\n",
       "    </tr>\n",
       "    <tr>\n",
       "      <th>8</th>\n",
       "      <td>0</td>\n",
       "      <td>1</td>\n",
       "      <td>14.0421</td>\n",
       "      <td>-0.0000</td>\n",
       "      <td>37.1046</td>\n",
       "    </tr>\n",
       "  </tbody>\n",
       "</table>\n",
       "</div>"
      ],
      "text/plain": [
       "   Activity Cat  Step  Duration Float  Passed Time  Time to conclusion\n",
       "0             0     1          0.0000       0.0000             31.0087\n",
       "1            11     2         16.0084      15.0002             15.0003\n",
       "2             9     3          0.0001      15.0003             15.0002\n",
       "3             1     4         15.0002      31.0087              0.0000\n",
       "4             0     1          0.0000       0.0000             30.9822\n",
       "5            11     2          5.8750      25.1053             25.1072\n",
       "6             9     3          0.0019      25.1072             25.1053\n",
       "7             1     4         25.1053      30.9822              0.0000\n",
       "8             0     1         14.0421      -0.0000             37.1046"
      ]
     },
     "execution_count": 470,
     "metadata": {},
     "output_type": "execute_result"
    }
   ],
   "source": [
    "df_final[['Activity Cat', 'Step', 'Duration Float', 'Passed Time', 'Time to conclusion']].head(9)"
   ]
  },
  {
   "cell_type": "markdown",
   "id": "20b59ece",
   "metadata": {},
   "source": [
    "Spliting data (train, test, validation)"
   ]
  },
  {
   "cell_type": "code",
   "execution_count": 471,
   "id": "c70ad54f",
   "metadata": {},
   "outputs": [
    {
     "name": "stdout",
     "output_type": "stream",
     "text": [
      "silva_partition\n"
     ]
    }
   ],
   "source": [
    "from sklearn.model_selection import train_test_split\n",
    "\n",
    "print(mode)\n",
    "if (mode == 'bukhsh_partition'):    \n",
    "    train_cases = pd.read_csv('bukhsh_data/bukhsh_remaining_time_train.csv')['case_id'].unique()\n",
    "    test_cases = pd.read_csv('bukhsh_data/bukhsh_remaining_time_test.csv')['case_id'].unique()\n",
    "else:\n",
    "    train_cases, test_cases  = train_test_split(sorted_time_cases, test_size=0.4, \n",
    "                                            shuffle=False, \n",
    "                                            random_state=42\n",
    "                                           )\n",
    "    \n",
    "    val_cases, test_cases = train_test_split(test_cases, test_size=0.5, \n",
    "                                        shuffle=True,\n",
    "                                        random_state=42\n",
    "                                       )"
   ]
  },
  {
   "cell_type": "code",
   "execution_count": 472,
   "id": "714f2ec7",
   "metadata": {},
   "outputs": [
    {
     "data": {
      "text/plain": [
       "(2748, 916, 916)"
      ]
     },
     "execution_count": 472,
     "metadata": {},
     "output_type": "execute_result"
    }
   ],
   "source": [
    "len(train_cases), len(val_cases), len(test_cases)"
   ]
  },
  {
   "cell_type": "code",
   "execution_count": 473,
   "id": "39185b6e",
   "metadata": {},
   "outputs": [
    {
     "name": "stdout",
     "output_type": "stream",
     "text": [
      "2010-01-13 08:40:25 2012-04-07 07:42:34\n"
     ]
    }
   ],
   "source": [
    "print(\n",
    "    df_finale[df_finale['Case ID'].isin(train_cases)]['Complete Timestamp'].min(),\n",
    "    df_finale[df_finale['Case ID'].isin(train_cases)]['Complete Timestamp'].max()\n",
    ")"
   ]
  },
  {
   "cell_type": "code",
   "execution_count": 474,
   "id": "6163ff0c",
   "metadata": {},
   "outputs": [
    {
     "name": "stdout",
     "output_type": "stream",
     "text": [
      "2012-02-10 09:55:04 2014-01-03 10:03:58\n"
     ]
    }
   ],
   "source": [
    "print(\n",
    "    df_finale[df_finale['Case ID'].isin(val_cases)]['Complete Timestamp'].min(),\n",
    "    df_finale[df_finale['Case ID'].isin(val_cases)]['Complete Timestamp'].max()\n",
    ")"
   ]
  },
  {
   "cell_type": "code",
   "execution_count": 475,
   "id": "997066b3",
   "metadata": {
    "scrolled": false
   },
   "outputs": [
    {
     "name": "stdout",
     "output_type": "stream",
     "text": [
      "2012-02-10 14:32:25 2014-01-03 13:20:58\n"
     ]
    }
   ],
   "source": [
    "print(\n",
    "    df_finale[df_finale['Case ID'].isin(test_cases)]['Complete Timestamp'].min(),\n",
    "    df_finale[df_finale['Case ID'].isin(test_cases)]['Complete Timestamp'].max()\n",
    ")"
   ]
  },
  {
   "cell_type": "markdown",
   "id": "cbc79acb",
   "metadata": {},
   "source": [
    "Dataframes creation"
   ]
  },
  {
   "cell_type": "code",
   "execution_count": 476,
   "id": "02f36b57",
   "metadata": {},
   "outputs": [],
   "source": [
    "df_train = df_final[df_final['Case ID'].isin(train_cases)]\n",
    "df_test = df_final[df_final['Case ID'].isin(test_cases)]\n",
    "df_val = df_final[df_final['Case ID'].isin(val_cases)]"
   ]
  },
  {
   "cell_type": "markdown",
   "id": "39a74870",
   "metadata": {},
   "source": [
    "Keras tokenizer"
   ]
  },
  {
   "cell_type": "code",
   "execution_count": 477,
   "id": "6894a4e4",
   "metadata": {},
   "outputs": [],
   "source": [
    "from keras.preprocessing.text import Tokenizer"
   ]
  },
  {
   "cell_type": "code",
   "execution_count": 478,
   "id": "00c814aa",
   "metadata": {},
   "outputs": [],
   "source": [
    "df_prefix_train = df_train['Prefix'].str.split(',', expand = True)\n",
    "col = df_prefix_train.shape[1]\n",
    "for i in range(15 - df_prefix_train.shape[1]):\n",
    "    df_prefix_train.insert(df_prefix_train.shape[1], col+i, None) \n",
    "    print(i) "
   ]
  },
  {
   "cell_type": "code",
   "execution_count": 479,
   "id": "f584bef3",
   "metadata": {},
   "outputs": [
    {
     "name": "stdout",
     "output_type": "stream",
     "text": [
      "0\n",
      "1\n",
      "2\n",
      "3\n",
      "4\n",
      "5\n"
     ]
    }
   ],
   "source": [
    "df_prefix_val = df_val['Prefix'].str.split(',', expand = True)\n",
    "col = df_prefix_val.shape[1]\n",
    "for i in range(15 - df_prefix_val.shape[1]):\n",
    "    df_prefix_val.insert(df_prefix_val.shape[1], col+i, None) \n",
    "    print(i)"
   ]
  },
  {
   "cell_type": "code",
   "execution_count": 480,
   "id": "c9542bd3",
   "metadata": {},
   "outputs": [
    {
     "name": "stdout",
     "output_type": "stream",
     "text": [
      "0\n",
      "1\n",
      "2\n",
      "3\n",
      "4\n"
     ]
    }
   ],
   "source": [
    "df_prefix_test = df_test['Prefix'].str.split(',', expand = True)\n",
    "col = df_prefix_test.shape[1]\n",
    "for i in range(15 - df_prefix_test.shape[1]):\n",
    "    df_prefix_test.insert(df_prefix_test.shape[1], col+i, None) \n",
    "    print(i)"
   ]
  },
  {
   "cell_type": "code",
   "execution_count": 481,
   "id": "7f63fba8",
   "metadata": {},
   "outputs": [],
   "source": [
    "df_prefix_train = df_prefix_train.fillna('')\n",
    "df_prefix_val = df_prefix_val.fillna('')\n",
    "df_prefix_test = df_prefix_test.fillna('')"
   ]
  },
  {
   "cell_type": "code",
   "execution_count": 482,
   "id": "ca863285",
   "metadata": {},
   "outputs": [],
   "source": [
    "#tokenize_mode = 'texts_to_sequences'\n",
    "#tokenize_mode = 'texts_to_matrix'\n",
    "tokenize_mode = 'sequences_to_matrix'"
   ]
  },
  {
   "cell_type": "code",
   "execution_count": 483,
   "id": "d9ca1469",
   "metadata": {},
   "outputs": [],
   "source": [
    "kerasTokenizer = Tokenizer(\n",
    "    filters='!\"#$%&()*+,-./:;<=>?@[\\\\]^_`{|}~\\t\\n',\n",
    "    lower=True,\n",
    "    split=\",\")\n",
    "\n",
    "\n",
    "train_txt = df_train['Activity'].values\n",
    "val_txt = df_val['Activity'].values\n",
    "test_txt = df_test['Activity'].values\n",
    "\n",
    "\"\"\"\n",
    "train_txt = df_train['Prefix'].values\n",
    "val_txt = df_val['Prefix'].values\n",
    "test_txt = df_test['Prefix'].values\n",
    "\"\"\"\n",
    "\n",
    "\"\"\"\n",
    "train_txt = df_prefix_train.values.tolist()\n",
    "val_txt = df_prefix_val.values.tolist()\n",
    "test_txt = df_prefix_test.values.tolist()\n",
    "\"\"\"\n",
    "\n",
    "kerasTokenizer.fit_on_texts(train_txt)\n",
    "\n",
    "train_sequences = kerasTokenizer.texts_to_sequences(train_txt)\n",
    "val_sequences = kerasTokenizer.texts_to_sequences(val_txt)\n",
    "test_sequences = kerasTokenizer.texts_to_sequences(test_txt)\n",
    "\n",
    "train_matrix = kerasTokenizer.texts_to_matrix(train_txt, mode='binary')\n",
    "val_matrix = kerasTokenizer.texts_to_matrix(val_txt, mode='binary')\n",
    "test_matrix = kerasTokenizer.texts_to_matrix(test_txt, mode='binary')\n",
    "\n",
    "\n",
    "train_sequences_matrix = kerasTokenizer.sequences_to_matrix(train_sequences, mode='binary')\n",
    "val_sequences_matrix = kerasTokenizer.sequences_to_matrix(val_sequences, mode='binary')\n",
    "test_sequences_matrix = kerasTokenizer.sequences_to_matrix(test_sequences, mode='binary')"
   ]
  },
  {
   "cell_type": "code",
   "execution_count": 486,
   "id": "1a34ad80",
   "metadata": {
    "scrolled": true
   },
   "outputs": [
    {
     "data": {
      "text/html": [
       "<div>\n",
       "<style scoped>\n",
       "    .dataframe tbody tr th:only-of-type {\n",
       "        vertical-align: middle;\n",
       "    }\n",
       "\n",
       "    .dataframe tbody tr th {\n",
       "        vertical-align: top;\n",
       "    }\n",
       "\n",
       "    .dataframe thead th {\n",
       "        text-align: right;\n",
       "    }\n",
       "</style>\n",
       "<table border=\"1\" class=\"dataframe\">\n",
       "  <thead>\n",
       "    <tr style=\"text-align: right;\">\n",
       "      <th></th>\n",
       "      <th>0</th>\n",
       "      <th>1</th>\n",
       "      <th>2</th>\n",
       "      <th>3</th>\n",
       "      <th>4</th>\n",
       "      <th>5</th>\n",
       "      <th>6</th>\n",
       "      <th>7</th>\n",
       "      <th>8</th>\n",
       "      <th>9</th>\n",
       "      <th>10</th>\n",
       "      <th>11</th>\n",
       "      <th>12</th>\n",
       "    </tr>\n",
       "  </thead>\n",
       "  <tbody>\n",
       "    <tr>\n",
       "      <th>0</th>\n",
       "      <td>0</td>\n",
       "      <td>0</td>\n",
       "      <td>0</td>\n",
       "      <td>0</td>\n",
       "      <td>1</td>\n",
       "      <td>0</td>\n",
       "      <td>0</td>\n",
       "      <td>0</td>\n",
       "      <td>0</td>\n",
       "      <td>0</td>\n",
       "      <td>0</td>\n",
       "      <td>0</td>\n",
       "      <td>0</td>\n",
       "    </tr>\n",
       "    <tr>\n",
       "      <th>1</th>\n",
       "      <td>0</td>\n",
       "      <td>1</td>\n",
       "      <td>0</td>\n",
       "      <td>0</td>\n",
       "      <td>0</td>\n",
       "      <td>0</td>\n",
       "      <td>0</td>\n",
       "      <td>0</td>\n",
       "      <td>0</td>\n",
       "      <td>0</td>\n",
       "      <td>0</td>\n",
       "      <td>0</td>\n",
       "      <td>0</td>\n",
       "    </tr>\n",
       "    <tr>\n",
       "      <th>2</th>\n",
       "      <td>0</td>\n",
       "      <td>0</td>\n",
       "      <td>1</td>\n",
       "      <td>0</td>\n",
       "      <td>0</td>\n",
       "      <td>0</td>\n",
       "      <td>0</td>\n",
       "      <td>0</td>\n",
       "      <td>0</td>\n",
       "      <td>0</td>\n",
       "      <td>0</td>\n",
       "      <td>0</td>\n",
       "      <td>0</td>\n",
       "    </tr>\n",
       "    <tr>\n",
       "      <th>3</th>\n",
       "      <td>0</td>\n",
       "      <td>0</td>\n",
       "      <td>0</td>\n",
       "      <td>1</td>\n",
       "      <td>0</td>\n",
       "      <td>0</td>\n",
       "      <td>0</td>\n",
       "      <td>0</td>\n",
       "      <td>0</td>\n",
       "      <td>0</td>\n",
       "      <td>0</td>\n",
       "      <td>0</td>\n",
       "      <td>0</td>\n",
       "    </tr>\n",
       "    <tr>\n",
       "      <th>4</th>\n",
       "      <td>0</td>\n",
       "      <td>0</td>\n",
       "      <td>0</td>\n",
       "      <td>0</td>\n",
       "      <td>1</td>\n",
       "      <td>0</td>\n",
       "      <td>0</td>\n",
       "      <td>0</td>\n",
       "      <td>0</td>\n",
       "      <td>0</td>\n",
       "      <td>0</td>\n",
       "      <td>0</td>\n",
       "      <td>0</td>\n",
       "    </tr>\n",
       "    <tr>\n",
       "      <th>...</th>\n",
       "      <td>...</td>\n",
       "      <td>...</td>\n",
       "      <td>...</td>\n",
       "      <td>...</td>\n",
       "      <td>...</td>\n",
       "      <td>...</td>\n",
       "      <td>...</td>\n",
       "      <td>...</td>\n",
       "      <td>...</td>\n",
       "      <td>...</td>\n",
       "      <td>...</td>\n",
       "      <td>...</td>\n",
       "      <td>...</td>\n",
       "    </tr>\n",
       "    <tr>\n",
       "      <th>12358</th>\n",
       "      <td>0</td>\n",
       "      <td>0</td>\n",
       "      <td>0</td>\n",
       "      <td>1</td>\n",
       "      <td>0</td>\n",
       "      <td>0</td>\n",
       "      <td>0</td>\n",
       "      <td>0</td>\n",
       "      <td>0</td>\n",
       "      <td>0</td>\n",
       "      <td>0</td>\n",
       "      <td>0</td>\n",
       "      <td>0</td>\n",
       "    </tr>\n",
       "    <tr>\n",
       "      <th>12359</th>\n",
       "      <td>0</td>\n",
       "      <td>0</td>\n",
       "      <td>0</td>\n",
       "      <td>0</td>\n",
       "      <td>1</td>\n",
       "      <td>0</td>\n",
       "      <td>0</td>\n",
       "      <td>0</td>\n",
       "      <td>0</td>\n",
       "      <td>0</td>\n",
       "      <td>0</td>\n",
       "      <td>0</td>\n",
       "      <td>0</td>\n",
       "    </tr>\n",
       "    <tr>\n",
       "      <th>12360</th>\n",
       "      <td>0</td>\n",
       "      <td>1</td>\n",
       "      <td>0</td>\n",
       "      <td>0</td>\n",
       "      <td>0</td>\n",
       "      <td>0</td>\n",
       "      <td>0</td>\n",
       "      <td>0</td>\n",
       "      <td>0</td>\n",
       "      <td>0</td>\n",
       "      <td>0</td>\n",
       "      <td>0</td>\n",
       "      <td>0</td>\n",
       "    </tr>\n",
       "    <tr>\n",
       "      <th>12361</th>\n",
       "      <td>0</td>\n",
       "      <td>0</td>\n",
       "      <td>1</td>\n",
       "      <td>0</td>\n",
       "      <td>0</td>\n",
       "      <td>0</td>\n",
       "      <td>0</td>\n",
       "      <td>0</td>\n",
       "      <td>0</td>\n",
       "      <td>0</td>\n",
       "      <td>0</td>\n",
       "      <td>0</td>\n",
       "      <td>0</td>\n",
       "    </tr>\n",
       "    <tr>\n",
       "      <th>12362</th>\n",
       "      <td>0</td>\n",
       "      <td>0</td>\n",
       "      <td>0</td>\n",
       "      <td>1</td>\n",
       "      <td>0</td>\n",
       "      <td>0</td>\n",
       "      <td>0</td>\n",
       "      <td>0</td>\n",
       "      <td>0</td>\n",
       "      <td>0</td>\n",
       "      <td>0</td>\n",
       "      <td>0</td>\n",
       "      <td>0</td>\n",
       "    </tr>\n",
       "  </tbody>\n",
       "</table>\n",
       "<p>12363 rows × 13 columns</p>\n",
       "</div>"
      ],
      "text/plain": [
       "       0   1   2   3   4   5   6   7   8   9   10  11  12\n",
       "0       0   0   0   0   1   0   0   0   0   0   0   0   0\n",
       "1       0   1   0   0   0   0   0   0   0   0   0   0   0\n",
       "2       0   0   1   0   0   0   0   0   0   0   0   0   0\n",
       "3       0   0   0   1   0   0   0   0   0   0   0   0   0\n",
       "4       0   0   0   0   1   0   0   0   0   0   0   0   0\n",
       "...    ..  ..  ..  ..  ..  ..  ..  ..  ..  ..  ..  ..  ..\n",
       "12358   0   0   0   1   0   0   0   0   0   0   0   0   0\n",
       "12359   0   0   0   0   1   0   0   0   0   0   0   0   0\n",
       "12360   0   1   0   0   0   0   0   0   0   0   0   0   0\n",
       "12361   0   0   1   0   0   0   0   0   0   0   0   0   0\n",
       "12362   0   0   0   1   0   0   0   0   0   0   0   0   0\n",
       "\n",
       "[12363 rows x 13 columns]"
      ]
     },
     "execution_count": 486,
     "metadata": {},
     "output_type": "execute_result"
    }
   ],
   "source": [
    "pd.DataFrame(train_sequences_matrix).fillna(0).astype(int)"
   ]
  },
  {
   "cell_type": "markdown",
   "id": "47cf5d44",
   "metadata": {},
   "source": [
    "#### Text to sequences"
   ]
  },
  {
   "cell_type": "code",
   "execution_count": 417,
   "id": "d6376a8f",
   "metadata": {
    "scrolled": true
   },
   "outputs": [
    {
     "name": "stdout",
     "output_type": "stream",
     "text": [
      "0\n",
      "1\n",
      "2\n",
      "3\n",
      "4\n",
      "5\n",
      "6\n",
      "7\n",
      "8\n",
      "9\n",
      "10\n",
      "11\n",
      "12\n",
      "13\n",
      "0\n",
      "1\n",
      "2\n",
      "3\n",
      "4\n",
      "5\n",
      "6\n",
      "7\n",
      "8\n",
      "9\n",
      "10\n",
      "11\n",
      "12\n",
      "13\n",
      "0\n",
      "1\n",
      "2\n",
      "3\n",
      "4\n",
      "5\n",
      "6\n",
      "7\n",
      "8\n",
      "9\n",
      "10\n",
      "11\n",
      "12\n",
      "13\n"
     ]
    }
   ],
   "source": [
    "df_train_sequences = pd.DataFrame(train_sequences).fillna(0).astype(int)\n",
    "col = df_train_sequences.shape[1]\n",
    "for i in range(15 - df_train_sequences.shape[1]):\n",
    "    df_train_sequences.insert(df_train_sequences.shape[1], col+i, 0) \n",
    "    print(i)\n",
    "\n",
    "    \n",
    "df_test_sequences = pd.DataFrame(test_sequences).fillna(0).astype(int)\n",
    "col = df_test_sequences.shape[1]\n",
    "for i in range(15 - df_test_sequences.shape[1]):\n",
    "    df_test_sequences.insert(df_test_sequences.shape[1], col+i, 0) \n",
    "    print(i)\n",
    "    \n",
    "df_val_sequences = pd.DataFrame(val_sequences).fillna(0).astype(int)\n",
    "col = df_val_sequences.shape[1]\n",
    "for i in range(15 - df_val_sequences.shape[1]):\n",
    "    df_val_sequences.insert(df_val_sequences.shape[1], col+i, 0) \n",
    "    print(i)   \n"
   ]
  },
  {
   "cell_type": "code",
   "execution_count": 418,
   "id": "a9e499db",
   "metadata": {},
   "outputs": [],
   "source": [
    "#sec = pd.DataFrame([df_train['Activity'].values, matrix]).transpose().rename(columns={0:'0', 1:'1'})['1'].values.tolist()"
   ]
  },
  {
   "cell_type": "code",
   "execution_count": null,
   "id": "fe13f454",
   "metadata": {},
   "outputs": [],
   "source": []
  },
  {
   "cell_type": "code",
   "execution_count": 419,
   "id": "39399632",
   "metadata": {},
   "outputs": [
    {
     "name": "stdout",
     "output_type": "stream",
     "text": [
      "(12363, 9) (4021, 9) (4020, 9)\n"
     ]
    }
   ],
   "source": [
    "print(df_train.shape, df_test.shape, df_val.shape)"
   ]
  },
  {
   "cell_type": "markdown",
   "id": "345ccaad",
   "metadata": {},
   "source": [
    "Features selection"
   ]
  },
  {
   "cell_type": "code",
   "execution_count": 420,
   "id": "9e5eea89",
   "metadata": {},
   "outputs": [
    {
     "name": "stdout",
     "output_type": "stream",
     "text": [
      "texts_to_sequences\n"
     ]
    }
   ],
   "source": [
    "print(tokenize_mode)\n",
    "\n",
    "if(tokenize_mode == 'texts_to_sequences'):\n",
    "    X_train = np.concatenate((df_train[['Step', 'Duration Float', 'Passed Time']].values, \n",
    "                              df_train_sequences), axis=1)\n",
    "    y_train = df_train[['Time to conclusion']].values\n",
    "\n",
    "    X_test = np.concatenate((df_test[['Step', 'Duration Float', 'Passed Time']].values, \n",
    "                             df_test_sequences), axis=1)\n",
    "    y_test = df_test[['Time to conclusion']].values\n",
    "\n",
    "\n",
    "    X_val = np.concatenate((df_val[['Step', 'Duration Float', 'Passed Time']].values, \n",
    "                            df_val_sequences), axis=1)\n",
    "    y_val = df_val[['Time to conclusion']].values\n",
    "\n",
    "if(tokenize_mode == 'texts_to_matrix'):\n",
    "    X_train = np.concatenate((df_train[['Step', 'Duration Float', 'Passed Time']].values, \n",
    "                              train_matrix), axis=1)\n",
    "    y_train = df_train[['Time to conclusion']].values\n",
    "\n",
    "    X_test = np.concatenate((df_test[['Step', 'Duration Float', 'Passed Time']].values, \n",
    "                             test_matrix), axis=1)\n",
    "    y_test = df_test[['Time to conclusion']].values\n",
    "\n",
    "\n",
    "    X_val = np.concatenate((df_val[['Step', 'Duration Float', 'Passed Time']].values, \n",
    "                            val_matrix), axis=1)\n",
    "    y_val = df_val[['Time to conclusion']].values\n",
    "    \n",
    "if(tokenize_mode == 'sequences_to_matrix'):\n",
    "    X_train = np.concatenate((df_train[['Step', 'Duration Float', 'Passed Time']].values, \n",
    "                              train_sequences_matrix), axis=1)\n",
    "    y_train = df_train[['Time to conclusion']].values\n",
    "\n",
    "    X_test = np.concatenate((df_test[['Step', 'Duration Float', 'Passed Time']].values, \n",
    "                             test_sequences_matrix), axis=1)\n",
    "    y_test = df_test[['Time to conclusion']].values\n",
    "\n",
    "\n",
    "    X_val = np.concatenate((df_val[['Step', 'Duration Float', 'Passed Time']].values, \n",
    "                            val_sequences_matrix), axis=1)\n",
    "    y_val = df_val[['Time to conclusion']].values        "
   ]
  },
  {
   "cell_type": "code",
   "execution_count": 421,
   "id": "28b433bf",
   "metadata": {
    "scrolled": true
   },
   "outputs": [
    {
     "name": "stdout",
     "output_type": "stream",
     "text": [
      "(12363, 18) (4020, 18) (4021, 18)\n"
     ]
    }
   ],
   "source": [
    "print(\n",
    "    pd.DataFrame(X_train).shape,\n",
    "    pd.DataFrame(X_val).shape,\n",
    "    pd.DataFrame(X_test).shape\n",
    ")"
   ]
  },
  {
   "cell_type": "code",
   "execution_count": 422,
   "id": "301b327b",
   "metadata": {},
   "outputs": [
    {
     "data": {
      "text/html": [
       "<div>\n",
       "<style scoped>\n",
       "    .dataframe tbody tr th:only-of-type {\n",
       "        vertical-align: middle;\n",
       "    }\n",
       "\n",
       "    .dataframe tbody tr th {\n",
       "        vertical-align: top;\n",
       "    }\n",
       "\n",
       "    .dataframe thead th {\n",
       "        text-align: right;\n",
       "    }\n",
       "</style>\n",
       "<table border=\"1\" class=\"dataframe\">\n",
       "  <thead>\n",
       "    <tr style=\"text-align: right;\">\n",
       "      <th></th>\n",
       "      <th>0</th>\n",
       "      <th>1</th>\n",
       "      <th>2</th>\n",
       "      <th>3</th>\n",
       "      <th>4</th>\n",
       "      <th>5</th>\n",
       "      <th>6</th>\n",
       "      <th>7</th>\n",
       "      <th>8</th>\n",
       "      <th>9</th>\n",
       "      <th>10</th>\n",
       "      <th>11</th>\n",
       "      <th>12</th>\n",
       "      <th>13</th>\n",
       "      <th>14</th>\n",
       "      <th>15</th>\n",
       "      <th>16</th>\n",
       "      <th>17</th>\n",
       "    </tr>\n",
       "  </thead>\n",
       "  <tbody>\n",
       "    <tr>\n",
       "      <th>0</th>\n",
       "      <td>1.0</td>\n",
       "      <td>0.0000</td>\n",
       "      <td>0.0000</td>\n",
       "      <td>4.0</td>\n",
       "      <td>0.0</td>\n",
       "      <td>0.0</td>\n",
       "      <td>0.0</td>\n",
       "      <td>0.0</td>\n",
       "      <td>0.0</td>\n",
       "      <td>0.0</td>\n",
       "      <td>0.0</td>\n",
       "      <td>0.0</td>\n",
       "      <td>0.0</td>\n",
       "      <td>0.0</td>\n",
       "      <td>0.0</td>\n",
       "      <td>0.0</td>\n",
       "      <td>0.0</td>\n",
       "      <td>0.0</td>\n",
       "    </tr>\n",
       "    <tr>\n",
       "      <th>1</th>\n",
       "      <td>2.0</td>\n",
       "      <td>16.0084</td>\n",
       "      <td>15.0002</td>\n",
       "      <td>1.0</td>\n",
       "      <td>0.0</td>\n",
       "      <td>0.0</td>\n",
       "      <td>0.0</td>\n",
       "      <td>0.0</td>\n",
       "      <td>0.0</td>\n",
       "      <td>0.0</td>\n",
       "      <td>0.0</td>\n",
       "      <td>0.0</td>\n",
       "      <td>0.0</td>\n",
       "      <td>0.0</td>\n",
       "      <td>0.0</td>\n",
       "      <td>0.0</td>\n",
       "      <td>0.0</td>\n",
       "      <td>0.0</td>\n",
       "    </tr>\n",
       "    <tr>\n",
       "      <th>2</th>\n",
       "      <td>3.0</td>\n",
       "      <td>0.0001</td>\n",
       "      <td>15.0003</td>\n",
       "      <td>2.0</td>\n",
       "      <td>0.0</td>\n",
       "      <td>0.0</td>\n",
       "      <td>0.0</td>\n",
       "      <td>0.0</td>\n",
       "      <td>0.0</td>\n",
       "      <td>0.0</td>\n",
       "      <td>0.0</td>\n",
       "      <td>0.0</td>\n",
       "      <td>0.0</td>\n",
       "      <td>0.0</td>\n",
       "      <td>0.0</td>\n",
       "      <td>0.0</td>\n",
       "      <td>0.0</td>\n",
       "      <td>0.0</td>\n",
       "    </tr>\n",
       "    <tr>\n",
       "      <th>3</th>\n",
       "      <td>4.0</td>\n",
       "      <td>15.0002</td>\n",
       "      <td>31.0087</td>\n",
       "      <td>3.0</td>\n",
       "      <td>0.0</td>\n",
       "      <td>0.0</td>\n",
       "      <td>0.0</td>\n",
       "      <td>0.0</td>\n",
       "      <td>0.0</td>\n",
       "      <td>0.0</td>\n",
       "      <td>0.0</td>\n",
       "      <td>0.0</td>\n",
       "      <td>0.0</td>\n",
       "      <td>0.0</td>\n",
       "      <td>0.0</td>\n",
       "      <td>0.0</td>\n",
       "      <td>0.0</td>\n",
       "      <td>0.0</td>\n",
       "    </tr>\n",
       "    <tr>\n",
       "      <th>4</th>\n",
       "      <td>1.0</td>\n",
       "      <td>0.0000</td>\n",
       "      <td>0.0000</td>\n",
       "      <td>4.0</td>\n",
       "      <td>0.0</td>\n",
       "      <td>0.0</td>\n",
       "      <td>0.0</td>\n",
       "      <td>0.0</td>\n",
       "      <td>0.0</td>\n",
       "      <td>0.0</td>\n",
       "      <td>0.0</td>\n",
       "      <td>0.0</td>\n",
       "      <td>0.0</td>\n",
       "      <td>0.0</td>\n",
       "      <td>0.0</td>\n",
       "      <td>0.0</td>\n",
       "      <td>0.0</td>\n",
       "      <td>0.0</td>\n",
       "    </tr>\n",
       "    <tr>\n",
       "      <th>...</th>\n",
       "      <td>...</td>\n",
       "      <td>...</td>\n",
       "      <td>...</td>\n",
       "      <td>...</td>\n",
       "      <td>...</td>\n",
       "      <td>...</td>\n",
       "      <td>...</td>\n",
       "      <td>...</td>\n",
       "      <td>...</td>\n",
       "      <td>...</td>\n",
       "      <td>...</td>\n",
       "      <td>...</td>\n",
       "      <td>...</td>\n",
       "      <td>...</td>\n",
       "      <td>...</td>\n",
       "      <td>...</td>\n",
       "      <td>...</td>\n",
       "      <td>...</td>\n",
       "    </tr>\n",
       "    <tr>\n",
       "      <th>12358</th>\n",
       "      <td>5.0</td>\n",
       "      <td>18.2097</td>\n",
       "      <td>43.9482</td>\n",
       "      <td>3.0</td>\n",
       "      <td>0.0</td>\n",
       "      <td>0.0</td>\n",
       "      <td>0.0</td>\n",
       "      <td>0.0</td>\n",
       "      <td>0.0</td>\n",
       "      <td>0.0</td>\n",
       "      <td>0.0</td>\n",
       "      <td>0.0</td>\n",
       "      <td>0.0</td>\n",
       "      <td>0.0</td>\n",
       "      <td>0.0</td>\n",
       "      <td>0.0</td>\n",
       "      <td>0.0</td>\n",
       "      <td>0.0</td>\n",
       "    </tr>\n",
       "    <tr>\n",
       "      <th>12359</th>\n",
       "      <td>1.0</td>\n",
       "      <td>0.0000</td>\n",
       "      <td>0.0000</td>\n",
       "      <td>4.0</td>\n",
       "      <td>0.0</td>\n",
       "      <td>0.0</td>\n",
       "      <td>0.0</td>\n",
       "      <td>0.0</td>\n",
       "      <td>0.0</td>\n",
       "      <td>0.0</td>\n",
       "      <td>0.0</td>\n",
       "      <td>0.0</td>\n",
       "      <td>0.0</td>\n",
       "      <td>0.0</td>\n",
       "      <td>0.0</td>\n",
       "      <td>0.0</td>\n",
       "      <td>0.0</td>\n",
       "      <td>0.0</td>\n",
       "    </tr>\n",
       "    <tr>\n",
       "      <th>12360</th>\n",
       "      <td>2.0</td>\n",
       "      <td>0.0004</td>\n",
       "      <td>55.6216</td>\n",
       "      <td>1.0</td>\n",
       "      <td>0.0</td>\n",
       "      <td>0.0</td>\n",
       "      <td>0.0</td>\n",
       "      <td>0.0</td>\n",
       "      <td>0.0</td>\n",
       "      <td>0.0</td>\n",
       "      <td>0.0</td>\n",
       "      <td>0.0</td>\n",
       "      <td>0.0</td>\n",
       "      <td>0.0</td>\n",
       "      <td>0.0</td>\n",
       "      <td>0.0</td>\n",
       "      <td>0.0</td>\n",
       "      <td>0.0</td>\n",
       "    </tr>\n",
       "    <tr>\n",
       "      <th>12361</th>\n",
       "      <td>3.0</td>\n",
       "      <td>0.3372</td>\n",
       "      <td>55.9588</td>\n",
       "      <td>2.0</td>\n",
       "      <td>0.0</td>\n",
       "      <td>0.0</td>\n",
       "      <td>0.0</td>\n",
       "      <td>0.0</td>\n",
       "      <td>0.0</td>\n",
       "      <td>0.0</td>\n",
       "      <td>0.0</td>\n",
       "      <td>0.0</td>\n",
       "      <td>0.0</td>\n",
       "      <td>0.0</td>\n",
       "      <td>0.0</td>\n",
       "      <td>0.0</td>\n",
       "      <td>0.0</td>\n",
       "      <td>0.0</td>\n",
       "    </tr>\n",
       "    <tr>\n",
       "      <th>12362</th>\n",
       "      <td>4.0</td>\n",
       "      <td>55.6216</td>\n",
       "      <td>55.9592</td>\n",
       "      <td>3.0</td>\n",
       "      <td>0.0</td>\n",
       "      <td>0.0</td>\n",
       "      <td>0.0</td>\n",
       "      <td>0.0</td>\n",
       "      <td>0.0</td>\n",
       "      <td>0.0</td>\n",
       "      <td>0.0</td>\n",
       "      <td>0.0</td>\n",
       "      <td>0.0</td>\n",
       "      <td>0.0</td>\n",
       "      <td>0.0</td>\n",
       "      <td>0.0</td>\n",
       "      <td>0.0</td>\n",
       "      <td>0.0</td>\n",
       "    </tr>\n",
       "  </tbody>\n",
       "</table>\n",
       "<p>12363 rows × 18 columns</p>\n",
       "</div>"
      ],
      "text/plain": [
       "        0        1        2    3    4    5    6    7    8    9    10   11  \\\n",
       "0      1.0   0.0000   0.0000  4.0  0.0  0.0  0.0  0.0  0.0  0.0  0.0  0.0   \n",
       "1      2.0  16.0084  15.0002  1.0  0.0  0.0  0.0  0.0  0.0  0.0  0.0  0.0   \n",
       "2      3.0   0.0001  15.0003  2.0  0.0  0.0  0.0  0.0  0.0  0.0  0.0  0.0   \n",
       "3      4.0  15.0002  31.0087  3.0  0.0  0.0  0.0  0.0  0.0  0.0  0.0  0.0   \n",
       "4      1.0   0.0000   0.0000  4.0  0.0  0.0  0.0  0.0  0.0  0.0  0.0  0.0   \n",
       "...    ...      ...      ...  ...  ...  ...  ...  ...  ...  ...  ...  ...   \n",
       "12358  5.0  18.2097  43.9482  3.0  0.0  0.0  0.0  0.0  0.0  0.0  0.0  0.0   \n",
       "12359  1.0   0.0000   0.0000  4.0  0.0  0.0  0.0  0.0  0.0  0.0  0.0  0.0   \n",
       "12360  2.0   0.0004  55.6216  1.0  0.0  0.0  0.0  0.0  0.0  0.0  0.0  0.0   \n",
       "12361  3.0   0.3372  55.9588  2.0  0.0  0.0  0.0  0.0  0.0  0.0  0.0  0.0   \n",
       "12362  4.0  55.6216  55.9592  3.0  0.0  0.0  0.0  0.0  0.0  0.0  0.0  0.0   \n",
       "\n",
       "        12   13   14   15   16   17  \n",
       "0      0.0  0.0  0.0  0.0  0.0  0.0  \n",
       "1      0.0  0.0  0.0  0.0  0.0  0.0  \n",
       "2      0.0  0.0  0.0  0.0  0.0  0.0  \n",
       "3      0.0  0.0  0.0  0.0  0.0  0.0  \n",
       "4      0.0  0.0  0.0  0.0  0.0  0.0  \n",
       "...    ...  ...  ...  ...  ...  ...  \n",
       "12358  0.0  0.0  0.0  0.0  0.0  0.0  \n",
       "12359  0.0  0.0  0.0  0.0  0.0  0.0  \n",
       "12360  0.0  0.0  0.0  0.0  0.0  0.0  \n",
       "12361  0.0  0.0  0.0  0.0  0.0  0.0  \n",
       "12362  0.0  0.0  0.0  0.0  0.0  0.0  \n",
       "\n",
       "[12363 rows x 18 columns]"
      ]
     },
     "execution_count": 422,
     "metadata": {},
     "output_type": "execute_result"
    }
   ],
   "source": [
    "pd.DataFrame(X_train)"
   ]
  },
  {
   "cell_type": "markdown",
   "id": "0043379c",
   "metadata": {},
   "source": [
    "Machine learning models definition"
   ]
  },
  {
   "cell_type": "code",
   "execution_count": 423,
   "id": "af956a2d",
   "metadata": {},
   "outputs": [],
   "source": [
    "from sklearn.dummy import DummyRegressor\n",
    "from sklearn.linear_model import LinearRegression\n",
    "from sklearn.ensemble import RandomForestRegressor\n",
    "\n",
    "regressors = [  \n",
    "        {'nome' : 'DummyRegressor', 'regressor':  DummyRegressor(strategy='mean')},\n",
    "        {'nome' : 'LinearRegression', 'regressor': LinearRegression(fit_intercept=False, normalize=True)},\n",
    "        {'nome' : 'RandomForestRegressor',  'regressor': RandomForestRegressor(n_estimators=20, criterion='mse', max_features='auto', \n",
    "                                                                              bootstrap=True, warm_start=True, max_depth=19, random_state=0)},\n",
    "]"
   ]
  },
  {
   "cell_type": "markdown",
   "id": "7f583bef",
   "metadata": {},
   "source": [
    "Experiment running"
   ]
  },
  {
   "cell_type": "code",
   "execution_count": 424,
   "id": "21159624",
   "metadata": {},
   "outputs": [
    {
     "data": {
      "text/html": [
       "<div>\n",
       "<style scoped>\n",
       "    .dataframe tbody tr th:only-of-type {\n",
       "        vertical-align: middle;\n",
       "    }\n",
       "\n",
       "    .dataframe tbody tr th {\n",
       "        vertical-align: top;\n",
       "    }\n",
       "\n",
       "    .dataframe thead th {\n",
       "        text-align: right;\n",
       "    }\n",
       "</style>\n",
       "<table border=\"1\" class=\"dataframe\">\n",
       "  <thead>\n",
       "    <tr style=\"text-align: right;\">\n",
       "      <th></th>\n",
       "      <th>Nome do modelo</th>\n",
       "      <th>MAE</th>\n",
       "      <th>Val MAE</th>\n",
       "    </tr>\n",
       "  </thead>\n",
       "  <tbody>\n",
       "    <tr>\n",
       "      <th>2</th>\n",
       "      <td>RandomForestRegressor</td>\n",
       "      <td>3.789858</td>\n",
       "      <td>3.826536</td>\n",
       "    </tr>\n",
       "    <tr>\n",
       "      <th>1</th>\n",
       "      <td>LinearRegression</td>\n",
       "      <td>12.646812</td>\n",
       "      <td>12.717819</td>\n",
       "    </tr>\n",
       "    <tr>\n",
       "      <th>0</th>\n",
       "      <td>DummyRegressor</td>\n",
       "      <td>14.889137</td>\n",
       "      <td>14.963008</td>\n",
       "    </tr>\n",
       "  </tbody>\n",
       "</table>\n",
       "</div>"
      ],
      "text/plain": [
       "          Nome do modelo        MAE    Val MAE\n",
       "2  RandomForestRegressor   3.789858   3.826536\n",
       "1       LinearRegression  12.646812  12.717819\n",
       "0         DummyRegressor  14.889137  14.963008"
      ]
     },
     "execution_count": 424,
     "metadata": {},
     "output_type": "execute_result"
    }
   ],
   "source": [
    "import time\n",
    "from sklearn.metrics import mean_absolute_error\n",
    "\n",
    "cols = ['Nome do modelo', 'MAE', 'Val MAE']\n",
    "\n",
    "data_result = []\n",
    "\n",
    "for regressor in regressors:    \n",
    "    t1 = time.time()\n",
    "    regr = regressor['regressor'].fit(X_train, y_train)\n",
    "    tf = time.time()\n",
    "    \n",
    "    y_pred = regr.predict(X_test)\n",
    "    mae = mean_absolute_error(y_test, y_pred)\n",
    "    \n",
    "    y_pred_val = regr.predict(X_val)\n",
    "    val_mae = mean_absolute_error(y_val, y_pred_val)\n",
    "        \n",
    "    line = [\n",
    "        regressor['nome'],\n",
    "        mae,\n",
    "        val_mae\n",
    "    ]\n",
    "    data_result.append(line)\n",
    "\n",
    "pd.DataFrame(data_result, columns=cols).sort_values(by='MAE', ascending=True)"
   ]
  },
  {
   "cell_type": "code",
   "execution_count": 425,
   "id": "f69023cc",
   "metadata": {},
   "outputs": [
    {
     "data": {
      "text/plain": [
       "[['DummyRegressor', 14.889136625513112, 14.9630078460625],\n",
       " ['LinearRegression', 12.64681201802549, 12.717819001920333],\n",
       " ['RandomForestRegressor', 3.789858244739419, 3.8265363781487984]]"
      ]
     },
     "execution_count": 425,
     "metadata": {},
     "output_type": "execute_result"
    }
   ],
   "source": [
    "data_result"
   ]
  },
  {
   "cell_type": "markdown",
   "id": "46a2edad",
   "metadata": {},
   "source": [
    "- original:\n",
    "    - ['RandomForestRegressor', 3.8718649593112966]\n",
    "    - ['LinearRegression', 6.7278216084671545]\n",
    "    - ['DummyRegressor', 14.735706385290072] \n",
    "- colapsed:\n",
    "    - ['RandomForestRegressor', 3.7487898210121866]\n",
    "    - ['LinearRegression', 6.491372892689034]\n",
    "    - ['DummyRegressor', 14.926067642377747]"
   ]
  },
  {
   "cell_type": "code",
   "execution_count": null,
   "id": "b20beff0",
   "metadata": {},
   "outputs": [],
   "source": []
  },
  {
   "cell_type": "code",
   "execution_count": 426,
   "id": "2b44c1ca",
   "metadata": {},
   "outputs": [],
   "source": [
    "import keras\n",
    "from keras_self_attention import SeqSelfAttention"
   ]
  },
  {
   "cell_type": "code",
   "execution_count": 427,
   "id": "d27f8284",
   "metadata": {},
   "outputs": [],
   "source": [
    "from tensorflow import keras\n",
    "\n",
    "from keras.layers import Dropout\n",
    "from keras.layers import Dense\n",
    "from keras.layers import LSTM\n",
    "from keras.layers import Bidirectional\n",
    "from keras.layers import PReLU\n",
    "from keras.layers import BatchNormalization\n",
    "\n",
    "from keras.utils.vis_utils import plot_model\n",
    "from keras.utils.vis_utils import model_to_dot\n",
    "\n",
    "from keras.callbacks import EarlyStopping\n",
    "from tqdm.keras import TqdmCallback"
   ]
  },
  {
   "cell_type": "code",
   "execution_count": 428,
   "id": "2a77a889",
   "metadata": {},
   "outputs": [],
   "source": [
    "from keras.layers.core import Activation\n",
    "from keras.initializers import Constant\n",
    "\n",
    "from keras.regularizers import l2"
   ]
  },
  {
   "cell_type": "code",
   "execution_count": 429,
   "id": "ca4b5790",
   "metadata": {},
   "outputs": [
    {
     "name": "stdout",
     "output_type": "stream",
     "text": [
      "Model: \"sequential_11\"\n",
      "_________________________________________________________________\n",
      " Layer (type)                Output Shape              Param #   \n",
      "=================================================================\n",
      " lstm_11 (LSTM)              (None, 18)                1440      \n",
      "                                                                 \n",
      " Regularizacao (Dropout)     (None, 18)                0         \n",
      "                                                                 \n",
      " Saida (Dense)               (None, 1)                 19        \n",
      "                                                                 \n",
      "=================================================================\n",
      "Total params: 1,459\n",
      "Trainable params: 1,459\n",
      "Non-trainable params: 0\n",
      "_________________________________________________________________\n"
     ]
    }
   ],
   "source": [
    "from keras_multi_head import MultiHead\n",
    "from keras_multi_head import MultiHeadAttention\n",
    "\n",
    "model = keras.models.Sequential(name='')\n",
    "\n",
    "\"\"\"\n",
    "model.add(Dense(X_train.shape[1], \n",
    "                input_dim=X_train.shape[1], \n",
    "                activation='relu', \n",
    "                name='Densa'\n",
    "                ))\n",
    "\n",
    "model.add(Dropout(0.05, name='Regularizacao'))\n",
    "\n",
    "model.add(keras.layers.Flatten(name='Nivelamento'))\n",
    "\"\"\"\n",
    "\n",
    "model.add(LSTM(X_train.shape[1], return_sequences=False, input_shape=(X_train.shape[1], 1)))\n",
    "##model.add(Bidirectional(LSTM(X_train.shape[1])))\n",
    "\n",
    "model.add(Dropout(0.05, name='Regularizacao'))\n",
    "\n",
    "model.add(Dense(1, activation='relu', name='Saida'))\n",
    "\n",
    "model.summary()"
   ]
  },
  {
   "cell_type": "code",
   "execution_count": 430,
   "id": "05a77747",
   "metadata": {},
   "outputs": [
    {
     "data": {
      "application/vnd.jupyter.widget-view+json": {
       "model_id": "c4baf9fb5c52423fb49625383332d6de",
       "version_major": 2,
       "version_minor": 0
      },
      "text/plain": [
       "0epoch [00:00, ?epoch/s]"
      ]
     },
     "metadata": {},
     "output_type": "display_data"
    },
    {
     "ename": "KeyboardInterrupt",
     "evalue": "",
     "output_type": "error",
     "traceback": [
      "\u001b[1;31m---------------------------------------------------------------------------\u001b[0m",
      "\u001b[1;31mKeyboardInterrupt\u001b[0m                         Traceback (most recent call last)",
      "Input \u001b[1;32mIn [430]\u001b[0m, in \u001b[0;36m<cell line: 15>\u001b[1;34m()\u001b[0m\n\u001b[0;32m      4\u001b[0m model\u001b[38;5;241m.\u001b[39mcompile(\n\u001b[0;32m      5\u001b[0m     optimizer\u001b[38;5;241m=\u001b[39mnadam, \n\u001b[0;32m      6\u001b[0m     loss\u001b[38;5;241m=\u001b[39m\u001b[38;5;124m\"\u001b[39m\u001b[38;5;124mmean_absolute_error\u001b[39m\u001b[38;5;124m\"\u001b[39m, \n\u001b[0;32m      7\u001b[0m     \u001b[38;5;66;03m#loss=keras.losses.LogCosh(),\u001b[39;00m\n\u001b[0;32m      8\u001b[0m     metrics\u001b[38;5;241m=\u001b[39m[\u001b[38;5;124m\"\u001b[39m\u001b[38;5;124mmean_absolute_error\u001b[39m\u001b[38;5;124m\"\u001b[39m]\n\u001b[0;32m      9\u001b[0m )\n\u001b[0;32m     11\u001b[0m es \u001b[38;5;241m=\u001b[39m EarlyStopping(monitor\u001b[38;5;241m=\u001b[39m\u001b[38;5;124m'\u001b[39m\u001b[38;5;124mmean_absolute_error\u001b[39m\u001b[38;5;124m'\u001b[39m, \n\u001b[0;32m     12\u001b[0m                    min_delta\u001b[38;5;241m=\u001b[39m\u001b[38;5;241m1e-07\u001b[39m, \u001b[38;5;66;03m#min_delta=1e-04, \u001b[39;00m\n\u001b[0;32m     13\u001b[0m                    patience\u001b[38;5;241m=\u001b[39m\u001b[38;5;241m50\u001b[39m, verbose\u001b[38;5;241m=\u001b[39m\u001b[38;5;241m1\u001b[39m)\n\u001b[1;32m---> 15\u001b[0m history \u001b[38;5;241m=\u001b[39m \u001b[43mmodel\u001b[49m\u001b[38;5;241;43m.\u001b[39;49m\u001b[43mfit\u001b[49m\u001b[43m(\u001b[49m\u001b[43mX_train\u001b[49m\u001b[43m,\u001b[49m\u001b[43m \u001b[49m\u001b[43my_train\u001b[49m\u001b[43m,\u001b[49m\u001b[43m \u001b[49m\n\u001b[0;32m     16\u001b[0m \u001b[43m                    \u001b[49m\u001b[43mepochs\u001b[49m\u001b[38;5;241;43m=\u001b[39;49m\u001b[38;5;241;43m2000\u001b[39;49m\u001b[43m,\u001b[49m\n\u001b[0;32m     17\u001b[0m \u001b[43m                    \u001b[49m\u001b[43mbatch_size\u001b[49m\u001b[38;5;241;43m=\u001b[39;49m\u001b[43mX_train\u001b[49m\u001b[38;5;241;43m.\u001b[39;49m\u001b[43mshape\u001b[49m\u001b[43m[\u001b[49m\u001b[38;5;241;43m1\u001b[39;49m\u001b[43m]\u001b[49m\u001b[43m \u001b[49m\u001b[38;5;241;43m*\u001b[39;49m\u001b[43m \u001b[49m\u001b[38;5;241;43m100\u001b[39;49m\u001b[43m,\u001b[49m\n\u001b[0;32m     18\u001b[0m \u001b[43m                    \u001b[49m\u001b[43mcallbacks\u001b[49m\u001b[38;5;241;43m=\u001b[39;49m\u001b[43m[\u001b[49m\u001b[43mTqdmCallback\u001b[49m\u001b[43m(\u001b[49m\u001b[43mverbose\u001b[49m\u001b[38;5;241;43m=\u001b[39;49m\u001b[38;5;241;43m0\u001b[39;49m\u001b[43m)\u001b[49m\u001b[43m,\u001b[49m\u001b[43m \u001b[49m\u001b[43mes\u001b[49m\u001b[43m]\u001b[49m\u001b[43m,\u001b[49m\n\u001b[0;32m     19\u001b[0m \u001b[43m                    \u001b[49m\u001b[43mvalidation_data\u001b[49m\u001b[38;5;241;43m=\u001b[39;49m\u001b[43m[\u001b[49m\u001b[43mX_val\u001b[49m\u001b[43m,\u001b[49m\u001b[43m \u001b[49m\u001b[43my_val\u001b[49m\u001b[43m]\u001b[49m\u001b[43m,\u001b[49m\n\u001b[0;32m     20\u001b[0m \u001b[43m                    \u001b[49m\u001b[43mverbose\u001b[49m\u001b[38;5;241;43m=\u001b[39;49m\u001b[38;5;241;43m0\u001b[39;49m\u001b[43m)\u001b[49m\n",
      "File \u001b[1;32mc:\\users\\ronildo\\appdata\\local\\programs\\python\\python38\\lib\\site-packages\\keras\\utils\\traceback_utils.py:64\u001b[0m, in \u001b[0;36mfilter_traceback.<locals>.error_handler\u001b[1;34m(*args, **kwargs)\u001b[0m\n\u001b[0;32m     62\u001b[0m filtered_tb \u001b[38;5;241m=\u001b[39m \u001b[38;5;28;01mNone\u001b[39;00m\n\u001b[0;32m     63\u001b[0m \u001b[38;5;28;01mtry\u001b[39;00m:\n\u001b[1;32m---> 64\u001b[0m   \u001b[38;5;28;01mreturn\u001b[39;00m \u001b[43mfn\u001b[49m\u001b[43m(\u001b[49m\u001b[38;5;241;43m*\u001b[39;49m\u001b[43margs\u001b[49m\u001b[43m,\u001b[49m\u001b[43m \u001b[49m\u001b[38;5;241;43m*\u001b[39;49m\u001b[38;5;241;43m*\u001b[39;49m\u001b[43mkwargs\u001b[49m\u001b[43m)\u001b[49m\n\u001b[0;32m     65\u001b[0m \u001b[38;5;28;01mexcept\u001b[39;00m \u001b[38;5;167;01mException\u001b[39;00m \u001b[38;5;28;01mas\u001b[39;00m e:  \u001b[38;5;66;03m# pylint: disable=broad-except\u001b[39;00m\n\u001b[0;32m     66\u001b[0m   filtered_tb \u001b[38;5;241m=\u001b[39m _process_traceback_frames(e\u001b[38;5;241m.\u001b[39m__traceback__)\n",
      "File \u001b[1;32mc:\\users\\ronildo\\appdata\\local\\programs\\python\\python38\\lib\\site-packages\\keras\\engine\\training.py:1397\u001b[0m, in \u001b[0;36mModel.fit\u001b[1;34m(self, x, y, batch_size, epochs, verbose, callbacks, validation_split, validation_data, shuffle, class_weight, sample_weight, initial_epoch, steps_per_epoch, validation_steps, validation_batch_size, validation_freq, max_queue_size, workers, use_multiprocessing)\u001b[0m\n\u001b[0;32m   1395\u001b[0m logs \u001b[38;5;241m=\u001b[39m \u001b[38;5;28;01mNone\u001b[39;00m\n\u001b[0;32m   1396\u001b[0m \u001b[38;5;28;01mfor\u001b[39;00m epoch, iterator \u001b[38;5;129;01min\u001b[39;00m data_handler\u001b[38;5;241m.\u001b[39menumerate_epochs():\n\u001b[1;32m-> 1397\u001b[0m   \u001b[38;5;28;43mself\u001b[39;49m\u001b[38;5;241;43m.\u001b[39;49m\u001b[43mreset_metrics\u001b[49m\u001b[43m(\u001b[49m\u001b[43m)\u001b[49m\n\u001b[0;32m   1398\u001b[0m   callbacks\u001b[38;5;241m.\u001b[39mon_epoch_begin(epoch)\n\u001b[0;32m   1399\u001b[0m   \u001b[38;5;28;01mwith\u001b[39;00m data_handler\u001b[38;5;241m.\u001b[39mcatch_stop_iteration():\n",
      "File \u001b[1;32mc:\\users\\ronildo\\appdata\\local\\programs\\python\\python38\\lib\\site-packages\\keras\\engine\\training.py:2086\u001b[0m, in \u001b[0;36mModel.reset_metrics\u001b[1;34m(self)\u001b[0m\n\u001b[0;32m   2067\u001b[0m \u001b[38;5;124;03m\"\"\"Resets the state of all the metrics in the model.\u001b[39;00m\n\u001b[0;32m   2068\u001b[0m \n\u001b[0;32m   2069\u001b[0m \u001b[38;5;124;03mExamples:\u001b[39;00m\n\u001b[1;32m   (...)\u001b[0m\n\u001b[0;32m   2083\u001b[0m \n\u001b[0;32m   2084\u001b[0m \u001b[38;5;124;03m\"\"\"\u001b[39;00m\n\u001b[0;32m   2085\u001b[0m \u001b[38;5;28;01mfor\u001b[39;00m m \u001b[38;5;129;01min\u001b[39;00m \u001b[38;5;28mself\u001b[39m\u001b[38;5;241m.\u001b[39mmetrics:\n\u001b[1;32m-> 2086\u001b[0m   \u001b[43mm\u001b[49m\u001b[38;5;241;43m.\u001b[39;49m\u001b[43mreset_state\u001b[49m\u001b[43m(\u001b[49m\u001b[43m)\u001b[49m\n",
      "File \u001b[1;32mc:\\users\\ronildo\\appdata\\local\\programs\\python\\python38\\lib\\site-packages\\keras\\metrics\\base_metric.py:253\u001b[0m, in \u001b[0;36mMetric.reset_state\u001b[1;34m(self)\u001b[0m\n\u001b[0;32m    251\u001b[0m   \u001b[38;5;28;01mreturn\u001b[39;00m \u001b[38;5;28mself\u001b[39m\u001b[38;5;241m.\u001b[39mreset_states()\n\u001b[0;32m    252\u001b[0m \u001b[38;5;28;01melse\u001b[39;00m:\n\u001b[1;32m--> 253\u001b[0m   \u001b[43mbackend\u001b[49m\u001b[38;5;241;43m.\u001b[39;49m\u001b[43mbatch_set_value\u001b[49m\u001b[43m(\u001b[49m\u001b[43m[\u001b[49m\u001b[43m(\u001b[49m\u001b[43mv\u001b[49m\u001b[43m,\u001b[49m\u001b[43m \u001b[49m\u001b[38;5;241;43m0\u001b[39;49m\u001b[43m)\u001b[49m\u001b[43m \u001b[49m\u001b[38;5;28;43;01mfor\u001b[39;49;00m\u001b[43m \u001b[49m\u001b[43mv\u001b[49m\u001b[43m \u001b[49m\u001b[38;5;129;43;01min\u001b[39;49;00m\u001b[43m \u001b[49m\u001b[38;5;28;43mself\u001b[39;49m\u001b[38;5;241;43m.\u001b[39;49m\u001b[43mvariables\u001b[49m\u001b[43m]\u001b[49m\u001b[43m)\u001b[49m\n",
      "File \u001b[1;32mc:\\users\\ronildo\\appdata\\local\\programs\\python\\python38\\lib\\site-packages\\tensorflow\\python\\util\\traceback_utils.py:150\u001b[0m, in \u001b[0;36mfilter_traceback.<locals>.error_handler\u001b[1;34m(*args, **kwargs)\u001b[0m\n\u001b[0;32m    148\u001b[0m filtered_tb \u001b[38;5;241m=\u001b[39m \u001b[38;5;28;01mNone\u001b[39;00m\n\u001b[0;32m    149\u001b[0m \u001b[38;5;28;01mtry\u001b[39;00m:\n\u001b[1;32m--> 150\u001b[0m   \u001b[38;5;28;01mreturn\u001b[39;00m \u001b[43mfn\u001b[49m\u001b[43m(\u001b[49m\u001b[38;5;241;43m*\u001b[39;49m\u001b[43margs\u001b[49m\u001b[43m,\u001b[49m\u001b[43m \u001b[49m\u001b[38;5;241;43m*\u001b[39;49m\u001b[38;5;241;43m*\u001b[39;49m\u001b[43mkwargs\u001b[49m\u001b[43m)\u001b[49m\n\u001b[0;32m    151\u001b[0m \u001b[38;5;28;01mexcept\u001b[39;00m \u001b[38;5;167;01mException\u001b[39;00m \u001b[38;5;28;01mas\u001b[39;00m e:\n\u001b[0;32m    152\u001b[0m   filtered_tb \u001b[38;5;241m=\u001b[39m _process_traceback_frames(e\u001b[38;5;241m.\u001b[39m__traceback__)\n",
      "File \u001b[1;32mc:\\users\\ronildo\\appdata\\local\\programs\\python\\python38\\lib\\site-packages\\tensorflow\\python\\util\\dispatch.py:1082\u001b[0m, in \u001b[0;36madd_dispatch_support.<locals>.decorator.<locals>.op_dispatch_handler\u001b[1;34m(*args, **kwargs)\u001b[0m\n\u001b[0;32m   1080\u001b[0m \u001b[38;5;66;03m# Fallback dispatch system (dispatch v1):\u001b[39;00m\n\u001b[0;32m   1081\u001b[0m \u001b[38;5;28;01mtry\u001b[39;00m:\n\u001b[1;32m-> 1082\u001b[0m   \u001b[38;5;28;01mreturn\u001b[39;00m \u001b[43mdispatch_target\u001b[49m\u001b[43m(\u001b[49m\u001b[38;5;241;43m*\u001b[39;49m\u001b[43margs\u001b[49m\u001b[43m,\u001b[49m\u001b[43m \u001b[49m\u001b[38;5;241;43m*\u001b[39;49m\u001b[38;5;241;43m*\u001b[39;49m\u001b[43mkwargs\u001b[49m\u001b[43m)\u001b[49m\n\u001b[0;32m   1083\u001b[0m \u001b[38;5;28;01mexcept\u001b[39;00m (\u001b[38;5;167;01mTypeError\u001b[39;00m, \u001b[38;5;167;01mValueError\u001b[39;00m):\n\u001b[0;32m   1084\u001b[0m   \u001b[38;5;66;03m# Note: convert_to_eager_tensor currently raises a ValueError, not a\u001b[39;00m\n\u001b[0;32m   1085\u001b[0m   \u001b[38;5;66;03m# TypeError, when given unexpected types.  So we need to catch both.\u001b[39;00m\n\u001b[0;32m   1086\u001b[0m   result \u001b[38;5;241m=\u001b[39m dispatch(op_dispatch_handler, args, kwargs)\n",
      "File \u001b[1;32mc:\\users\\ronildo\\appdata\\local\\programs\\python\\python38\\lib\\site-packages\\keras\\backend.py:4028\u001b[0m, in \u001b[0;36mbatch_set_value\u001b[1;34m(tuples)\u001b[0m\n\u001b[0;32m   4026\u001b[0m \u001b[38;5;28;01mif\u001b[39;00m tf\u001b[38;5;241m.\u001b[39mcompat\u001b[38;5;241m.\u001b[39mv1\u001b[38;5;241m.\u001b[39mexecuting_eagerly_outside_functions():\n\u001b[0;32m   4027\u001b[0m   \u001b[38;5;28;01mfor\u001b[39;00m x, value \u001b[38;5;129;01min\u001b[39;00m tuples:\n\u001b[1;32m-> 4028\u001b[0m     \u001b[43mx\u001b[49m\u001b[38;5;241;43m.\u001b[39;49m\u001b[43massign\u001b[49m\u001b[43m(\u001b[49m\u001b[43mnp\u001b[49m\u001b[38;5;241;43m.\u001b[39;49m\u001b[43masarray\u001b[49m\u001b[43m(\u001b[49m\u001b[43mvalue\u001b[49m\u001b[43m,\u001b[49m\u001b[43m \u001b[49m\u001b[43mdtype\u001b[49m\u001b[38;5;241;43m=\u001b[39;49m\u001b[43mdtype_numpy\u001b[49m\u001b[43m(\u001b[49m\u001b[43mx\u001b[49m\u001b[43m)\u001b[49m\u001b[43m)\u001b[49m\u001b[43m)\u001b[49m\n\u001b[0;32m   4029\u001b[0m \u001b[38;5;28;01melse\u001b[39;00m:\n\u001b[0;32m   4030\u001b[0m   \u001b[38;5;28;01mwith\u001b[39;00m get_graph()\u001b[38;5;241m.\u001b[39mas_default():\n",
      "File \u001b[1;32mc:\\users\\ronildo\\appdata\\local\\programs\\python\\python38\\lib\\site-packages\\tensorflow\\python\\ops\\resource_variable_ops.py:912\u001b[0m, in \u001b[0;36mBaseResourceVariable.assign\u001b[1;34m(self, value, use_locking, name, read_value)\u001b[0m\n\u001b[0;32m    910\u001b[0m   validate_shape \u001b[38;5;241m=\u001b[39m \u001b[38;5;28mself\u001b[39m\u001b[38;5;241m.\u001b[39m_validate_shape \u001b[38;5;129;01mand\u001b[39;00m \u001b[38;5;28mself\u001b[39m\u001b[38;5;241m.\u001b[39m_shape\u001b[38;5;241m.\u001b[39mis_fully_defined()\n\u001b[0;32m    911\u001b[0m   kwargs[\u001b[38;5;124m\"\u001b[39m\u001b[38;5;124mvalidate_shape\u001b[39m\u001b[38;5;124m\"\u001b[39m] \u001b[38;5;241m=\u001b[39m validate_shape\n\u001b[1;32m--> 912\u001b[0m assign_op \u001b[38;5;241m=\u001b[39m \u001b[43mgen_resource_variable_ops\u001b[49m\u001b[38;5;241;43m.\u001b[39;49m\u001b[43massign_variable_op\u001b[49m\u001b[43m(\u001b[49m\n\u001b[0;32m    913\u001b[0m \u001b[43m    \u001b[49m\u001b[38;5;28;43mself\u001b[39;49m\u001b[38;5;241;43m.\u001b[39;49m\u001b[43mhandle\u001b[49m\u001b[43m,\u001b[49m\u001b[43m \u001b[49m\u001b[43mvalue_tensor\u001b[49m\u001b[43m,\u001b[49m\u001b[43m \u001b[49m\u001b[43mname\u001b[49m\u001b[38;5;241;43m=\u001b[39;49m\u001b[43mname\u001b[49m\u001b[43m,\u001b[49m\u001b[43m \u001b[49m\u001b[38;5;241;43m*\u001b[39;49m\u001b[38;5;241;43m*\u001b[39;49m\u001b[43mkwargs\u001b[49m\u001b[43m)\u001b[49m\n\u001b[0;32m    914\u001b[0m \u001b[38;5;28;01mif\u001b[39;00m read_value:\n\u001b[0;32m    915\u001b[0m   \u001b[38;5;28;01mreturn\u001b[39;00m \u001b[38;5;28mself\u001b[39m\u001b[38;5;241m.\u001b[39m_lazy_read(assign_op)\n",
      "File \u001b[1;32mc:\\users\\ronildo\\appdata\\local\\programs\\python\\python38\\lib\\site-packages\\tensorflow\\python\\ops\\gen_resource_variable_ops.py:141\u001b[0m, in \u001b[0;36massign_variable_op\u001b[1;34m(resource, value, validate_shape, name)\u001b[0m\n\u001b[0;32m    139\u001b[0m \u001b[38;5;28;01mif\u001b[39;00m tld\u001b[38;5;241m.\u001b[39mis_eager:\n\u001b[0;32m    140\u001b[0m   \u001b[38;5;28;01mtry\u001b[39;00m:\n\u001b[1;32m--> 141\u001b[0m     _result \u001b[38;5;241m=\u001b[39m \u001b[43mpywrap_tfe\u001b[49m\u001b[38;5;241;43m.\u001b[39;49m\u001b[43mTFE_Py_FastPathExecute\u001b[49m\u001b[43m(\u001b[49m\n\u001b[0;32m    142\u001b[0m \u001b[43m      \u001b[49m\u001b[43m_ctx\u001b[49m\u001b[43m,\u001b[49m\u001b[43m \u001b[49m\u001b[38;5;124;43m\"\u001b[39;49m\u001b[38;5;124;43mAssignVariableOp\u001b[39;49m\u001b[38;5;124;43m\"\u001b[39;49m\u001b[43m,\u001b[49m\u001b[43m \u001b[49m\u001b[43mname\u001b[49m\u001b[43m,\u001b[49m\u001b[43m \u001b[49m\u001b[43mresource\u001b[49m\u001b[43m,\u001b[49m\u001b[43m \u001b[49m\u001b[43mvalue\u001b[49m\u001b[43m,\u001b[49m\u001b[43m \u001b[49m\u001b[38;5;124;43m\"\u001b[39;49m\u001b[38;5;124;43mvalidate_shape\u001b[39;49m\u001b[38;5;124;43m\"\u001b[39;49m\u001b[43m,\u001b[49m\n\u001b[0;32m    143\u001b[0m \u001b[43m      \u001b[49m\u001b[43mvalidate_shape\u001b[49m\u001b[43m)\u001b[49m\n\u001b[0;32m    144\u001b[0m     \u001b[38;5;28;01mreturn\u001b[39;00m _result\n\u001b[0;32m    145\u001b[0m   \u001b[38;5;28;01mexcept\u001b[39;00m _core\u001b[38;5;241m.\u001b[39m_NotOkStatusException \u001b[38;5;28;01mas\u001b[39;00m e:\n",
      "\u001b[1;31mKeyboardInterrupt\u001b[0m: "
     ]
    }
   ],
   "source": [
    "nadam = keras.optimizers.Nadam(\n",
    "    learning_rate=0.01, beta_1=0.9, beta_2=0.99, epsilon=1e-07, name=\"Nadam\")\n",
    "\n",
    "model.compile(\n",
    "    optimizer=nadam, \n",
    "    loss=\"mean_absolute_error\", \n",
    "    #loss=keras.losses.LogCosh(),\n",
    "    metrics=[\"mean_absolute_error\"]\n",
    ")\n",
    "\n",
    "es = EarlyStopping(monitor='mean_absolute_error', \n",
    "                   min_delta=1e-07, #min_delta=1e-04, \n",
    "                   patience=50, verbose=1)\n",
    "\n",
    "history = model.fit(X_train, y_train, \n",
    "                    epochs=2000,\n",
    "                    batch_size=X_train.shape[1] * 100,\n",
    "                    callbacks=[TqdmCallback(verbose=0), es],\n",
    "                    validation_data=[X_val, y_val],\n",
    "                    verbose=0)"
   ]
  },
  {
   "cell_type": "code",
   "execution_count": null,
   "id": "f980ae75",
   "metadata": {},
   "outputs": [],
   "source": [
    "test_predicton = model.predict(X_test)\n",
    "mae_error = mean_absolute_error(y_test, test_predicton)\n",
    "print(mae_error)"
   ]
  },
  {
   "cell_type": "code",
   "execution_count": null,
   "id": "f6f84422",
   "metadata": {},
   "outputs": [],
   "source": []
  },
  {
   "cell_type": "code",
   "execution_count": null,
   "id": "7efdbd97",
   "metadata": {},
   "outputs": [],
   "source": []
  },
  {
   "cell_type": "code",
   "execution_count": null,
   "id": "978ee2e1",
   "metadata": {},
   "outputs": [],
   "source": []
  }
 ],
 "metadata": {
  "kernelspec": {
   "display_name": "Python 3 (ipykernel)",
   "language": "python",
   "name": "python3"
  },
  "language_info": {
   "codemirror_mode": {
    "name": "ipython",
    "version": 3
   },
   "file_extension": ".py",
   "mimetype": "text/x-python",
   "name": "python",
   "nbconvert_exporter": "python",
   "pygments_lexer": "ipython3",
   "version": "3.8.10"
  }
 },
 "nbformat": 4,
 "nbformat_minor": 5
}
