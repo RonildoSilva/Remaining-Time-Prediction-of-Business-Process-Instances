{
 "cells": [
  {
   "cell_type": "code",
   "execution_count": 1,
   "id": "5de83000",
   "metadata": {},
   "outputs": [],
   "source": [
    "import warnings\n",
    "warnings.filterwarnings('ignore')"
   ]
  },
  {
   "cell_type": "code",
   "execution_count": 3,
   "id": "160ac911",
   "metadata": {},
   "outputs": [],
   "source": [
    "import os\n",
    "import pandas as pd\n",
    "import math\n",
    "import numpy as np"
   ]
  },
  {
   "cell_type": "markdown",
   "id": "5155655a",
   "metadata": {},
   "source": [
    "Get sorted cases id"
   ]
  },
  {
   "cell_type": "code",
   "execution_count": 4,
   "id": "85fa528f",
   "metadata": {},
   "outputs": [],
   "source": [
    "import wget\n",
    "import os.path\n",
    "\n",
    "if(not os.path.exists('finale.csv')):\n",
    "    wget.download('https://data.4tu.nl/ndownloader/files/23993303')\n",
    "    \n",
    "df_finale = pd.read_csv('finale.csv', index_col=0).reset_index()\n",
    "\n",
    "df_finale['Complete Timestamp'] = pd.to_datetime(df_finale['Complete Timestamp'])\n",
    "sorted_time_cases = df_finale.sort_values('Complete Timestamp')['Case ID'].drop_duplicates().values"
   ]
  },
  {
   "cell_type": "code",
   "execution_count": 5,
   "id": "0bbf1be1",
   "metadata": {},
   "outputs": [],
   "source": [
    "df_final = pd.read_csv('finale_time_features.csv')"
   ]
  },
  {
   "cell_type": "code",
   "execution_count": 6,
   "id": "50f503e1",
   "metadata": {},
   "outputs": [
    {
     "data": {
      "text/plain": [
       "(21348, 23)"
      ]
     },
     "execution_count": 6,
     "metadata": {},
     "output_type": "execute_result"
    }
   ],
   "source": [
    "df_final.shape"
   ]
  },
  {
   "cell_type": "code",
   "execution_count": 7,
   "id": "8f53b043",
   "metadata": {},
   "outputs": [
    {
     "data": {
      "text/plain": [
       "Index(['Unnamed: 0', 'Case ID', 'Activity', 'Resource', 'Complete Timestamp',\n",
       "       'Variant', 'Variant index', 'Variant.1', 'seriousness', 'customer',\n",
       "       'product', 'responsible_section', 'seriousness_2', 'service_level',\n",
       "       'service_type', 'support_section', 'workgroup',\n",
       "       'Complete Timestamp Shift', 'Duration', 'Duration Float',\n",
       "       'Time to conclusion', 'Passed Time', 'Step'],\n",
       "      dtype='object')"
      ]
     },
     "execution_count": 7,
     "metadata": {},
     "output_type": "execute_result"
    }
   ],
   "source": [
    "df_final.columns"
   ]
  },
  {
   "cell_type": "markdown",
   "id": "d6fa9e66",
   "metadata": {},
   "source": [
    "Activity categorization"
   ]
  },
  {
   "cell_type": "code",
   "execution_count": 8,
   "id": "46bb4522",
   "metadata": {},
   "outputs": [],
   "source": [
    "df_final['Activity Cat'] = df_final['Activity'].astype('category').cat.codes"
   ]
  },
  {
   "cell_type": "markdown",
   "id": "c0c4b9aa",
   "metadata": {},
   "source": [
    "Example:"
   ]
  },
  {
   "cell_type": "code",
   "execution_count": 9,
   "id": "5da7c909",
   "metadata": {},
   "outputs": [
    {
     "data": {
      "text/html": [
       "<div>\n",
       "<style scoped>\n",
       "    .dataframe tbody tr th:only-of-type {\n",
       "        vertical-align: middle;\n",
       "    }\n",
       "\n",
       "    .dataframe tbody tr th {\n",
       "        vertical-align: top;\n",
       "    }\n",
       "\n",
       "    .dataframe thead th {\n",
       "        text-align: right;\n",
       "    }\n",
       "</style>\n",
       "<table border=\"1\" class=\"dataframe\">\n",
       "  <thead>\n",
       "    <tr style=\"text-align: right;\">\n",
       "      <th></th>\n",
       "      <th>Activity Cat</th>\n",
       "      <th>Step</th>\n",
       "      <th>Duration Float</th>\n",
       "      <th>Passed Time</th>\n",
       "      <th>Time to conclusion</th>\n",
       "    </tr>\n",
       "  </thead>\n",
       "  <tbody>\n",
       "    <tr>\n",
       "      <th>0</th>\n",
       "      <td>0</td>\n",
       "      <td>1</td>\n",
       "      <td>0.0000</td>\n",
       "      <td>0.0000</td>\n",
       "      <td>31.0087</td>\n",
       "    </tr>\n",
       "    <tr>\n",
       "      <th>1</th>\n",
       "      <td>11</td>\n",
       "      <td>2</td>\n",
       "      <td>16.0084</td>\n",
       "      <td>0.0000</td>\n",
       "      <td>15.0003</td>\n",
       "    </tr>\n",
       "    <tr>\n",
       "      <th>2</th>\n",
       "      <td>9</td>\n",
       "      <td>3</td>\n",
       "      <td>0.0001</td>\n",
       "      <td>15.0002</td>\n",
       "      <td>15.0002</td>\n",
       "    </tr>\n",
       "    <tr>\n",
       "      <th>3</th>\n",
       "      <td>1</td>\n",
       "      <td>4</td>\n",
       "      <td>15.0002</td>\n",
       "      <td>15.0003</td>\n",
       "      <td>0.0000</td>\n",
       "    </tr>\n",
       "    <tr>\n",
       "      <th>4</th>\n",
       "      <td>1</td>\n",
       "      <td>5</td>\n",
       "      <td>0.0000</td>\n",
       "      <td>31.0087</td>\n",
       "      <td>0.0000</td>\n",
       "    </tr>\n",
       "    <tr>\n",
       "      <th>5</th>\n",
       "      <td>0</td>\n",
       "      <td>1</td>\n",
       "      <td>0.0000</td>\n",
       "      <td>0.0000</td>\n",
       "      <td>30.9822</td>\n",
       "    </tr>\n",
       "    <tr>\n",
       "      <th>6</th>\n",
       "      <td>11</td>\n",
       "      <td>2</td>\n",
       "      <td>5.8750</td>\n",
       "      <td>25.1053</td>\n",
       "      <td>25.1072</td>\n",
       "    </tr>\n",
       "    <tr>\n",
       "      <th>7</th>\n",
       "      <td>9</td>\n",
       "      <td>3</td>\n",
       "      <td>0.0019</td>\n",
       "      <td>25.1072</td>\n",
       "      <td>25.1053</td>\n",
       "    </tr>\n",
       "    <tr>\n",
       "      <th>8</th>\n",
       "      <td>1</td>\n",
       "      <td>4</td>\n",
       "      <td>25.1053</td>\n",
       "      <td>30.9822</td>\n",
       "      <td>0.0000</td>\n",
       "    </tr>\n",
       "  </tbody>\n",
       "</table>\n",
       "</div>"
      ],
      "text/plain": [
       "   Activity Cat  Step  Duration Float  Passed Time  Time to conclusion\n",
       "0             0     1          0.0000       0.0000             31.0087\n",
       "1            11     2         16.0084       0.0000             15.0003\n",
       "2             9     3          0.0001      15.0002             15.0002\n",
       "3             1     4         15.0002      15.0003              0.0000\n",
       "4             1     5          0.0000      31.0087              0.0000\n",
       "5             0     1          0.0000       0.0000             30.9822\n",
       "6            11     2          5.8750      25.1053             25.1072\n",
       "7             9     3          0.0019      25.1072             25.1053\n",
       "8             1     4         25.1053      30.9822              0.0000"
      ]
     },
     "execution_count": 9,
     "metadata": {},
     "output_type": "execute_result"
    }
   ],
   "source": [
    "df_final[['Activity Cat', 'Step', 'Duration Float', 'Passed Time', 'Time to conclusion']].head(9)"
   ]
  },
  {
   "cell_type": "markdown",
   "id": "ff15a550",
   "metadata": {},
   "source": [
    "One Hot Encoding"
   ]
  },
  {
   "cell_type": "code",
   "execution_count": 10,
   "id": "3571cea8",
   "metadata": {},
   "outputs": [],
   "source": [
    "one_hot = pd.get_dummies(df_final['Activity Cat'])\n",
    "\n",
    "# Join the encoded df\n",
    "df_final = df_final.join(one_hot)"
   ]
  },
  {
   "cell_type": "markdown",
   "id": "a16d22cf",
   "metadata": {},
   "source": [
    "Spliting data (train, test, validation)"
   ]
  },
  {
   "cell_type": "code",
   "execution_count": 11,
   "id": "c70ad54f",
   "metadata": {},
   "outputs": [],
   "source": [
    "from sklearn.model_selection import train_test_split\n",
    "\n",
    "train_cases, test_cases  = train_test_split(sorted_time_cases, test_size=0.4, \n",
    "                                            shuffle=False, \n",
    "                                            random_state=42\n",
    "                                           )\n",
    "\n",
    "test_cases, val_cases  = train_test_split(test_cases, test_size=0.5, \n",
    "                                            shuffle=False, \n",
    "                                            random_state=42\n",
    "                                           )"
   ]
  },
  {
   "cell_type": "code",
   "execution_count": 22,
   "id": "6db4683f",
   "metadata": {},
   "outputs": [
    {
     "data": {
      "text/plain": [
       "(2748, 916, 916)"
      ]
     },
     "execution_count": 22,
     "metadata": {},
     "output_type": "execute_result"
    }
   ],
   "source": [
    "len(train_cases), len(test_cases), len(val_cases)"
   ]
  },
  {
   "cell_type": "markdown",
   "id": "6614c59b",
   "metadata": {},
   "source": [
    "Dataframes creation"
   ]
  },
  {
   "cell_type": "code",
   "execution_count": 18,
   "id": "d7f21198",
   "metadata": {},
   "outputs": [],
   "source": [
    "df_train = df_final[df_final['Case ID'].isin(train_cases)]\n",
    "df_test = df_final[df_final['Case ID'].isin(test_cases)]\n",
    "df_val = df_final[df_final['Case ID'].isin(val_cases)]"
   ]
  },
  {
   "cell_type": "markdown",
   "id": "a7743de0",
   "metadata": {},
   "source": [
    "Features selection"
   ]
  },
  {
   "cell_type": "code",
   "execution_count": 19,
   "id": "9e5eea89",
   "metadata": {},
   "outputs": [],
   "source": [
    "X_train = df_train[['Step', 'Duration Float', 'Passed Time', 0,1,2,3,4,5,6,7,8,9,10,11,12,13]]\n",
    "X_train = X_train.values\n",
    "\n",
    "y_train = df_train[['Time to conclusion']].values\n",
    "\n",
    "\n",
    "X_test = df_test[['Step', 'Duration Float', 'Passed Time', 0,1,2,3,4,5,6,7,8,9,10,11,12,13]]\n",
    "X_test = X_test.values\n",
    "\n",
    "y_test = df_test[['Time to conclusion']].values\n",
    "\n",
    "\n",
    "X_val = df_val[['Step', 'Duration Float', 'Passed Time', 0,1,2,3,4,5,6,7,8,9,10,11,12,13]]\n",
    "X_val = X_val.values\n",
    "\n",
    "y_val = df_val[['Time to conclusion']].values"
   ]
  },
  {
   "cell_type": "markdown",
   "id": "5981e20d",
   "metadata": {},
   "source": [
    "Machine learning models definition"
   ]
  },
  {
   "cell_type": "code",
   "execution_count": 20,
   "id": "af956a2d",
   "metadata": {},
   "outputs": [],
   "source": [
    "from sklearn.dummy import DummyRegressor\n",
    "from sklearn.linear_model import LinearRegression\n",
    "from sklearn.ensemble import RandomForestRegressor\n",
    "\n",
    "regressors = [  \n",
    "        {'nome' : 'DummyRegressor', 'regressor':  DummyRegressor(strategy='mean')},\n",
    "        {'nome': 'LinearRegression', 'regressor': LinearRegression(fit_intercept=False, normalize=True)},\n",
    "        {'nome': 'RandomForestRegressor',  'regressor': RandomForestRegressor(n_estimators=20, criterion='mse', max_features='auto', \n",
    "                                                                              bootstrap=True, warm_start=True, max_depth=19, random_state=0)},\n",
    "]"
   ]
  },
  {
   "cell_type": "markdown",
   "id": "84ea1fa3",
   "metadata": {},
   "source": [
    "Experiment running"
   ]
  },
  {
   "cell_type": "code",
   "execution_count": 21,
   "id": "21159624",
   "metadata": {},
   "outputs": [
    {
     "data": {
      "text/html": [
       "<div>\n",
       "<style scoped>\n",
       "    .dataframe tbody tr th:only-of-type {\n",
       "        vertical-align: middle;\n",
       "    }\n",
       "\n",
       "    .dataframe tbody tr th {\n",
       "        vertical-align: top;\n",
       "    }\n",
       "\n",
       "    .dataframe thead th {\n",
       "        text-align: right;\n",
       "    }\n",
       "</style>\n",
       "<table border=\"1\" class=\"dataframe\">\n",
       "  <thead>\n",
       "    <tr style=\"text-align: right;\">\n",
       "      <th></th>\n",
       "      <th>Nome do modelo</th>\n",
       "      <th>MAE</th>\n",
       "      <th>MAE (val)</th>\n",
       "    </tr>\n",
       "  </thead>\n",
       "  <tbody>\n",
       "    <tr>\n",
       "      <th>2</th>\n",
       "      <td>RandomForestRegressor</td>\n",
       "      <td>3.009615</td>\n",
       "      <td>4.638135</td>\n",
       "    </tr>\n",
       "    <tr>\n",
       "      <th>1</th>\n",
       "      <td>LinearRegression</td>\n",
       "      <td>5.186106</td>\n",
       "      <td>8.097925</td>\n",
       "    </tr>\n",
       "    <tr>\n",
       "      <th>0</th>\n",
       "      <td>DummyRegressor</td>\n",
       "      <td>15.012374</td>\n",
       "      <td>14.489836</td>\n",
       "    </tr>\n",
       "  </tbody>\n",
       "</table>\n",
       "</div>"
      ],
      "text/plain": [
       "          Nome do modelo        MAE  MAE (val)\n",
       "2  RandomForestRegressor   3.009615   4.638135\n",
       "1       LinearRegression   5.186106   8.097925\n",
       "0         DummyRegressor  15.012374  14.489836"
      ]
     },
     "execution_count": 21,
     "metadata": {},
     "output_type": "execute_result"
    }
   ],
   "source": [
    "import time\n",
    "from sklearn.metrics import mean_absolute_error\n",
    "\n",
    "cols = ['Nome do modelo', 'MAE', 'MAE (val)']\n",
    "\n",
    "data_result = []\n",
    "\n",
    "for regressor in regressors:    \n",
    "    t1 = time.time()\n",
    "    regr = regressor['regressor'].fit(X_train, y_train)\n",
    "    tf = time.time()\n",
    "    \n",
    "    y_pred = regr.predict(X_test)\n",
    "    mae = mean_absolute_error(y_test, y_pred)\n",
    "    \n",
    "    \n",
    "    y_val_pred = regr.predict(X_val)\n",
    "    mae_val = mean_absolute_error(y_val, y_val_pred)\n",
    "    \n",
    "        \n",
    "    line = [\n",
    "        regressor['nome'],\n",
    "        mae,\n",
    "        mae_val\n",
    "    ]\n",
    "    data_result.append(line)\n",
    "\n",
    "pd.DataFrame(data_result, columns=cols).sort_values(by='MAE', ascending=True)"
   ]
  },
  {
   "cell_type": "code",
   "execution_count": null,
   "id": "6d951203",
   "metadata": {},
   "outputs": [],
   "source": []
  }
 ],
 "metadata": {
  "kernelspec": {
   "display_name": "Python 3 (ipykernel)",
   "language": "python",
   "name": "python3"
  },
  "language_info": {
   "codemirror_mode": {
    "name": "ipython",
    "version": 3
   },
   "file_extension": ".py",
   "mimetype": "text/x-python",
   "name": "python",
   "nbconvert_exporter": "python",
   "pygments_lexer": "ipython3",
   "version": "3.8.10"
  }
 },
 "nbformat": 4,
 "nbformat_minor": 5
}
